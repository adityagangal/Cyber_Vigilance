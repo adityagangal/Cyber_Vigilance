{
  "nbformat": 4,
  "nbformat_minor": 0,
  "metadata": {
    "colab": {
      "provenance": []
    },
    "kernelspec": {
      "name": "python3",
      "display_name": "Python 3"
    },
    "language_info": {
      "name": "python"
    }
  },
  "cells": [
    {
      "cell_type": "code",
      "execution_count": null,
      "metadata": {
        "id": "1CZy5A_ZoXme"
      },
      "outputs": [],
      "source": [
        "import numpy as np\n",
        "import pandas as pd"
      ]
    },
    {
      "cell_type": "code",
      "source": [
        "df=pd.read_csv('finall.csv')"
      ],
      "metadata": {
        "id": "48B2xs7noeHd"
      },
      "execution_count": null,
      "outputs": []
    },
    {
      "cell_type": "code",
      "source": [
        "df"
      ],
      "metadata": {
        "id": "s-z5Yt7PpR6a",
        "outputId": "4edf4dde-adc1-4ed7-b61d-67ef54d0e0f2",
        "colab": {
          "base_uri": "https://localhost:8080/",
          "height": 649
        }
      },
      "execution_count": null,
      "outputs": [
        {
          "output_type": "execute_result",
          "data": {
            "text/plain": [
              "                                        Attack Type     Attack_class  \\\n",
              "0                                           Unknown      Cyber Crime   \n",
              "1                                           Unknown      Cyber Crime   \n",
              "2                                           Malware      Cyber Crime   \n",
              "3                                   Targeted Attack  Cyber Espionage   \n",
              "4                                           Unknown      Cyber Crime   \n",
              "...                                             ...              ...   \n",
              "1963                                        Malware      Cyber Crime   \n",
              "1964                                        Malware      Cyber Crime   \n",
              "1965                                        Malware      Cyber Crime   \n",
              "1966                                           DDoS      Cyber Crime   \n",
              "1967  Account Hijacking (Business Email Compromise)      Cyber Crime   \n",
              "\n",
              "                      Author Country  \\\n",
              "0                    Unknown      CA   \n",
              "1                    Unknown      IN   \n",
              "2                    Unknown      JP   \n",
              "3                    Unknown      RU   \n",
              "4        St. Louis Cardinals      US   \n",
              "...                      ...     ...   \n",
              "1963                 Unknown      KR   \n",
              "1964                 Unknown      UK   \n",
              "1965                 Unknown      UK   \n",
              "1966                 Unknown      HK   \n",
              "1967  Attackers from Nigeria      RU   \n",
              "\n",
              "                                            Description  \\\n",
              "0     A server hack at Algonquin College in Ottawa l...   \n",
              "1     The salary accounts of more than 23 employees ...   \n",
              "2     The internal computer network of the state-run...   \n",
              "3     Researchers from Palo Alto Networks reveal the...   \n",
              "4     The St. Louis Cardinals baseball franchise is ...   \n",
              "...                                                 ...   \n",
              "1963  A South Korean Web-hosting service provider, N...   \n",
              "1964  University College London is hit by a ÃÂÃÂ...   \n",
              "1965   The Ulster University is also hit by Ransomware.   \n",
              "1966  Bitfinex, the worldÃÂÃÂÃÂªs largest US do...   \n",
              "1967  Kaspersky Lab reveal the details of a massive ...   \n",
              "\n",
              "                               Organization Name                     Sector  \\\n",
              "0                              Algonquin College                  Education   \n",
              "1                                    Infosys Ltd         Industry: Software   \n",
              "2     Japan Environmental Storage & Safety Corp.  Industry: waste treatment   \n",
              "3                      Confidential Organization                 Government   \n",
              "4                                 Houston Astros          Single Individual   \n",
              "...                                          ...                        ...   \n",
              "1963                                      Nayana            Industry: Telco   \n",
              "1964                   University College London                  Education   \n",
              "1965                           Ulster University                  Education   \n",
              "1966                                    Bitfinex    Cryptocurrency Exchange   \n",
              "1967                   Multiple Industrial Firms               Industry: >1   \n",
              "\n",
              "      Year        Date  \n",
              "0     2021  12-06-2015  \n",
              "1     2021  17-06-2015  \n",
              "2     2021  15-06-2015  \n",
              "3     2021  16-06-2015  \n",
              "4     2021  16-06-2015  \n",
              "...    ...         ...  \n",
              "1963  2023  14-06-2017  \n",
              "1964  2023  15-06-2017  \n",
              "1965  2023  15-06-2017  \n",
              "1966  2023  15-06-2017  \n",
              "1967  2023  15-06-2017  \n",
              "\n",
              "[1968 rows x 9 columns]"
            ],
            "text/html": [
              "\n",
              "  <div id=\"df-e1027471-0736-4d30-9e81-2831e44163c0\" class=\"colab-df-container\">\n",
              "    <div>\n",
              "<style scoped>\n",
              "    .dataframe tbody tr th:only-of-type {\n",
              "        vertical-align: middle;\n",
              "    }\n",
              "\n",
              "    .dataframe tbody tr th {\n",
              "        vertical-align: top;\n",
              "    }\n",
              "\n",
              "    .dataframe thead th {\n",
              "        text-align: right;\n",
              "    }\n",
              "</style>\n",
              "<table border=\"1\" class=\"dataframe\">\n",
              "  <thead>\n",
              "    <tr style=\"text-align: right;\">\n",
              "      <th></th>\n",
              "      <th>Attack Type</th>\n",
              "      <th>Attack_class</th>\n",
              "      <th>Author</th>\n",
              "      <th>Country</th>\n",
              "      <th>Description</th>\n",
              "      <th>Organization Name</th>\n",
              "      <th>Sector</th>\n",
              "      <th>Year</th>\n",
              "      <th>Date</th>\n",
              "    </tr>\n",
              "  </thead>\n",
              "  <tbody>\n",
              "    <tr>\n",
              "      <th>0</th>\n",
              "      <td>Unknown</td>\n",
              "      <td>Cyber Crime</td>\n",
              "      <td>Unknown</td>\n",
              "      <td>CA</td>\n",
              "      <td>A server hack at Algonquin College in Ottawa l...</td>\n",
              "      <td>Algonquin College</td>\n",
              "      <td>Education</td>\n",
              "      <td>2021</td>\n",
              "      <td>12-06-2015</td>\n",
              "    </tr>\n",
              "    <tr>\n",
              "      <th>1</th>\n",
              "      <td>Unknown</td>\n",
              "      <td>Cyber Crime</td>\n",
              "      <td>Unknown</td>\n",
              "      <td>IN</td>\n",
              "      <td>The salary accounts of more than 23 employees ...</td>\n",
              "      <td>Infosys Ltd</td>\n",
              "      <td>Industry: Software</td>\n",
              "      <td>2021</td>\n",
              "      <td>17-06-2015</td>\n",
              "    </tr>\n",
              "    <tr>\n",
              "      <th>2</th>\n",
              "      <td>Malware</td>\n",
              "      <td>Cyber Crime</td>\n",
              "      <td>Unknown</td>\n",
              "      <td>JP</td>\n",
              "      <td>The internal computer network of the state-run...</td>\n",
              "      <td>Japan Environmental Storage &amp; Safety Corp.</td>\n",
              "      <td>Industry: waste treatment</td>\n",
              "      <td>2021</td>\n",
              "      <td>15-06-2015</td>\n",
              "    </tr>\n",
              "    <tr>\n",
              "      <th>3</th>\n",
              "      <td>Targeted Attack</td>\n",
              "      <td>Cyber Espionage</td>\n",
              "      <td>Unknown</td>\n",
              "      <td>RU</td>\n",
              "      <td>Researchers from Palo Alto Networks reveal the...</td>\n",
              "      <td>Confidential Organization</td>\n",
              "      <td>Government</td>\n",
              "      <td>2021</td>\n",
              "      <td>16-06-2015</td>\n",
              "    </tr>\n",
              "    <tr>\n",
              "      <th>4</th>\n",
              "      <td>Unknown</td>\n",
              "      <td>Cyber Crime</td>\n",
              "      <td>St. Louis Cardinals</td>\n",
              "      <td>US</td>\n",
              "      <td>The St. Louis Cardinals baseball franchise is ...</td>\n",
              "      <td>Houston Astros</td>\n",
              "      <td>Single Individual</td>\n",
              "      <td>2021</td>\n",
              "      <td>16-06-2015</td>\n",
              "    </tr>\n",
              "    <tr>\n",
              "      <th>...</th>\n",
              "      <td>...</td>\n",
              "      <td>...</td>\n",
              "      <td>...</td>\n",
              "      <td>...</td>\n",
              "      <td>...</td>\n",
              "      <td>...</td>\n",
              "      <td>...</td>\n",
              "      <td>...</td>\n",
              "      <td>...</td>\n",
              "    </tr>\n",
              "    <tr>\n",
              "      <th>1963</th>\n",
              "      <td>Malware</td>\n",
              "      <td>Cyber Crime</td>\n",
              "      <td>Unknown</td>\n",
              "      <td>KR</td>\n",
              "      <td>A South Korean Web-hosting service provider, N...</td>\n",
              "      <td>Nayana</td>\n",
              "      <td>Industry: Telco</td>\n",
              "      <td>2023</td>\n",
              "      <td>14-06-2017</td>\n",
              "    </tr>\n",
              "    <tr>\n",
              "      <th>1964</th>\n",
              "      <td>Malware</td>\n",
              "      <td>Cyber Crime</td>\n",
              "      <td>Unknown</td>\n",
              "      <td>UK</td>\n",
              "      <td>University College London is hit by a ÃÂÃÂ...</td>\n",
              "      <td>University College London</td>\n",
              "      <td>Education</td>\n",
              "      <td>2023</td>\n",
              "      <td>15-06-2017</td>\n",
              "    </tr>\n",
              "    <tr>\n",
              "      <th>1965</th>\n",
              "      <td>Malware</td>\n",
              "      <td>Cyber Crime</td>\n",
              "      <td>Unknown</td>\n",
              "      <td>UK</td>\n",
              "      <td>The Ulster University is also hit by Ransomware.</td>\n",
              "      <td>Ulster University</td>\n",
              "      <td>Education</td>\n",
              "      <td>2023</td>\n",
              "      <td>15-06-2017</td>\n",
              "    </tr>\n",
              "    <tr>\n",
              "      <th>1966</th>\n",
              "      <td>DDoS</td>\n",
              "      <td>Cyber Crime</td>\n",
              "      <td>Unknown</td>\n",
              "      <td>HK</td>\n",
              "      <td>Bitfinex, the worldÃÂÃÂÃÂªs largest US do...</td>\n",
              "      <td>Bitfinex</td>\n",
              "      <td>Cryptocurrency Exchange</td>\n",
              "      <td>2023</td>\n",
              "      <td>15-06-2017</td>\n",
              "    </tr>\n",
              "    <tr>\n",
              "      <th>1967</th>\n",
              "      <td>Account Hijacking (Business Email Compromise)</td>\n",
              "      <td>Cyber Crime</td>\n",
              "      <td>Attackers from Nigeria</td>\n",
              "      <td>RU</td>\n",
              "      <td>Kaspersky Lab reveal the details of a massive ...</td>\n",
              "      <td>Multiple Industrial Firms</td>\n",
              "      <td>Industry: &gt;1</td>\n",
              "      <td>2023</td>\n",
              "      <td>15-06-2017</td>\n",
              "    </tr>\n",
              "  </tbody>\n",
              "</table>\n",
              "<p>1968 rows × 9 columns</p>\n",
              "</div>\n",
              "    <div class=\"colab-df-buttons\">\n",
              "\n",
              "  <div class=\"colab-df-container\">\n",
              "    <button class=\"colab-df-convert\" onclick=\"convertToInteractive('df-e1027471-0736-4d30-9e81-2831e44163c0')\"\n",
              "            title=\"Convert this dataframe to an interactive table.\"\n",
              "            style=\"display:none;\">\n",
              "\n",
              "  <svg xmlns=\"http://www.w3.org/2000/svg\" height=\"24px\" viewBox=\"0 -960 960 960\">\n",
              "    <path d=\"M120-120v-720h720v720H120Zm60-500h600v-160H180v160Zm220 220h160v-160H400v160Zm0 220h160v-160H400v160ZM180-400h160v-160H180v160Zm440 0h160v-160H620v160ZM180-180h160v-160H180v160Zm440 0h160v-160H620v160Z\"/>\n",
              "  </svg>\n",
              "    </button>\n",
              "\n",
              "  <style>\n",
              "    .colab-df-container {\n",
              "      display:flex;\n",
              "      gap: 12px;\n",
              "    }\n",
              "\n",
              "    .colab-df-convert {\n",
              "      background-color: #E8F0FE;\n",
              "      border: none;\n",
              "      border-radius: 50%;\n",
              "      cursor: pointer;\n",
              "      display: none;\n",
              "      fill: #1967D2;\n",
              "      height: 32px;\n",
              "      padding: 0 0 0 0;\n",
              "      width: 32px;\n",
              "    }\n",
              "\n",
              "    .colab-df-convert:hover {\n",
              "      background-color: #E2EBFA;\n",
              "      box-shadow: 0px 1px 2px rgba(60, 64, 67, 0.3), 0px 1px 3px 1px rgba(60, 64, 67, 0.15);\n",
              "      fill: #174EA6;\n",
              "    }\n",
              "\n",
              "    .colab-df-buttons div {\n",
              "      margin-bottom: 4px;\n",
              "    }\n",
              "\n",
              "    [theme=dark] .colab-df-convert {\n",
              "      background-color: #3B4455;\n",
              "      fill: #D2E3FC;\n",
              "    }\n",
              "\n",
              "    [theme=dark] .colab-df-convert:hover {\n",
              "      background-color: #434B5C;\n",
              "      box-shadow: 0px 1px 3px 1px rgba(0, 0, 0, 0.15);\n",
              "      filter: drop-shadow(0px 1px 2px rgba(0, 0, 0, 0.3));\n",
              "      fill: #FFFFFF;\n",
              "    }\n",
              "  </style>\n",
              "\n",
              "    <script>\n",
              "      const buttonEl =\n",
              "        document.querySelector('#df-e1027471-0736-4d30-9e81-2831e44163c0 button.colab-df-convert');\n",
              "      buttonEl.style.display =\n",
              "        google.colab.kernel.accessAllowed ? 'block' : 'none';\n",
              "\n",
              "      async function convertToInteractive(key) {\n",
              "        const element = document.querySelector('#df-e1027471-0736-4d30-9e81-2831e44163c0');\n",
              "        const dataTable =\n",
              "          await google.colab.kernel.invokeFunction('convertToInteractive',\n",
              "                                                    [key], {});\n",
              "        if (!dataTable) return;\n",
              "\n",
              "        const docLinkHtml = 'Like what you see? Visit the ' +\n",
              "          '<a target=\"_blank\" href=https://colab.research.google.com/notebooks/data_table.ipynb>data table notebook</a>'\n",
              "          + ' to learn more about interactive tables.';\n",
              "        element.innerHTML = '';\n",
              "        dataTable['output_type'] = 'display_data';\n",
              "        await google.colab.output.renderOutput(dataTable, element);\n",
              "        const docLink = document.createElement('div');\n",
              "        docLink.innerHTML = docLinkHtml;\n",
              "        element.appendChild(docLink);\n",
              "      }\n",
              "    </script>\n",
              "  </div>\n",
              "\n",
              "\n",
              "<div id=\"df-4d153ada-9eed-434e-a535-5a158bfa5b08\">\n",
              "  <button class=\"colab-df-quickchart\" onclick=\"quickchart('df-4d153ada-9eed-434e-a535-5a158bfa5b08')\"\n",
              "            title=\"Suggest charts\"\n",
              "            style=\"display:none;\">\n",
              "\n",
              "<svg xmlns=\"http://www.w3.org/2000/svg\" height=\"24px\"viewBox=\"0 0 24 24\"\n",
              "     width=\"24px\">\n",
              "    <g>\n",
              "        <path d=\"M19 3H5c-1.1 0-2 .9-2 2v14c0 1.1.9 2 2 2h14c1.1 0 2-.9 2-2V5c0-1.1-.9-2-2-2zM9 17H7v-7h2v7zm4 0h-2V7h2v10zm4 0h-2v-4h2v4z\"/>\n",
              "    </g>\n",
              "</svg>\n",
              "  </button>\n",
              "\n",
              "<style>\n",
              "  .colab-df-quickchart {\n",
              "      --bg-color: #E8F0FE;\n",
              "      --fill-color: #1967D2;\n",
              "      --hover-bg-color: #E2EBFA;\n",
              "      --hover-fill-color: #174EA6;\n",
              "      --disabled-fill-color: #AAA;\n",
              "      --disabled-bg-color: #DDD;\n",
              "  }\n",
              "\n",
              "  [theme=dark] .colab-df-quickchart {\n",
              "      --bg-color: #3B4455;\n",
              "      --fill-color: #D2E3FC;\n",
              "      --hover-bg-color: #434B5C;\n",
              "      --hover-fill-color: #FFFFFF;\n",
              "      --disabled-bg-color: #3B4455;\n",
              "      --disabled-fill-color: #666;\n",
              "  }\n",
              "\n",
              "  .colab-df-quickchart {\n",
              "    background-color: var(--bg-color);\n",
              "    border: none;\n",
              "    border-radius: 50%;\n",
              "    cursor: pointer;\n",
              "    display: none;\n",
              "    fill: var(--fill-color);\n",
              "    height: 32px;\n",
              "    padding: 0;\n",
              "    width: 32px;\n",
              "  }\n",
              "\n",
              "  .colab-df-quickchart:hover {\n",
              "    background-color: var(--hover-bg-color);\n",
              "    box-shadow: 0 1px 2px rgba(60, 64, 67, 0.3), 0 1px 3px 1px rgba(60, 64, 67, 0.15);\n",
              "    fill: var(--button-hover-fill-color);\n",
              "  }\n",
              "\n",
              "  .colab-df-quickchart-complete:disabled,\n",
              "  .colab-df-quickchart-complete:disabled:hover {\n",
              "    background-color: var(--disabled-bg-color);\n",
              "    fill: var(--disabled-fill-color);\n",
              "    box-shadow: none;\n",
              "  }\n",
              "\n",
              "  .colab-df-spinner {\n",
              "    border: 2px solid var(--fill-color);\n",
              "    border-color: transparent;\n",
              "    border-bottom-color: var(--fill-color);\n",
              "    animation:\n",
              "      spin 1s steps(1) infinite;\n",
              "  }\n",
              "\n",
              "  @keyframes spin {\n",
              "    0% {\n",
              "      border-color: transparent;\n",
              "      border-bottom-color: var(--fill-color);\n",
              "      border-left-color: var(--fill-color);\n",
              "    }\n",
              "    20% {\n",
              "      border-color: transparent;\n",
              "      border-left-color: var(--fill-color);\n",
              "      border-top-color: var(--fill-color);\n",
              "    }\n",
              "    30% {\n",
              "      border-color: transparent;\n",
              "      border-left-color: var(--fill-color);\n",
              "      border-top-color: var(--fill-color);\n",
              "      border-right-color: var(--fill-color);\n",
              "    }\n",
              "    40% {\n",
              "      border-color: transparent;\n",
              "      border-right-color: var(--fill-color);\n",
              "      border-top-color: var(--fill-color);\n",
              "    }\n",
              "    60% {\n",
              "      border-color: transparent;\n",
              "      border-right-color: var(--fill-color);\n",
              "    }\n",
              "    80% {\n",
              "      border-color: transparent;\n",
              "      border-right-color: var(--fill-color);\n",
              "      border-bottom-color: var(--fill-color);\n",
              "    }\n",
              "    90% {\n",
              "      border-color: transparent;\n",
              "      border-bottom-color: var(--fill-color);\n",
              "    }\n",
              "  }\n",
              "</style>\n",
              "\n",
              "  <script>\n",
              "    async function quickchart(key) {\n",
              "      const quickchartButtonEl =\n",
              "        document.querySelector('#' + key + ' button');\n",
              "      quickchartButtonEl.disabled = true;  // To prevent multiple clicks.\n",
              "      quickchartButtonEl.classList.add('colab-df-spinner');\n",
              "      try {\n",
              "        const charts = await google.colab.kernel.invokeFunction(\n",
              "            'suggestCharts', [key], {});\n",
              "      } catch (error) {\n",
              "        console.error('Error during call to suggestCharts:', error);\n",
              "      }\n",
              "      quickchartButtonEl.classList.remove('colab-df-spinner');\n",
              "      quickchartButtonEl.classList.add('colab-df-quickchart-complete');\n",
              "    }\n",
              "    (() => {\n",
              "      let quickchartButtonEl =\n",
              "        document.querySelector('#df-4d153ada-9eed-434e-a535-5a158bfa5b08 button');\n",
              "      quickchartButtonEl.style.display =\n",
              "        google.colab.kernel.accessAllowed ? 'block' : 'none';\n",
              "    })();\n",
              "  </script>\n",
              "</div>\n",
              "\n",
              "  <div id=\"id_6dc16661-131f-4d9e-893b-f202ea7c42e1\">\n",
              "    <style>\n",
              "      .colab-df-generate {\n",
              "        background-color: #E8F0FE;\n",
              "        border: none;\n",
              "        border-radius: 50%;\n",
              "        cursor: pointer;\n",
              "        display: none;\n",
              "        fill: #1967D2;\n",
              "        height: 32px;\n",
              "        padding: 0 0 0 0;\n",
              "        width: 32px;\n",
              "      }\n",
              "\n",
              "      .colab-df-generate:hover {\n",
              "        background-color: #E2EBFA;\n",
              "        box-shadow: 0px 1px 2px rgba(60, 64, 67, 0.3), 0px 1px 3px 1px rgba(60, 64, 67, 0.15);\n",
              "        fill: #174EA6;\n",
              "      }\n",
              "\n",
              "      [theme=dark] .colab-df-generate {\n",
              "        background-color: #3B4455;\n",
              "        fill: #D2E3FC;\n",
              "      }\n",
              "\n",
              "      [theme=dark] .colab-df-generate:hover {\n",
              "        background-color: #434B5C;\n",
              "        box-shadow: 0px 1px 3px 1px rgba(0, 0, 0, 0.15);\n",
              "        filter: drop-shadow(0px 1px 2px rgba(0, 0, 0, 0.3));\n",
              "        fill: #FFFFFF;\n",
              "      }\n",
              "    </style>\n",
              "    <button class=\"colab-df-generate\" onclick=\"generateWithVariable('df')\"\n",
              "            title=\"Generate code using this dataframe.\"\n",
              "            style=\"display:none;\">\n",
              "\n",
              "  <svg xmlns=\"http://www.w3.org/2000/svg\" height=\"24px\"viewBox=\"0 0 24 24\"\n",
              "       width=\"24px\">\n",
              "    <path d=\"M7,19H8.4L18.45,9,17,7.55,7,17.6ZM5,21V16.75L18.45,3.32a2,2,0,0,1,2.83,0l1.4,1.43a1.91,1.91,0,0,1,.58,1.4,1.91,1.91,0,0,1-.58,1.4L9.25,21ZM18.45,9,17,7.55Zm-12,3A5.31,5.31,0,0,0,4.9,8.1,5.31,5.31,0,0,0,1,6.5,5.31,5.31,0,0,0,4.9,4.9,5.31,5.31,0,0,0,6.5,1,5.31,5.31,0,0,0,8.1,4.9,5.31,5.31,0,0,0,12,6.5,5.46,5.46,0,0,0,6.5,12Z\"/>\n",
              "  </svg>\n",
              "    </button>\n",
              "    <script>\n",
              "      (() => {\n",
              "      const buttonEl =\n",
              "        document.querySelector('#id_6dc16661-131f-4d9e-893b-f202ea7c42e1 button.colab-df-generate');\n",
              "      buttonEl.style.display =\n",
              "        google.colab.kernel.accessAllowed ? 'block' : 'none';\n",
              "\n",
              "      buttonEl.onclick = () => {\n",
              "        google.colab.notebook.generateWithVariable('df');\n",
              "      }\n",
              "      })();\n",
              "    </script>\n",
              "  </div>\n",
              "\n",
              "    </div>\n",
              "  </div>\n"
            ],
            "application/vnd.google.colaboratory.intrinsic+json": {
              "type": "dataframe",
              "variable_name": "df",
              "summary": "{\n  \"name\": \"df\",\n  \"rows\": 1968,\n  \"fields\": [\n    {\n      \"column\": \"Attack Type\",\n      \"properties\": {\n        \"dtype\": \"category\",\n        \"num_unique_values\": 127,\n        \"samples\": [\n          \"Electronic Device\",\n          \"Apache Struts Vulnerability\",\n          \"RDP Vulnerability\"\n        ],\n        \"semantic_type\": \"\",\n        \"description\": \"\"\n      }\n    },\n    {\n      \"column\": \"Attack_class\",\n      \"properties\": {\n        \"dtype\": \"category\",\n        \"num_unique_values\": 4,\n        \"samples\": [\n          \"Cyber Espionage\",\n          \"Cyber War\",\n          \"Cyber Crime\"\n        ],\n        \"semantic_type\": \"\",\n        \"description\": \"\"\n      }\n    },\n    {\n      \"column\": \"Author\",\n      \"properties\": {\n        \"dtype\": \"category\",\n        \"num_unique_values\": 526,\n        \"samples\": [\n          \"OurMine Team\",\n          \"Daykalif\",\n          \"@ro0ted\"\n        ],\n        \"semantic_type\": \"\",\n        \"description\": \"\"\n      }\n    },\n    {\n      \"column\": \"Country\",\n      \"properties\": {\n        \"dtype\": \"category\",\n        \"num_unique_values\": 132,\n        \"samples\": [\n          \"LB\",\n          \"BO\",\n          \"MY\"\n        ],\n        \"semantic_type\": \"\",\n        \"description\": \"\"\n      }\n    },\n    {\n      \"column\": \"Description\",\n      \"properties\": {\n        \"dtype\": \"string\",\n        \"num_unique_values\": 1963,\n        \"samples\": [\n          \"The website of Taiwan\\u00c3\\u0082\\u00c2\\u0089\\u00c3\\u0083\\u00c2\\u009b\\u00c3\\u0082\\u00c2\\u00aas ruling Democratic Progressive Party is under attack from cyber spies seeking to profile visitors to the site, part of a campaign to get information about the party\\u00c3\\u0082\\u00c2\\u0089\\u00c3\\u0083\\u00c2\\u009b\\u00c3\\u0082\\u00c2\\u00aas policies following its election victory in January.\",\n          \"An Albanian hacker named nofawkX-al defaces the website of the Romanian Football Federation (FRF), two days after the Albanian football team defeated the Romanian football team at the 2016 European Football Championship.\",\n          \"Several security companies report that the attackers that targeted Apple, Facebook, Microsoft, and Twitter two years ago in a series of high-profile hacks are back and got bigger. Targets include at least 40 companies in different sectors. The group is known as Butterfly, Morpho, Wild Neutron or Jripbot.\"\n        ],\n        \"semantic_type\": \"\",\n        \"description\": \"\"\n      }\n    },\n    {\n      \"column\": \"Organization Name\",\n      \"properties\": {\n        \"dtype\": \"string\",\n        \"num_unique_values\": 1819,\n        \"samples\": [\n          \"Several Chinese Internet Giants\",\n          \"Trillian\",\n          \"24 Saudi Government Websites\"\n        ],\n        \"semantic_type\": \"\",\n        \"description\": \"\"\n      }\n    },\n    {\n      \"column\": \"Sector\",\n      \"properties\": {\n        \"dtype\": \"category\",\n        \"num_unique_values\": 365,\n        \"samples\": [\n          \"Org: Religion\",\n          \"Organization: Software,\\r\",\n          \"Bitcoin Cloud Mining\"\n        ],\n        \"semantic_type\": \"\",\n        \"description\": \"\"\n      }\n    },\n    {\n      \"column\": \"Year\",\n      \"properties\": {\n        \"dtype\": \"number\",\n        \"std\": 0,\n        \"min\": 2021,\n        \"max\": 2023,\n        \"num_unique_values\": 3,\n        \"samples\": [\n          2021,\n          2022,\n          2023\n        ],\n        \"semantic_type\": \"\",\n        \"description\": \"\"\n      }\n    },\n    {\n      \"column\": \"Date\",\n      \"properties\": {\n        \"dtype\": \"category\",\n        \"num_unique_values\": 663,\n        \"samples\": [\n          \"08-06-2016\",\n          \"13-03-2017\",\n          \"01-01-2017\"\n        ],\n        \"semantic_type\": \"\",\n        \"description\": \"\"\n      }\n    }\n  ]\n}"
            }
          },
          "metadata": {},
          "execution_count": 5
        }
      ]
    },
    {
      "cell_type": "code",
      "source": [
        "df['Country'].value_counts()"
      ],
      "metadata": {
        "id": "oFhquVUPpSmv",
        "colab": {
          "base_uri": "https://localhost:8080/"
        },
        "outputId": "20e455aa-933d-4a2d-a9dd-264df36b4eed"
      },
      "execution_count": null,
      "outputs": [
        {
          "output_type": "execute_result",
          "data": {
            "text/plain": [
              "Country\n",
              "US                         795\n",
              "RU                         232\n",
              "UK                         107\n",
              "IN                          64\n",
              "CA                          49\n",
              "                          ... \n",
              "AO                           1\n",
              "DO GG MV NL PA KE MX BA      1\n",
              "JO KR FR ME                  1\n",
              "FJ                           1\n",
              "UA  AU                       1\n",
              "Name: count, Length: 132, dtype: int64"
            ]
          },
          "metadata": {},
          "execution_count": 8
        }
      ]
    },
    {
      "cell_type": "code",
      "source": [
        "df[df['Country']=='US,']"
      ],
      "metadata": {
        "colab": {
          "base_uri": "https://localhost:8080/",
          "height": 53
        },
        "id": "9xD7Ls5_q6g7",
        "outputId": "ffb9beb9-5b43-4efb-9afd-d7931d6767e2"
      },
      "execution_count": null,
      "outputs": [
        {
          "output_type": "execute_result",
          "data": {
            "text/plain": [
              "Empty DataFrame\n",
              "Columns: [Attack Type, Attack_class, Author, Country, Description, Organization Name, Sector, Year, Date]\n",
              "Index: []"
            ],
            "text/html": [
              "\n",
              "  <div id=\"df-1e84663f-7ebb-43b3-a12e-e0ce23043bc2\" class=\"colab-df-container\">\n",
              "    <div>\n",
              "<style scoped>\n",
              "    .dataframe tbody tr th:only-of-type {\n",
              "        vertical-align: middle;\n",
              "    }\n",
              "\n",
              "    .dataframe tbody tr th {\n",
              "        vertical-align: top;\n",
              "    }\n",
              "\n",
              "    .dataframe thead th {\n",
              "        text-align: right;\n",
              "    }\n",
              "</style>\n",
              "<table border=\"1\" class=\"dataframe\">\n",
              "  <thead>\n",
              "    <tr style=\"text-align: right;\">\n",
              "      <th></th>\n",
              "      <th>Attack Type</th>\n",
              "      <th>Attack_class</th>\n",
              "      <th>Author</th>\n",
              "      <th>Country</th>\n",
              "      <th>Description</th>\n",
              "      <th>Organization Name</th>\n",
              "      <th>Sector</th>\n",
              "      <th>Year</th>\n",
              "      <th>Date</th>\n",
              "    </tr>\n",
              "  </thead>\n",
              "  <tbody>\n",
              "  </tbody>\n",
              "</table>\n",
              "</div>\n",
              "    <div class=\"colab-df-buttons\">\n",
              "\n",
              "  <div class=\"colab-df-container\">\n",
              "    <button class=\"colab-df-convert\" onclick=\"convertToInteractive('df-1e84663f-7ebb-43b3-a12e-e0ce23043bc2')\"\n",
              "            title=\"Convert this dataframe to an interactive table.\"\n",
              "            style=\"display:none;\">\n",
              "\n",
              "  <svg xmlns=\"http://www.w3.org/2000/svg\" height=\"24px\" viewBox=\"0 -960 960 960\">\n",
              "    <path d=\"M120-120v-720h720v720H120Zm60-500h600v-160H180v160Zm220 220h160v-160H400v160Zm0 220h160v-160H400v160ZM180-400h160v-160H180v160Zm440 0h160v-160H620v160ZM180-180h160v-160H180v160Zm440 0h160v-160H620v160Z\"/>\n",
              "  </svg>\n",
              "    </button>\n",
              "\n",
              "  <style>\n",
              "    .colab-df-container {\n",
              "      display:flex;\n",
              "      gap: 12px;\n",
              "    }\n",
              "\n",
              "    .colab-df-convert {\n",
              "      background-color: #E8F0FE;\n",
              "      border: none;\n",
              "      border-radius: 50%;\n",
              "      cursor: pointer;\n",
              "      display: none;\n",
              "      fill: #1967D2;\n",
              "      height: 32px;\n",
              "      padding: 0 0 0 0;\n",
              "      width: 32px;\n",
              "    }\n",
              "\n",
              "    .colab-df-convert:hover {\n",
              "      background-color: #E2EBFA;\n",
              "      box-shadow: 0px 1px 2px rgba(60, 64, 67, 0.3), 0px 1px 3px 1px rgba(60, 64, 67, 0.15);\n",
              "      fill: #174EA6;\n",
              "    }\n",
              "\n",
              "    .colab-df-buttons div {\n",
              "      margin-bottom: 4px;\n",
              "    }\n",
              "\n",
              "    [theme=dark] .colab-df-convert {\n",
              "      background-color: #3B4455;\n",
              "      fill: #D2E3FC;\n",
              "    }\n",
              "\n",
              "    [theme=dark] .colab-df-convert:hover {\n",
              "      background-color: #434B5C;\n",
              "      box-shadow: 0px 1px 3px 1px rgba(0, 0, 0, 0.15);\n",
              "      filter: drop-shadow(0px 1px 2px rgba(0, 0, 0, 0.3));\n",
              "      fill: #FFFFFF;\n",
              "    }\n",
              "  </style>\n",
              "\n",
              "    <script>\n",
              "      const buttonEl =\n",
              "        document.querySelector('#df-1e84663f-7ebb-43b3-a12e-e0ce23043bc2 button.colab-df-convert');\n",
              "      buttonEl.style.display =\n",
              "        google.colab.kernel.accessAllowed ? 'block' : 'none';\n",
              "\n",
              "      async function convertToInteractive(key) {\n",
              "        const element = document.querySelector('#df-1e84663f-7ebb-43b3-a12e-e0ce23043bc2');\n",
              "        const dataTable =\n",
              "          await google.colab.kernel.invokeFunction('convertToInteractive',\n",
              "                                                    [key], {});\n",
              "        if (!dataTable) return;\n",
              "\n",
              "        const docLinkHtml = 'Like what you see? Visit the ' +\n",
              "          '<a target=\"_blank\" href=https://colab.research.google.com/notebooks/data_table.ipynb>data table notebook</a>'\n",
              "          + ' to learn more about interactive tables.';\n",
              "        element.innerHTML = '';\n",
              "        dataTable['output_type'] = 'display_data';\n",
              "        await google.colab.output.renderOutput(dataTable, element);\n",
              "        const docLink = document.createElement('div');\n",
              "        docLink.innerHTML = docLinkHtml;\n",
              "        element.appendChild(docLink);\n",
              "      }\n",
              "    </script>\n",
              "  </div>\n",
              "\n",
              "\n",
              "    </div>\n",
              "  </div>\n"
            ],
            "application/vnd.google.colaboratory.intrinsic+json": {
              "type": "dataframe",
              "repr_error": "Out of range float values are not JSON compliant: nan"
            }
          },
          "metadata": {},
          "execution_count": 10
        }
      ]
    },
    {
      "cell_type": "code",
      "source": [
        "df['Year'].value_counts()"
      ],
      "metadata": {
        "colab": {
          "base_uri": "https://localhost:8080/"
        },
        "id": "VCp_Acs_qys8",
        "outputId": "616d83fb-474e-44ce-f7a4-13a88d5d777f"
      },
      "execution_count": null,
      "outputs": [
        {
          "output_type": "execute_result",
          "data": {
            "text/plain": [
              "Year\n",
              "2022    1090\n",
              "2021     466\n",
              "2023     412\n",
              "Name: count, dtype: int64"
            ]
          },
          "metadata": {},
          "execution_count": 11
        }
      ]
    },
    {
      "cell_type": "code",
      "source": [
        "# prompt: code to display number of Attack Type for each year\n",
        "\n",
        "df.groupby('Year')['Attack Type'].value_counts()\n"
      ],
      "metadata": {
        "colab": {
          "base_uri": "https://localhost:8080/"
        },
        "id": "XEIGaUWCrNkO",
        "outputId": "e9094d23-4675-4d24-f03f-2bfe713b3bc7"
      },
      "execution_count": null,
      "outputs": [
        {
          "output_type": "execute_result",
          "data": {
            "text/plain": [
              "Year  Attack Type             \n",
              "2021  Unknown                     124\n",
              "      SQLi                         69\n",
              "      DDoS                         60\n",
              "      Targeted Attack              56\n",
              "      Defacement                   48\n",
              "                                 ... \n",
              "2023  Malicious Code Injection      1\n",
              "      Malicious Code                1\n",
              "      LFI/SQLi                      1\n",
              "      Industry: Securities          1\n",
              "      Forged Cookie                 1\n",
              "Name: count, Length: 156, dtype: int64"
            ]
          },
          "metadata": {},
          "execution_count": 12
        }
      ]
    },
    {
      "cell_type": "code",
      "source": [
        "# prompt: count of malware attacks in 2023 in education sector\n",
        "\n",
        "malware_attacks_2023_education = df[(df['Year'] == 2023) & (df['Sector'] == 'Education') & (df['Attack Type'] == 'Malware')].shape[0]\n",
        "print(f\"Number of malware attacks in 2023 in the education sector: {malware_attacks_2023_education}\")\n"
      ],
      "metadata": {
        "colab": {
          "base_uri": "https://localhost:8080/"
        },
        "id": "eOrPTCfOuf9Z",
        "outputId": "21edcdde-025d-4868-da75-927fe662a5b5"
      },
      "execution_count": null,
      "outputs": [
        {
          "output_type": "stream",
          "name": "stdout",
          "text": [
            "Number of malware attacks in 2023 in the education sector: 10\n"
          ]
        }
      ]
    },
    {
      "cell_type": "code",
      "source": [
        "print(df['Country'].dtype)\n",
        "print(df['Country'].isnull().sum())"
      ],
      "metadata": {
        "colab": {
          "base_uri": "https://localhost:8080/"
        },
        "id": "ZDC34__hxR-J",
        "outputId": "185acb23-202d-4a4b-cba0-d958448d6348"
      },
      "execution_count": null,
      "outputs": [
        {
          "output_type": "stream",
          "name": "stdout",
          "text": [
            "object\n",
            "59\n"
          ]
        }
      ]
    },
    {
      "cell_type": "code",
      "source": [
        "df['Country'].fillna('Unknown', inplace=True)"
      ],
      "metadata": {
        "id": "mA1ALgfyzpis"
      },
      "execution_count": null,
      "outputs": []
    },
    {
      "cell_type": "code",
      "source": [
        "df['Country'].value_counts()"
      ],
      "metadata": {
        "colab": {
          "base_uri": "https://localhost:8080/"
        },
        "id": "iyBUsrbZw4Cu",
        "outputId": "4fd25440-e213-4da1-8a1b-ec029619ba38"
      },
      "execution_count": null,
      "outputs": [
        {
          "output_type": "execute_result",
          "data": {
            "text/plain": [
              "Country\n",
              "US                         823\n",
              "RU                         232\n",
              "UK                         114\n",
              "IN                          64\n",
              "Unknown                     59\n",
              "                          ... \n",
              "AO                           1\n",
              "DO GG MV NL PA KE MX BA      1\n",
              "JO KR FR ME                  1\n",
              "FJ                           1\n",
              "UA  AU                       1\n",
              "Name: count, Length: 129, dtype: int64"
            ]
          },
          "metadata": {},
          "execution_count": 49
        }
      ]
    },
    {
      "cell_type": "code",
      "source": [
        "(df['Author']=='Anonymous,\\r').sum()"
      ],
      "metadata": {
        "colab": {
          "base_uri": "https://localhost:8080/"
        },
        "id": "MlyZjVK0w6fL",
        "outputId": "0f922d3e-125c-473f-954f-d0968e66ecaa"
      },
      "execution_count": null,
      "outputs": [
        {
          "output_type": "execute_result",
          "data": {
            "text/plain": [
              "4"
            ]
          },
          "metadata": {},
          "execution_count": 51
        }
      ]
    },
    {
      "cell_type": "code",
      "source": [
        "df.iloc[80]"
      ],
      "metadata": {
        "colab": {
          "base_uri": "https://localhost:8080/"
        },
        "id": "wpU-w92Rz_ug",
        "outputId": "3cb000b3-01d6-49d7-95e8-098c6ff7a329"
      },
      "execution_count": null,
      "outputs": [
        {
          "output_type": "execute_result",
          "data": {
            "text/plain": [
              "Attack Type                                                    Unknown\n",
              "Attack_class                                               Cyber Crime\n",
              "Author                                                         Unknown\n",
              "Country                                                          US,\\r\n",
              "Description          Pharmacy chain CVS takes down its online photo...\n",
              "Organization Name    PNI Digital Media, affecting:,\\rCVSphoto.com,\\...\n",
              "Sector                                       Industry: Online Services\n",
              "Year                                                              2021\n",
              "Date                                                        17-07-2015\n",
              "Name: 80, dtype: object"
            ]
          },
          "metadata": {},
          "execution_count": 47
        }
      ]
    },
    {
      "cell_type": "code",
      "source": [
        "# prompt: there are country ending with ,\\r replce it with only the country name. e.g US,\\r with US\n",
        "\n",
        "df['Country'] = df['Country'].apply(lambda x: x[:-2] if x.endswith(',\\r') else x)\n"
      ],
      "metadata": {
        "id": "Xbb3c89w0S9v"
      },
      "execution_count": null,
      "outputs": []
    },
    {
      "cell_type": "code",
      "source": [
        "df['Author'].value_counts()"
      ],
      "metadata": {
        "colab": {
          "base_uri": "https://localhost:8080/"
        },
        "id": "DoQMdDJA1ErQ",
        "outputId": "6dd50b86-96e6-423b-8c0c-9c9cc424df17"
      },
      "execution_count": null,
      "outputs": [
        {
          "output_type": "execute_result",
          "data": {
            "text/plain": [
              "Author\n",
              "Unknown                                     1112\n",
              "Anonymous                                     79\n",
              "OurMine                                       25\n",
              "Kapustkiy                                     12\n",
              "North Korea                                   10\n",
              "                                            ... \n",
              "ISIS                                           1\n",
              "Sc0rp!n , from Muslim Cyber Army               1\n",
              "New World Hacktivists (NWH)                    1\n",
              "Mr 4nOnymOus (part of 034th adr355 Cr3w)       1\n",
              "Attackers from Nigeria                         1\n",
              "Name: count, Length: 522, dtype: int64"
            ]
          },
          "metadata": {},
          "execution_count": 53
        }
      ]
    },
    {
      "cell_type": "code",
      "source": [
        "# prompt: there are country ending with ,\\r replce it with only the country name. e.g US,\\r with US\n",
        "\n",
        "df['Author'] = df['Author'].apply(lambda x: x[:-2] if x.endswith(',\\r') else x)\n"
      ],
      "metadata": {
        "id": "B4Fgchc41fzG"
      },
      "execution_count": null,
      "outputs": []
    },
    {
      "cell_type": "code",
      "source": [
        "df.to_csv('finall.csv')"
      ],
      "metadata": {
        "id": "9WjJkZk81s_j"
      },
      "execution_count": null,
      "outputs": []
    },
    {
      "cell_type": "code",
      "source": [],
      "metadata": {
        "id": "YyZjmC6t15YA"
      },
      "execution_count": null,
      "outputs": []
    }
  ]
}