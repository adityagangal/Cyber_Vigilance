{
  "cells": [
    {
      "cell_type": "code",
      "execution_count": null,
      "metadata": {
        "id": "aUOgCN-8RNqK"
      },
      "outputs": [],
      "source": [
        "import numpy as np\n",
        "import pandas as pd\n",
        "from matplotlib import pyplot as plt\n",
        "%matplotlib inline\n",
        "plt.rcParams['figure.figsize'] = (13, 7)\n",
        "plt.rcParams['font.size'] = 15.0\n",
        "\n",
        "import seaborn as sns\n",
        "from collections import Counter\n",
        "import nltk\n",
        "from nltk.corpus import brown\n",
        "import re\n",
        "import os\n",
        "import codecs\n",
        "from sklearn import feature_extraction"
      ]
    },
    {
      "cell_type": "code",
      "execution_count": null,
      "metadata": {
        "id": "L2GbLIhPRNqL"
      },
      "outputs": [],
      "source": [
        "hack = pd.read_csv('/content/b_database.csv',encoding = \"ISO-8859-1\")"
      ]
    },
    {
      "cell_type": "code",
      "execution_count": null,
      "metadata": {
        "id": "2rr_3nBQ3lAl"
      },
      "outputs": [],
      "source": [
        "hack = pd.read_csv('/content/finall.csv',encoding = \"ISO-8859-1\")"
      ]
    },
    {
      "cell_type": "code",
      "execution_count": null,
      "metadata": {
        "colab": {
          "base_uri": "https://localhost:8080/"
        },
        "id": "cloq5XErRNqM",
        "outputId": "28286179-ad23-4e79-bb97-d8634ea2ba16"
      },
      "outputs": [
        {
          "data": {
            "text/plain": [
              "(1969, 10)"
            ]
          },
          "execution_count": 3,
          "metadata": {},
          "output_type": "execute_result"
        }
      ],
      "source": [
        "hack.shape"
      ]
    },
    {
      "cell_type": "code",
      "execution_count": null,
      "metadata": {
        "colab": {
          "base_uri": "https://localhost:8080/",
          "height": 860
        },
        "id": "d7uURH21RNqM",
        "outputId": "d3b6fe70-f04e-468b-df39-d8868b78a3db"
      },
      "outputs": [
        {
          "data": {
            "application/vnd.google.colaboratory.intrinsic+json": {
              "summary": "{\n  \"name\": \"hack\",\n  \"rows\": 1969,\n  \"fields\": [\n    {\n      \"column\": \"Unnamed: 0\",\n      \"properties\": {\n        \"dtype\": \"number\",\n        \"std\": 568,\n        \"min\": 0,\n        \"max\": 1968,\n        \"num_unique_values\": 1969,\n        \"samples\": [\n          752,\n          765,\n          1654\n        ],\n        \"semantic_type\": \"\",\n        \"description\": \"\"\n      }\n    },\n    {\n      \"column\": \"Attack Type\",\n      \"properties\": {\n        \"dtype\": \"category\",\n        \"num_unique_values\": 128,\n        \"samples\": [\n          \"Outdated Joomla\",\n          \"HTML redirection\",\n          \"Targeted Attack via Watering Hole\"\n        ],\n        \"semantic_type\": \"\",\n        \"description\": \"\"\n      }\n    },\n    {\n      \"column\": \"Attack_class\",\n      \"properties\": {\n        \"dtype\": \"category\",\n        \"num_unique_values\": 4,\n        \"samples\": [\n          \"Cyber Espionage\",\n          \"Cyber War\",\n          \"Cyber Crime\"\n        ],\n        \"semantic_type\": \"\",\n        \"description\": \"\"\n      }\n    },\n    {\n      \"column\": \"Author\",\n      \"properties\": {\n        \"dtype\": \"category\",\n        \"num_unique_values\": 527,\n        \"samples\": [\n          \"OurMine Team\",\n          \"websites-hunter AKA @websitehunter\",\n          \"@ro0ted\"\n        ],\n        \"semantic_type\": \"\",\n        \"description\": \"\"\n      }\n    },\n    {\n      \"column\": \"Country\",\n      \"properties\": {\n        \"dtype\": \"category\",\n        \"num_unique_values\": 132,\n        \"samples\": [\n          \"LB\",\n          \"BO\",\n          \"MY\"\n        ],\n        \"semantic_type\": \"\",\n        \"description\": \"\"\n      }\n    },\n    {\n      \"column\": \"Description\",\n      \"properties\": {\n        \"dtype\": \"string\",\n        \"num_unique_values\": 1963,\n        \"samples\": [\n          \"The website of Taiwan\\u00c3\\u0082\\u00c2\\u0089\\u00c3\\u0083\\u00c2\\u009b\\u00c3\\u0082\\u00c2\\u00aas ruling Democratic Progressive Party is under attack from cyber spies seeking to profile visitors to the site, part of a campaign to get information about the party\\u00c3\\u0082\\u00c2\\u0089\\u00c3\\u0083\\u00c2\\u009b\\u00c3\\u0082\\u00c2\\u00aas policies following its election victory in January.\",\n          \"An Albanian hacker named nofawkX-al defaces the website of the Romanian Football Federation (FRF), two days after the Albanian football team defeated the Romanian football team at the 2016 European Football Championship.\",\n          \"Several security companies report that the attackers that targeted Apple, Facebook, Microsoft, and Twitter two years ago in a series of high-profile hacks are back and got bigger. Targets include at least 40 companies in different sectors. The group is known as Butterfly, Morpho, Wild Neutron or Jripbot.\"\n        ],\n        \"semantic_type\": \"\",\n        \"description\": \"\"\n      }\n    },\n    {\n      \"column\": \"Organization Name\",\n      \"properties\": {\n        \"dtype\": \"string\",\n        \"num_unique_values\": 1820,\n        \"samples\": [\n          \"Several Chinese Internet Giants\",\n          \"North Carolina State University\",\n          \"Secretar\\u00c3\\u0083\\u00c2\\u008c_a de Educaci\\u00c3\\u0083\\u00c2\\u008c_n P\\u00c3\\u0083\\u00c2\\u008c\\u00c3\\u0082\\u00c2\\u00bcblica,\\rhttp://www.sepdf.gob.mx,\\r\"\n        ],\n        \"semantic_type\": \"\",\n        \"description\": \"\"\n      }\n    },\n    {\n      \"column\": \"Sector\",\n      \"properties\": {\n        \"dtype\": \"category\",\n        \"num_unique_values\": 366,\n        \"samples\": [\n          \"Industry: Retail Industry: Hotel and Hospitality\",\n          \"Military\",\n          \"Industry: Interent Services\"\n        ],\n        \"semantic_type\": \"\",\n        \"description\": \"\"\n      }\n    },\n    {\n      \"column\": \"Year\",\n      \"properties\": {\n        \"dtype\": \"category\",\n        \"num_unique_values\": 5,\n        \"samples\": [\n          \"6\",\n          \"#VALUE!\",\n          \"2022\"\n        ],\n        \"semantic_type\": \"\",\n        \"description\": \"\"\n      }\n    },\n    {\n      \"column\": \"Date\",\n      \"properties\": {\n        \"dtype\": \"category\",\n        \"num_unique_values\": 663,\n        \"samples\": [\n          \"08-06-2016\",\n          \"13-03-2017\",\n          \"01-01-2017\"\n        ],\n        \"semantic_type\": \"\",\n        \"description\": \"\"\n      }\n    }\n  ]\n}",
              "type": "dataframe",
              "variable_name": "hack"
            },
            "text/html": [
              "\n",
              "  <div id=\"df-ef313432-a1d8-4741-a61a-1268c7c21ba3\" class=\"colab-df-container\">\n",
              "    <div>\n",
              "<style scoped>\n",
              "    .dataframe tbody tr th:only-of-type {\n",
              "        vertical-align: middle;\n",
              "    }\n",
              "\n",
              "    .dataframe tbody tr th {\n",
              "        vertical-align: top;\n",
              "    }\n",
              "\n",
              "    .dataframe thead th {\n",
              "        text-align: right;\n",
              "    }\n",
              "</style>\n",
              "<table border=\"1\" class=\"dataframe\">\n",
              "  <thead>\n",
              "    <tr style=\"text-align: right;\">\n",
              "      <th></th>\n",
              "      <th>Unnamed: 0</th>\n",
              "      <th>Attack Type</th>\n",
              "      <th>Attack_class</th>\n",
              "      <th>Author</th>\n",
              "      <th>Country</th>\n",
              "      <th>Description</th>\n",
              "      <th>Organization Name</th>\n",
              "      <th>Sector</th>\n",
              "      <th>Year</th>\n",
              "      <th>Date</th>\n",
              "    </tr>\n",
              "  </thead>\n",
              "  <tbody>\n",
              "    <tr>\n",
              "      <th>0</th>\n",
              "      <td>0</td>\n",
              "      <td>Unknown</td>\n",
              "      <td>Cyber Crime</td>\n",
              "      <td>Unknown</td>\n",
              "      <td>CA</td>\n",
              "      <td>A server hack at Algonquin College in Ottawa l...</td>\n",
              "      <td>Algonquin College</td>\n",
              "      <td>Education</td>\n",
              "      <td>2021</td>\n",
              "      <td>12-06-2015</td>\n",
              "    </tr>\n",
              "    <tr>\n",
              "      <th>1</th>\n",
              "      <td>1</td>\n",
              "      <td>Unknown</td>\n",
              "      <td>Cyber Crime</td>\n",
              "      <td>Unknown</td>\n",
              "      <td>IN</td>\n",
              "      <td>The salary accounts of more than 23 employees ...</td>\n",
              "      <td>Infosys Ltd</td>\n",
              "      <td>Industry: Software</td>\n",
              "      <td>2021</td>\n",
              "      <td>17-06-2015</td>\n",
              "    </tr>\n",
              "    <tr>\n",
              "      <th>2</th>\n",
              "      <td>2</td>\n",
              "      <td>Malware</td>\n",
              "      <td>Cyber Crime</td>\n",
              "      <td>Unknown</td>\n",
              "      <td>JP</td>\n",
              "      <td>The internal computer network of the state-run...</td>\n",
              "      <td>Japan Environmental Storage &amp; Safety Corp.</td>\n",
              "      <td>Industry: waste treatment</td>\n",
              "      <td>2021</td>\n",
              "      <td>15-06-2015</td>\n",
              "    </tr>\n",
              "    <tr>\n",
              "      <th>3</th>\n",
              "      <td>3</td>\n",
              "      <td>Targeted Attack</td>\n",
              "      <td>Cyber Espionage</td>\n",
              "      <td>Unknown</td>\n",
              "      <td>RU</td>\n",
              "      <td>Researchers from Palo Alto Networks reveal the...</td>\n",
              "      <td>Confidential Organization</td>\n",
              "      <td>GovernmentÃÂÃÂÃÂ¬,\\rMilitary</td>\n",
              "      <td>2021</td>\n",
              "      <td>16-06-2015</td>\n",
              "    </tr>\n",
              "    <tr>\n",
              "      <th>4</th>\n",
              "      <td>4</td>\n",
              "      <td>Unknown</td>\n",
              "      <td>Cyber Crime</td>\n",
              "      <td>St. Louis Cardinals</td>\n",
              "      <td>US</td>\n",
              "      <td>The St. Louis Cardinals baseball franchise is ...</td>\n",
              "      <td>Houston Astros</td>\n",
              "      <td>Single Individual</td>\n",
              "      <td>2021</td>\n",
              "      <td>16-06-2015</td>\n",
              "    </tr>\n",
              "    <tr>\n",
              "      <th>...</th>\n",
              "      <td>...</td>\n",
              "      <td>...</td>\n",
              "      <td>...</td>\n",
              "      <td>...</td>\n",
              "      <td>...</td>\n",
              "      <td>...</td>\n",
              "      <td>...</td>\n",
              "      <td>...</td>\n",
              "      <td>...</td>\n",
              "      <td>...</td>\n",
              "    </tr>\n",
              "    <tr>\n",
              "      <th>1964</th>\n",
              "      <td>1964</td>\n",
              "      <td>Malware</td>\n",
              "      <td>Cyber Crime</td>\n",
              "      <td>Unknown</td>\n",
              "      <td>KR</td>\n",
              "      <td>A South Korean Web-hosting service provider, N...</td>\n",
              "      <td>Nayana</td>\n",
              "      <td>Industry: Telco</td>\n",
              "      <td>2023</td>\n",
              "      <td>14-06-2017</td>\n",
              "    </tr>\n",
              "    <tr>\n",
              "      <th>1965</th>\n",
              "      <td>1965</td>\n",
              "      <td>Malware</td>\n",
              "      <td>Cyber Crime</td>\n",
              "      <td>Unknown</td>\n",
              "      <td>UK</td>\n",
              "      <td>University College London is hit by a ÃÂÃÂ...</td>\n",
              "      <td>University College London</td>\n",
              "      <td>Education</td>\n",
              "      <td>2023</td>\n",
              "      <td>15-06-2017</td>\n",
              "    </tr>\n",
              "    <tr>\n",
              "      <th>1966</th>\n",
              "      <td>1966</td>\n",
              "      <td>Malware</td>\n",
              "      <td>Cyber Crime</td>\n",
              "      <td>Unknown</td>\n",
              "      <td>UK</td>\n",
              "      <td>The Ulster University is also hit by Ransomware.</td>\n",
              "      <td>Ulster University</td>\n",
              "      <td>Education</td>\n",
              "      <td>2023</td>\n",
              "      <td>15-06-2017</td>\n",
              "    </tr>\n",
              "    <tr>\n",
              "      <th>1967</th>\n",
              "      <td>1967</td>\n",
              "      <td>DDoS</td>\n",
              "      <td>Cyber Crime</td>\n",
              "      <td>Unknown</td>\n",
              "      <td>HK</td>\n",
              "      <td>Bitfinex, the worldÃÂÃÂÃÂªs largest US do...</td>\n",
              "      <td>Bitfinex</td>\n",
              "      <td>Cryptocurrency Exchange</td>\n",
              "      <td>2023</td>\n",
              "      <td>15-06-2017</td>\n",
              "    </tr>\n",
              "    <tr>\n",
              "      <th>1968</th>\n",
              "      <td>1968</td>\n",
              "      <td>Account Hijacking (Business Email Compromise)</td>\n",
              "      <td>Cyber Crime</td>\n",
              "      <td>Attackers from Nigeria</td>\n",
              "      <td>RU</td>\n",
              "      <td>Kaspersky Lab reveal the details of a massive ...</td>\n",
              "      <td>Multiple Industrial Firms</td>\n",
              "      <td>Industry: &gt;1</td>\n",
              "      <td>2023</td>\n",
              "      <td>15-06-2017</td>\n",
              "    </tr>\n",
              "  </tbody>\n",
              "</table>\n",
              "<p>1969 rows × 10 columns</p>\n",
              "</div>\n",
              "    <div class=\"colab-df-buttons\">\n",
              "\n",
              "  <div class=\"colab-df-container\">\n",
              "    <button class=\"colab-df-convert\" onclick=\"convertToInteractive('df-ef313432-a1d8-4741-a61a-1268c7c21ba3')\"\n",
              "            title=\"Convert this dataframe to an interactive table.\"\n",
              "            style=\"display:none;\">\n",
              "\n",
              "  <svg xmlns=\"http://www.w3.org/2000/svg\" height=\"24px\" viewBox=\"0 -960 960 960\">\n",
              "    <path d=\"M120-120v-720h720v720H120Zm60-500h600v-160H180v160Zm220 220h160v-160H400v160Zm0 220h160v-160H400v160ZM180-400h160v-160H180v160Zm440 0h160v-160H620v160ZM180-180h160v-160H180v160Zm440 0h160v-160H620v160Z\"/>\n",
              "  </svg>\n",
              "    </button>\n",
              "\n",
              "  <style>\n",
              "    .colab-df-container {\n",
              "      display:flex;\n",
              "      gap: 12px;\n",
              "    }\n",
              "\n",
              "    .colab-df-convert {\n",
              "      background-color: #E8F0FE;\n",
              "      border: none;\n",
              "      border-radius: 50%;\n",
              "      cursor: pointer;\n",
              "      display: none;\n",
              "      fill: #1967D2;\n",
              "      height: 32px;\n",
              "      padding: 0 0 0 0;\n",
              "      width: 32px;\n",
              "    }\n",
              "\n",
              "    .colab-df-convert:hover {\n",
              "      background-color: #E2EBFA;\n",
              "      box-shadow: 0px 1px 2px rgba(60, 64, 67, 0.3), 0px 1px 3px 1px rgba(60, 64, 67, 0.15);\n",
              "      fill: #174EA6;\n",
              "    }\n",
              "\n",
              "    .colab-df-buttons div {\n",
              "      margin-bottom: 4px;\n",
              "    }\n",
              "\n",
              "    [theme=dark] .colab-df-convert {\n",
              "      background-color: #3B4455;\n",
              "      fill: #D2E3FC;\n",
              "    }\n",
              "\n",
              "    [theme=dark] .colab-df-convert:hover {\n",
              "      background-color: #434B5C;\n",
              "      box-shadow: 0px 1px 3px 1px rgba(0, 0, 0, 0.15);\n",
              "      filter: drop-shadow(0px 1px 2px rgba(0, 0, 0, 0.3));\n",
              "      fill: #FFFFFF;\n",
              "    }\n",
              "  </style>\n",
              "\n",
              "    <script>\n",
              "      const buttonEl =\n",
              "        document.querySelector('#df-ef313432-a1d8-4741-a61a-1268c7c21ba3 button.colab-df-convert');\n",
              "      buttonEl.style.display =\n",
              "        google.colab.kernel.accessAllowed ? 'block' : 'none';\n",
              "\n",
              "      async function convertToInteractive(key) {\n",
              "        const element = document.querySelector('#df-ef313432-a1d8-4741-a61a-1268c7c21ba3');\n",
              "        const dataTable =\n",
              "          await google.colab.kernel.invokeFunction('convertToInteractive',\n",
              "                                                    [key], {});\n",
              "        if (!dataTable) return;\n",
              "\n",
              "        const docLinkHtml = 'Like what you see? Visit the ' +\n",
              "          '<a target=\"_blank\" href=https://colab.research.google.com/notebooks/data_table.ipynb>data table notebook</a>'\n",
              "          + ' to learn more about interactive tables.';\n",
              "        element.innerHTML = '';\n",
              "        dataTable['output_type'] = 'display_data';\n",
              "        await google.colab.output.renderOutput(dataTable, element);\n",
              "        const docLink = document.createElement('div');\n",
              "        docLink.innerHTML = docLinkHtml;\n",
              "        element.appendChild(docLink);\n",
              "      }\n",
              "    </script>\n",
              "  </div>\n",
              "\n",
              "\n",
              "<div id=\"df-2d4d9d45-e557-4bad-8a7b-cc086aa2ea15\">\n",
              "  <button class=\"colab-df-quickchart\" onclick=\"quickchart('df-2d4d9d45-e557-4bad-8a7b-cc086aa2ea15')\"\n",
              "            title=\"Suggest charts\"\n",
              "            style=\"display:none;\">\n",
              "\n",
              "<svg xmlns=\"http://www.w3.org/2000/svg\" height=\"24px\"viewBox=\"0 0 24 24\"\n",
              "     width=\"24px\">\n",
              "    <g>\n",
              "        <path d=\"M19 3H5c-1.1 0-2 .9-2 2v14c0 1.1.9 2 2 2h14c1.1 0 2-.9 2-2V5c0-1.1-.9-2-2-2zM9 17H7v-7h2v7zm4 0h-2V7h2v10zm4 0h-2v-4h2v4z\"/>\n",
              "    </g>\n",
              "</svg>\n",
              "  </button>\n",
              "\n",
              "<style>\n",
              "  .colab-df-quickchart {\n",
              "      --bg-color: #E8F0FE;\n",
              "      --fill-color: #1967D2;\n",
              "      --hover-bg-color: #E2EBFA;\n",
              "      --hover-fill-color: #174EA6;\n",
              "      --disabled-fill-color: #AAA;\n",
              "      --disabled-bg-color: #DDD;\n",
              "  }\n",
              "\n",
              "  [theme=dark] .colab-df-quickchart {\n",
              "      --bg-color: #3B4455;\n",
              "      --fill-color: #D2E3FC;\n",
              "      --hover-bg-color: #434B5C;\n",
              "      --hover-fill-color: #FFFFFF;\n",
              "      --disabled-bg-color: #3B4455;\n",
              "      --disabled-fill-color: #666;\n",
              "  }\n",
              "\n",
              "  .colab-df-quickchart {\n",
              "    background-color: var(--bg-color);\n",
              "    border: none;\n",
              "    border-radius: 50%;\n",
              "    cursor: pointer;\n",
              "    display: none;\n",
              "    fill: var(--fill-color);\n",
              "    height: 32px;\n",
              "    padding: 0;\n",
              "    width: 32px;\n",
              "  }\n",
              "\n",
              "  .colab-df-quickchart:hover {\n",
              "    background-color: var(--hover-bg-color);\n",
              "    box-shadow: 0 1px 2px rgba(60, 64, 67, 0.3), 0 1px 3px 1px rgba(60, 64, 67, 0.15);\n",
              "    fill: var(--button-hover-fill-color);\n",
              "  }\n",
              "\n",
              "  .colab-df-quickchart-complete:disabled,\n",
              "  .colab-df-quickchart-complete:disabled:hover {\n",
              "    background-color: var(--disabled-bg-color);\n",
              "    fill: var(--disabled-fill-color);\n",
              "    box-shadow: none;\n",
              "  }\n",
              "\n",
              "  .colab-df-spinner {\n",
              "    border: 2px solid var(--fill-color);\n",
              "    border-color: transparent;\n",
              "    border-bottom-color: var(--fill-color);\n",
              "    animation:\n",
              "      spin 1s steps(1) infinite;\n",
              "  }\n",
              "\n",
              "  @keyframes spin {\n",
              "    0% {\n",
              "      border-color: transparent;\n",
              "      border-bottom-color: var(--fill-color);\n",
              "      border-left-color: var(--fill-color);\n",
              "    }\n",
              "    20% {\n",
              "      border-color: transparent;\n",
              "      border-left-color: var(--fill-color);\n",
              "      border-top-color: var(--fill-color);\n",
              "    }\n",
              "    30% {\n",
              "      border-color: transparent;\n",
              "      border-left-color: var(--fill-color);\n",
              "      border-top-color: var(--fill-color);\n",
              "      border-right-color: var(--fill-color);\n",
              "    }\n",
              "    40% {\n",
              "      border-color: transparent;\n",
              "      border-right-color: var(--fill-color);\n",
              "      border-top-color: var(--fill-color);\n",
              "    }\n",
              "    60% {\n",
              "      border-color: transparent;\n",
              "      border-right-color: var(--fill-color);\n",
              "    }\n",
              "    80% {\n",
              "      border-color: transparent;\n",
              "      border-right-color: var(--fill-color);\n",
              "      border-bottom-color: var(--fill-color);\n",
              "    }\n",
              "    90% {\n",
              "      border-color: transparent;\n",
              "      border-bottom-color: var(--fill-color);\n",
              "    }\n",
              "  }\n",
              "</style>\n",
              "\n",
              "  <script>\n",
              "    async function quickchart(key) {\n",
              "      const quickchartButtonEl =\n",
              "        document.querySelector('#' + key + ' button');\n",
              "      quickchartButtonEl.disabled = true;  // To prevent multiple clicks.\n",
              "      quickchartButtonEl.classList.add('colab-df-spinner');\n",
              "      try {\n",
              "        const charts = await google.colab.kernel.invokeFunction(\n",
              "            'suggestCharts', [key], {});\n",
              "      } catch (error) {\n",
              "        console.error('Error during call to suggestCharts:', error);\n",
              "      }\n",
              "      quickchartButtonEl.classList.remove('colab-df-spinner');\n",
              "      quickchartButtonEl.classList.add('colab-df-quickchart-complete');\n",
              "    }\n",
              "    (() => {\n",
              "      let quickchartButtonEl =\n",
              "        document.querySelector('#df-2d4d9d45-e557-4bad-8a7b-cc086aa2ea15 button');\n",
              "      quickchartButtonEl.style.display =\n",
              "        google.colab.kernel.accessAllowed ? 'block' : 'none';\n",
              "    })();\n",
              "  </script>\n",
              "</div>\n",
              "    </div>\n",
              "  </div>\n"
            ],
            "text/plain": [
              "      Unnamed: 0                                    Attack Type  \\\n",
              "0              0                                        Unknown   \n",
              "1              1                                        Unknown   \n",
              "2              2                                        Malware   \n",
              "3              3                                Targeted Attack   \n",
              "4              4                                        Unknown   \n",
              "...          ...                                            ...   \n",
              "1964        1964                                        Malware   \n",
              "1965        1965                                        Malware   \n",
              "1966        1966                                        Malware   \n",
              "1967        1967                                           DDoS   \n",
              "1968        1968  Account Hijacking (Business Email Compromise)   \n",
              "\n",
              "         Attack_class                  Author Country  \\\n",
              "0         Cyber Crime                 Unknown      CA   \n",
              "1         Cyber Crime                 Unknown      IN   \n",
              "2         Cyber Crime                 Unknown      JP   \n",
              "3     Cyber Espionage                 Unknown      RU   \n",
              "4         Cyber Crime     St. Louis Cardinals      US   \n",
              "...               ...                     ...     ...   \n",
              "1964      Cyber Crime                 Unknown      KR   \n",
              "1965      Cyber Crime                 Unknown      UK   \n",
              "1966      Cyber Crime                 Unknown      UK   \n",
              "1967      Cyber Crime                 Unknown      HK   \n",
              "1968      Cyber Crime  Attackers from Nigeria      RU   \n",
              "\n",
              "                                            Description  \\\n",
              "0     A server hack at Algonquin College in Ottawa l...   \n",
              "1     The salary accounts of more than 23 employees ...   \n",
              "2     The internal computer network of the state-run...   \n",
              "3     Researchers from Palo Alto Networks reveal the...   \n",
              "4     The St. Louis Cardinals baseball franchise is ...   \n",
              "...                                                 ...   \n",
              "1964  A South Korean Web-hosting service provider, N...   \n",
              "1965  University College London is hit by a ÃÂÃÂ...   \n",
              "1966   The Ulster University is also hit by Ransomware.   \n",
              "1967  Bitfinex, the worldÃÂÃÂÃÂªs largest US do...   \n",
              "1968  Kaspersky Lab reveal the details of a massive ...   \n",
              "\n",
              "                               Organization Name  \\\n",
              "0                              Algonquin College   \n",
              "1                                    Infosys Ltd   \n",
              "2     Japan Environmental Storage & Safety Corp.   \n",
              "3                      Confidential Organization   \n",
              "4                                 Houston Astros   \n",
              "...                                          ...   \n",
              "1964                                      Nayana   \n",
              "1965                   University College London   \n",
              "1966                           Ulster University   \n",
              "1967                                    Bitfinex   \n",
              "1968                   Multiple Industrial Firms   \n",
              "\n",
              "                                 Sector  Year        Date  \n",
              "0                             Education  2021  12-06-2015  \n",
              "1                    Industry: Software  2021  17-06-2015  \n",
              "2             Industry: waste treatment  2021  15-06-2015  \n",
              "3     GovernmentÃÂÃÂÃÂ¬,\\rMilitary  2021  16-06-2015  \n",
              "4                     Single Individual  2021  16-06-2015  \n",
              "...                                 ...   ...         ...  \n",
              "1964                    Industry: Telco  2023  14-06-2017  \n",
              "1965                          Education  2023  15-06-2017  \n",
              "1966                          Education  2023  15-06-2017  \n",
              "1967            Cryptocurrency Exchange  2023  15-06-2017  \n",
              "1968                       Industry: >1  2023  15-06-2017  \n",
              "\n",
              "[1969 rows x 10 columns]"
            ]
          },
          "execution_count": 4,
          "metadata": {},
          "output_type": "execute_result"
        }
      ],
      "source": [
        "hack"
      ]
    },
    {
      "cell_type": "code",
      "execution_count": null,
      "metadata": {
        "id": "-t7JITzzD8J8"
      },
      "outputs": [],
      "source": [
        "hack = hack.drop(hack.columns[0], axis=1)"
      ]
    },
    {
      "cell_type": "code",
      "execution_count": null,
      "metadata": {
        "colab": {
          "base_uri": "https://localhost:8080/",
          "height": 840
        },
        "id": "uN6rEUqnGi4z",
        "outputId": "9f1c5eff-a5da-4857-b831-aa50ac94583a"
      },
      "outputs": [
        {
          "data": {
            "application/vnd.google.colaboratory.intrinsic+json": {
              "summary": "{\n  \"name\": \"hack\",\n  \"rows\": 1969,\n  \"fields\": [\n    {\n      \"column\": \"Attack Type\",\n      \"properties\": {\n        \"dtype\": \"category\",\n        \"num_unique_values\": 128,\n        \"samples\": [\n          \"Outdated Joomla\",\n          \"HTML redirection\",\n          \"Targeted Attack via Watering Hole\"\n        ],\n        \"semantic_type\": \"\",\n        \"description\": \"\"\n      }\n    },\n    {\n      \"column\": \"Attack_class\",\n      \"properties\": {\n        \"dtype\": \"category\",\n        \"num_unique_values\": 4,\n        \"samples\": [\n          \"Cyber Espionage\",\n          \"Cyber War\",\n          \"Cyber Crime\"\n        ],\n        \"semantic_type\": \"\",\n        \"description\": \"\"\n      }\n    },\n    {\n      \"column\": \"Author\",\n      \"properties\": {\n        \"dtype\": \"category\",\n        \"num_unique_values\": 527,\n        \"samples\": [\n          \"OurMine Team\",\n          \"websites-hunter AKA @websitehunter\",\n          \"@ro0ted\"\n        ],\n        \"semantic_type\": \"\",\n        \"description\": \"\"\n      }\n    },\n    {\n      \"column\": \"Country\",\n      \"properties\": {\n        \"dtype\": \"category\",\n        \"num_unique_values\": 132,\n        \"samples\": [\n          \"LB\",\n          \"BO\",\n          \"MY\"\n        ],\n        \"semantic_type\": \"\",\n        \"description\": \"\"\n      }\n    },\n    {\n      \"column\": \"Description\",\n      \"properties\": {\n        \"dtype\": \"string\",\n        \"num_unique_values\": 1963,\n        \"samples\": [\n          \"The website of Taiwan\\u00c3\\u0082\\u00c2\\u0089\\u00c3\\u0083\\u00c2\\u009b\\u00c3\\u0082\\u00c2\\u00aas ruling Democratic Progressive Party is under attack from cyber spies seeking to profile visitors to the site, part of a campaign to get information about the party\\u00c3\\u0082\\u00c2\\u0089\\u00c3\\u0083\\u00c2\\u009b\\u00c3\\u0082\\u00c2\\u00aas policies following its election victory in January.\",\n          \"An Albanian hacker named nofawkX-al defaces the website of the Romanian Football Federation (FRF), two days after the Albanian football team defeated the Romanian football team at the 2016 European Football Championship.\",\n          \"Several security companies report that the attackers that targeted Apple, Facebook, Microsoft, and Twitter two years ago in a series of high-profile hacks are back and got bigger. Targets include at least 40 companies in different sectors. The group is known as Butterfly, Morpho, Wild Neutron or Jripbot.\"\n        ],\n        \"semantic_type\": \"\",\n        \"description\": \"\"\n      }\n    },\n    {\n      \"column\": \"Organization Name\",\n      \"properties\": {\n        \"dtype\": \"string\",\n        \"num_unique_values\": 1820,\n        \"samples\": [\n          \"Several Chinese Internet Giants\",\n          \"North Carolina State University\",\n          \"Secretar\\u00c3\\u0083\\u00c2\\u008c_a de Educaci\\u00c3\\u0083\\u00c2\\u008c_n P\\u00c3\\u0083\\u00c2\\u008c\\u00c3\\u0082\\u00c2\\u00bcblica,\\rhttp://www.sepdf.gob.mx,\\r\"\n        ],\n        \"semantic_type\": \"\",\n        \"description\": \"\"\n      }\n    },\n    {\n      \"column\": \"Sector\",\n      \"properties\": {\n        \"dtype\": \"category\",\n        \"num_unique_values\": 366,\n        \"samples\": [\n          \"Industry: Retail Industry: Hotel and Hospitality\",\n          \"Military\",\n          \"Industry: Interent Services\"\n        ],\n        \"semantic_type\": \"\",\n        \"description\": \"\"\n      }\n    },\n    {\n      \"column\": \"Year\",\n      \"properties\": {\n        \"dtype\": \"category\",\n        \"num_unique_values\": 5,\n        \"samples\": [\n          \"6\",\n          \"#VALUE!\",\n          \"2022\"\n        ],\n        \"semantic_type\": \"\",\n        \"description\": \"\"\n      }\n    },\n    {\n      \"column\": \"Date\",\n      \"properties\": {\n        \"dtype\": \"category\",\n        \"num_unique_values\": 663,\n        \"samples\": [\n          \"08-06-2016\",\n          \"13-03-2017\",\n          \"01-01-2017\"\n        ],\n        \"semantic_type\": \"\",\n        \"description\": \"\"\n      }\n    }\n  ]\n}",
              "type": "dataframe",
              "variable_name": "hack"
            },
            "text/html": [
              "\n",
              "  <div id=\"df-82c44ab0-d263-4a08-854d-8ac3fa299d0f\" class=\"colab-df-container\">\n",
              "    <div>\n",
              "<style scoped>\n",
              "    .dataframe tbody tr th:only-of-type {\n",
              "        vertical-align: middle;\n",
              "    }\n",
              "\n",
              "    .dataframe tbody tr th {\n",
              "        vertical-align: top;\n",
              "    }\n",
              "\n",
              "    .dataframe thead th {\n",
              "        text-align: right;\n",
              "    }\n",
              "</style>\n",
              "<table border=\"1\" class=\"dataframe\">\n",
              "  <thead>\n",
              "    <tr style=\"text-align: right;\">\n",
              "      <th></th>\n",
              "      <th>Attack Type</th>\n",
              "      <th>Attack_class</th>\n",
              "      <th>Author</th>\n",
              "      <th>Country</th>\n",
              "      <th>Description</th>\n",
              "      <th>Organization Name</th>\n",
              "      <th>Sector</th>\n",
              "      <th>Year</th>\n",
              "      <th>Date</th>\n",
              "    </tr>\n",
              "  </thead>\n",
              "  <tbody>\n",
              "    <tr>\n",
              "      <th>0</th>\n",
              "      <td>Unknown</td>\n",
              "      <td>Cyber Crime</td>\n",
              "      <td>Unknown</td>\n",
              "      <td>CA</td>\n",
              "      <td>A server hack at Algonquin College in Ottawa l...</td>\n",
              "      <td>Algonquin College</td>\n",
              "      <td>Education</td>\n",
              "      <td>2021</td>\n",
              "      <td>12-06-2015</td>\n",
              "    </tr>\n",
              "    <tr>\n",
              "      <th>1</th>\n",
              "      <td>Unknown</td>\n",
              "      <td>Cyber Crime</td>\n",
              "      <td>Unknown</td>\n",
              "      <td>IN</td>\n",
              "      <td>The salary accounts of more than 23 employees ...</td>\n",
              "      <td>Infosys Ltd</td>\n",
              "      <td>Industry: Software</td>\n",
              "      <td>2021</td>\n",
              "      <td>17-06-2015</td>\n",
              "    </tr>\n",
              "    <tr>\n",
              "      <th>2</th>\n",
              "      <td>Malware</td>\n",
              "      <td>Cyber Crime</td>\n",
              "      <td>Unknown</td>\n",
              "      <td>JP</td>\n",
              "      <td>The internal computer network of the state-run...</td>\n",
              "      <td>Japan Environmental Storage &amp; Safety Corp.</td>\n",
              "      <td>Industry: waste treatment</td>\n",
              "      <td>2021</td>\n",
              "      <td>15-06-2015</td>\n",
              "    </tr>\n",
              "    <tr>\n",
              "      <th>3</th>\n",
              "      <td>Targeted Attack</td>\n",
              "      <td>Cyber Espionage</td>\n",
              "      <td>Unknown</td>\n",
              "      <td>RU</td>\n",
              "      <td>Researchers from Palo Alto Networks reveal the...</td>\n",
              "      <td>Confidential Organization</td>\n",
              "      <td>GovernmentÃÂÃÂÃÂ¬,\\rMilitary</td>\n",
              "      <td>2021</td>\n",
              "      <td>16-06-2015</td>\n",
              "    </tr>\n",
              "    <tr>\n",
              "      <th>4</th>\n",
              "      <td>Unknown</td>\n",
              "      <td>Cyber Crime</td>\n",
              "      <td>St. Louis Cardinals</td>\n",
              "      <td>US</td>\n",
              "      <td>The St. Louis Cardinals baseball franchise is ...</td>\n",
              "      <td>Houston Astros</td>\n",
              "      <td>Single Individual</td>\n",
              "      <td>2021</td>\n",
              "      <td>16-06-2015</td>\n",
              "    </tr>\n",
              "    <tr>\n",
              "      <th>...</th>\n",
              "      <td>...</td>\n",
              "      <td>...</td>\n",
              "      <td>...</td>\n",
              "      <td>...</td>\n",
              "      <td>...</td>\n",
              "      <td>...</td>\n",
              "      <td>...</td>\n",
              "      <td>...</td>\n",
              "      <td>...</td>\n",
              "    </tr>\n",
              "    <tr>\n",
              "      <th>1964</th>\n",
              "      <td>Malware</td>\n",
              "      <td>Cyber Crime</td>\n",
              "      <td>Unknown</td>\n",
              "      <td>KR</td>\n",
              "      <td>A South Korean Web-hosting service provider, N...</td>\n",
              "      <td>Nayana</td>\n",
              "      <td>Industry: Telco</td>\n",
              "      <td>2023</td>\n",
              "      <td>14-06-2017</td>\n",
              "    </tr>\n",
              "    <tr>\n",
              "      <th>1965</th>\n",
              "      <td>Malware</td>\n",
              "      <td>Cyber Crime</td>\n",
              "      <td>Unknown</td>\n",
              "      <td>UK</td>\n",
              "      <td>University College London is hit by a ÃÂÃÂ...</td>\n",
              "      <td>University College London</td>\n",
              "      <td>Education</td>\n",
              "      <td>2023</td>\n",
              "      <td>15-06-2017</td>\n",
              "    </tr>\n",
              "    <tr>\n",
              "      <th>1966</th>\n",
              "      <td>Malware</td>\n",
              "      <td>Cyber Crime</td>\n",
              "      <td>Unknown</td>\n",
              "      <td>UK</td>\n",
              "      <td>The Ulster University is also hit by Ransomware.</td>\n",
              "      <td>Ulster University</td>\n",
              "      <td>Education</td>\n",
              "      <td>2023</td>\n",
              "      <td>15-06-2017</td>\n",
              "    </tr>\n",
              "    <tr>\n",
              "      <th>1967</th>\n",
              "      <td>DDoS</td>\n",
              "      <td>Cyber Crime</td>\n",
              "      <td>Unknown</td>\n",
              "      <td>HK</td>\n",
              "      <td>Bitfinex, the worldÃÂÃÂÃÂªs largest US do...</td>\n",
              "      <td>Bitfinex</td>\n",
              "      <td>Cryptocurrency Exchange</td>\n",
              "      <td>2023</td>\n",
              "      <td>15-06-2017</td>\n",
              "    </tr>\n",
              "    <tr>\n",
              "      <th>1968</th>\n",
              "      <td>Account Hijacking (Business Email Compromise)</td>\n",
              "      <td>Cyber Crime</td>\n",
              "      <td>Attackers from Nigeria</td>\n",
              "      <td>RU</td>\n",
              "      <td>Kaspersky Lab reveal the details of a massive ...</td>\n",
              "      <td>Multiple Industrial Firms</td>\n",
              "      <td>Industry: &gt;1</td>\n",
              "      <td>2023</td>\n",
              "      <td>15-06-2017</td>\n",
              "    </tr>\n",
              "  </tbody>\n",
              "</table>\n",
              "<p>1969 rows × 9 columns</p>\n",
              "</div>\n",
              "    <div class=\"colab-df-buttons\">\n",
              "\n",
              "  <div class=\"colab-df-container\">\n",
              "    <button class=\"colab-df-convert\" onclick=\"convertToInteractive('df-82c44ab0-d263-4a08-854d-8ac3fa299d0f')\"\n",
              "            title=\"Convert this dataframe to an interactive table.\"\n",
              "            style=\"display:none;\">\n",
              "\n",
              "  <svg xmlns=\"http://www.w3.org/2000/svg\" height=\"24px\" viewBox=\"0 -960 960 960\">\n",
              "    <path d=\"M120-120v-720h720v720H120Zm60-500h600v-160H180v160Zm220 220h160v-160H400v160Zm0 220h160v-160H400v160ZM180-400h160v-160H180v160Zm440 0h160v-160H620v160ZM180-180h160v-160H180v160Zm440 0h160v-160H620v160Z\"/>\n",
              "  </svg>\n",
              "    </button>\n",
              "\n",
              "  <style>\n",
              "    .colab-df-container {\n",
              "      display:flex;\n",
              "      gap: 12px;\n",
              "    }\n",
              "\n",
              "    .colab-df-convert {\n",
              "      background-color: #E8F0FE;\n",
              "      border: none;\n",
              "      border-radius: 50%;\n",
              "      cursor: pointer;\n",
              "      display: none;\n",
              "      fill: #1967D2;\n",
              "      height: 32px;\n",
              "      padding: 0 0 0 0;\n",
              "      width: 32px;\n",
              "    }\n",
              "\n",
              "    .colab-df-convert:hover {\n",
              "      background-color: #E2EBFA;\n",
              "      box-shadow: 0px 1px 2px rgba(60, 64, 67, 0.3), 0px 1px 3px 1px rgba(60, 64, 67, 0.15);\n",
              "      fill: #174EA6;\n",
              "    }\n",
              "\n",
              "    .colab-df-buttons div {\n",
              "      margin-bottom: 4px;\n",
              "    }\n",
              "\n",
              "    [theme=dark] .colab-df-convert {\n",
              "      background-color: #3B4455;\n",
              "      fill: #D2E3FC;\n",
              "    }\n",
              "\n",
              "    [theme=dark] .colab-df-convert:hover {\n",
              "      background-color: #434B5C;\n",
              "      box-shadow: 0px 1px 3px 1px rgba(0, 0, 0, 0.15);\n",
              "      filter: drop-shadow(0px 1px 2px rgba(0, 0, 0, 0.3));\n",
              "      fill: #FFFFFF;\n",
              "    }\n",
              "  </style>\n",
              "\n",
              "    <script>\n",
              "      const buttonEl =\n",
              "        document.querySelector('#df-82c44ab0-d263-4a08-854d-8ac3fa299d0f button.colab-df-convert');\n",
              "      buttonEl.style.display =\n",
              "        google.colab.kernel.accessAllowed ? 'block' : 'none';\n",
              "\n",
              "      async function convertToInteractive(key) {\n",
              "        const element = document.querySelector('#df-82c44ab0-d263-4a08-854d-8ac3fa299d0f');\n",
              "        const dataTable =\n",
              "          await google.colab.kernel.invokeFunction('convertToInteractive',\n",
              "                                                    [key], {});\n",
              "        if (!dataTable) return;\n",
              "\n",
              "        const docLinkHtml = 'Like what you see? Visit the ' +\n",
              "          '<a target=\"_blank\" href=https://colab.research.google.com/notebooks/data_table.ipynb>data table notebook</a>'\n",
              "          + ' to learn more about interactive tables.';\n",
              "        element.innerHTML = '';\n",
              "        dataTable['output_type'] = 'display_data';\n",
              "        await google.colab.output.renderOutput(dataTable, element);\n",
              "        const docLink = document.createElement('div');\n",
              "        docLink.innerHTML = docLinkHtml;\n",
              "        element.appendChild(docLink);\n",
              "      }\n",
              "    </script>\n",
              "  </div>\n",
              "\n",
              "\n",
              "<div id=\"df-b9972bef-5912-40df-a664-7ec26eb17ad3\">\n",
              "  <button class=\"colab-df-quickchart\" onclick=\"quickchart('df-b9972bef-5912-40df-a664-7ec26eb17ad3')\"\n",
              "            title=\"Suggest charts\"\n",
              "            style=\"display:none;\">\n",
              "\n",
              "<svg xmlns=\"http://www.w3.org/2000/svg\" height=\"24px\"viewBox=\"0 0 24 24\"\n",
              "     width=\"24px\">\n",
              "    <g>\n",
              "        <path d=\"M19 3H5c-1.1 0-2 .9-2 2v14c0 1.1.9 2 2 2h14c1.1 0 2-.9 2-2V5c0-1.1-.9-2-2-2zM9 17H7v-7h2v7zm4 0h-2V7h2v10zm4 0h-2v-4h2v4z\"/>\n",
              "    </g>\n",
              "</svg>\n",
              "  </button>\n",
              "\n",
              "<style>\n",
              "  .colab-df-quickchart {\n",
              "      --bg-color: #E8F0FE;\n",
              "      --fill-color: #1967D2;\n",
              "      --hover-bg-color: #E2EBFA;\n",
              "      --hover-fill-color: #174EA6;\n",
              "      --disabled-fill-color: #AAA;\n",
              "      --disabled-bg-color: #DDD;\n",
              "  }\n",
              "\n",
              "  [theme=dark] .colab-df-quickchart {\n",
              "      --bg-color: #3B4455;\n",
              "      --fill-color: #D2E3FC;\n",
              "      --hover-bg-color: #434B5C;\n",
              "      --hover-fill-color: #FFFFFF;\n",
              "      --disabled-bg-color: #3B4455;\n",
              "      --disabled-fill-color: #666;\n",
              "  }\n",
              "\n",
              "  .colab-df-quickchart {\n",
              "    background-color: var(--bg-color);\n",
              "    border: none;\n",
              "    border-radius: 50%;\n",
              "    cursor: pointer;\n",
              "    display: none;\n",
              "    fill: var(--fill-color);\n",
              "    height: 32px;\n",
              "    padding: 0;\n",
              "    width: 32px;\n",
              "  }\n",
              "\n",
              "  .colab-df-quickchart:hover {\n",
              "    background-color: var(--hover-bg-color);\n",
              "    box-shadow: 0 1px 2px rgba(60, 64, 67, 0.3), 0 1px 3px 1px rgba(60, 64, 67, 0.15);\n",
              "    fill: var(--button-hover-fill-color);\n",
              "  }\n",
              "\n",
              "  .colab-df-quickchart-complete:disabled,\n",
              "  .colab-df-quickchart-complete:disabled:hover {\n",
              "    background-color: var(--disabled-bg-color);\n",
              "    fill: var(--disabled-fill-color);\n",
              "    box-shadow: none;\n",
              "  }\n",
              "\n",
              "  .colab-df-spinner {\n",
              "    border: 2px solid var(--fill-color);\n",
              "    border-color: transparent;\n",
              "    border-bottom-color: var(--fill-color);\n",
              "    animation:\n",
              "      spin 1s steps(1) infinite;\n",
              "  }\n",
              "\n",
              "  @keyframes spin {\n",
              "    0% {\n",
              "      border-color: transparent;\n",
              "      border-bottom-color: var(--fill-color);\n",
              "      border-left-color: var(--fill-color);\n",
              "    }\n",
              "    20% {\n",
              "      border-color: transparent;\n",
              "      border-left-color: var(--fill-color);\n",
              "      border-top-color: var(--fill-color);\n",
              "    }\n",
              "    30% {\n",
              "      border-color: transparent;\n",
              "      border-left-color: var(--fill-color);\n",
              "      border-top-color: var(--fill-color);\n",
              "      border-right-color: var(--fill-color);\n",
              "    }\n",
              "    40% {\n",
              "      border-color: transparent;\n",
              "      border-right-color: var(--fill-color);\n",
              "      border-top-color: var(--fill-color);\n",
              "    }\n",
              "    60% {\n",
              "      border-color: transparent;\n",
              "      border-right-color: var(--fill-color);\n",
              "    }\n",
              "    80% {\n",
              "      border-color: transparent;\n",
              "      border-right-color: var(--fill-color);\n",
              "      border-bottom-color: var(--fill-color);\n",
              "    }\n",
              "    90% {\n",
              "      border-color: transparent;\n",
              "      border-bottom-color: var(--fill-color);\n",
              "    }\n",
              "  }\n",
              "</style>\n",
              "\n",
              "  <script>\n",
              "    async function quickchart(key) {\n",
              "      const quickchartButtonEl =\n",
              "        document.querySelector('#' + key + ' button');\n",
              "      quickchartButtonEl.disabled = true;  // To prevent multiple clicks.\n",
              "      quickchartButtonEl.classList.add('colab-df-spinner');\n",
              "      try {\n",
              "        const charts = await google.colab.kernel.invokeFunction(\n",
              "            'suggestCharts', [key], {});\n",
              "      } catch (error) {\n",
              "        console.error('Error during call to suggestCharts:', error);\n",
              "      }\n",
              "      quickchartButtonEl.classList.remove('colab-df-spinner');\n",
              "      quickchartButtonEl.classList.add('colab-df-quickchart-complete');\n",
              "    }\n",
              "    (() => {\n",
              "      let quickchartButtonEl =\n",
              "        document.querySelector('#df-b9972bef-5912-40df-a664-7ec26eb17ad3 button');\n",
              "      quickchartButtonEl.style.display =\n",
              "        google.colab.kernel.accessAllowed ? 'block' : 'none';\n",
              "    })();\n",
              "  </script>\n",
              "</div>\n",
              "    </div>\n",
              "  </div>\n"
            ],
            "text/plain": [
              "                                        Attack Type     Attack_class  \\\n",
              "0                                           Unknown      Cyber Crime   \n",
              "1                                           Unknown      Cyber Crime   \n",
              "2                                           Malware      Cyber Crime   \n",
              "3                                   Targeted Attack  Cyber Espionage   \n",
              "4                                           Unknown      Cyber Crime   \n",
              "...                                             ...              ...   \n",
              "1964                                        Malware      Cyber Crime   \n",
              "1965                                        Malware      Cyber Crime   \n",
              "1966                                        Malware      Cyber Crime   \n",
              "1967                                           DDoS      Cyber Crime   \n",
              "1968  Account Hijacking (Business Email Compromise)      Cyber Crime   \n",
              "\n",
              "                      Author Country  \\\n",
              "0                    Unknown      CA   \n",
              "1                    Unknown      IN   \n",
              "2                    Unknown      JP   \n",
              "3                    Unknown      RU   \n",
              "4        St. Louis Cardinals      US   \n",
              "...                      ...     ...   \n",
              "1964                 Unknown      KR   \n",
              "1965                 Unknown      UK   \n",
              "1966                 Unknown      UK   \n",
              "1967                 Unknown      HK   \n",
              "1968  Attackers from Nigeria      RU   \n",
              "\n",
              "                                            Description  \\\n",
              "0     A server hack at Algonquin College in Ottawa l...   \n",
              "1     The salary accounts of more than 23 employees ...   \n",
              "2     The internal computer network of the state-run...   \n",
              "3     Researchers from Palo Alto Networks reveal the...   \n",
              "4     The St. Louis Cardinals baseball franchise is ...   \n",
              "...                                                 ...   \n",
              "1964  A South Korean Web-hosting service provider, N...   \n",
              "1965  University College London is hit by a ÃÂÃÂ...   \n",
              "1966   The Ulster University is also hit by Ransomware.   \n",
              "1967  Bitfinex, the worldÃÂÃÂÃÂªs largest US do...   \n",
              "1968  Kaspersky Lab reveal the details of a massive ...   \n",
              "\n",
              "                               Organization Name  \\\n",
              "0                              Algonquin College   \n",
              "1                                    Infosys Ltd   \n",
              "2     Japan Environmental Storage & Safety Corp.   \n",
              "3                      Confidential Organization   \n",
              "4                                 Houston Astros   \n",
              "...                                          ...   \n",
              "1964                                      Nayana   \n",
              "1965                   University College London   \n",
              "1966                           Ulster University   \n",
              "1967                                    Bitfinex   \n",
              "1968                   Multiple Industrial Firms   \n",
              "\n",
              "                                 Sector  Year        Date  \n",
              "0                             Education  2021  12-06-2015  \n",
              "1                    Industry: Software  2021  17-06-2015  \n",
              "2             Industry: waste treatment  2021  15-06-2015  \n",
              "3     GovernmentÃÂÃÂÃÂ¬,\\rMilitary  2021  16-06-2015  \n",
              "4                     Single Individual  2021  16-06-2015  \n",
              "...                                 ...   ...         ...  \n",
              "1964                    Industry: Telco  2023  14-06-2017  \n",
              "1965                          Education  2023  15-06-2017  \n",
              "1966                          Education  2023  15-06-2017  \n",
              "1967            Cryptocurrency Exchange  2023  15-06-2017  \n",
              "1968                       Industry: >1  2023  15-06-2017  \n",
              "\n",
              "[1969 rows x 9 columns]"
            ]
          },
          "execution_count": 9,
          "metadata": {},
          "output_type": "execute_result"
        }
      ],
      "source": [
        "hack"
      ]
    },
    {
      "cell_type": "code",
      "execution_count": null,
      "metadata": {
        "colab": {
          "base_uri": "https://localhost:8080/"
        },
        "id": "WE1FF5ssJ5Ay",
        "outputId": "5442b792-404c-4399-dbd1-de6557f2e44c"
      },
      "outputs": [
        {
          "data": {
            "text/plain": [
              "Government                     288\n",
              "Single Individuals             135\n",
              "Education                      123\n",
              "Private                        109\n",
              "Finance                         74\n",
              "                              ... \n",
              "Industry: Job Search             1\n",
              "Social Club                      1\n",
              "Bus Station                      1\n",
              "Virtual Community                1\n",
              "Industry: Internet Families      1\n",
              "Name: Sector, Length: 366, dtype: int64"
            ]
          },
          "execution_count": 6,
          "metadata": {},
          "output_type": "execute_result"
        }
      ],
      "source": [
        "hack['Sector'].value_counts()"
      ]
    },
    {
      "cell_type": "code",
      "execution_count": null,
      "metadata": {
        "colab": {
          "base_uri": "https://localhost:8080/"
        },
        "id": "DVAIpRa035v6",
        "outputId": "75ec4f87-3af7-4cc4-f443-94186b74585a"
      },
      "outputs": [
        {
          "data": {
            "text/plain": [
              "Attack Type                                                    Unknown\n",
              "Attack_class                                                Hacktivism\n",
              "Author                                                       Anonymous\n",
              "Country                                                             CA\n",
              "Description          Hackers from the Anonymous collective say they...\n",
              "Organization Name                                               Canada\n",
              "Sector                                                      Government\n",
              "Year                                                              2021\n",
              "Date                                                        25-07-2015\n",
              "Name: 95, dtype: object"
            ]
          },
          "execution_count": 12,
          "metadata": {},
          "output_type": "execute_result"
        }
      ],
      "source": [
        "hack.iloc[94]"
      ]
    },
    {
      "cell_type": "code",
      "execution_count": null,
      "metadata": {
        "id": "R-TtSKwe4MtL"
      },
      "outputs": [],
      "source": [
        "hack=hack.drop(hack.index[94],axis=0)"
      ]
    },
    {
      "cell_type": "code",
      "execution_count": null,
      "metadata": {
        "colab": {
          "base_uri": "https://localhost:8080/"
        },
        "id": "5TvJ1NbOIBLj",
        "outputId": "949cfa85-dd0d-4ab9-9315-32841c4b0a5a"
      },
      "outputs": [
        {
          "data": {
            "text/plain": [
              "128"
            ]
          },
          "execution_count": 24,
          "metadata": {},
          "output_type": "execute_result"
        }
      ],
      "source": [
        "hack['Attack Type'].nunique()"
      ]
    },
    {
      "cell_type": "code",
      "execution_count": null,
      "metadata": {
        "colab": {
          "base_uri": "https://localhost:8080/"
        },
        "id": "-G1NVL8ULAAz",
        "outputId": "a3bf801b-072b-4380-e6c9-f4a3c9ed2eee"
      },
      "outputs": [
        {
          "data": {
            "text/plain": [
              "Cyber Crime        1404\n",
              "Hacktivism          259\n",
              "Cyber Espionage     232\n",
              "Cyber War            74\n",
              "Name: Attack_class, dtype: int64"
            ]
          },
          "execution_count": 54,
          "metadata": {},
          "output_type": "execute_result"
        }
      ],
      "source": [
        "hack['Attack_class'].value_counts()"
      ]
    },
    {
      "cell_type": "code",
      "execution_count": null,
      "metadata": {
        "colab": {
          "base_uri": "https://localhost:8080/"
        },
        "id": "bBfHrKMQL48J",
        "outputId": "0b07a6fd-ca17-46cd-b8fa-8fa240aa8d4e"
      },
      "outputs": [
        {
          "data": {
            "text/plain": [
              "232"
            ]
          },
          "execution_count": 65,
          "metadata": {},
          "output_type": "execute_result"
        }
      ],
      "source": [
        "(hack['Country']=='RU').sum()"
      ]
    },
    {
      "cell_type": "code",
      "execution_count": null,
      "metadata": {
        "id": "MSR0__EcND2k"
      },
      "outputs": [],
      "source": [
        "hack['Country'] = hack['Country'].replace(['>1'],['RU'])\n",
        "hack['Country'] = hack['Country'].replace(['UA,\\r'],['US'])"
      ]
    },
    {
      "cell_type": "code",
      "execution_count": null,
      "metadata": {
        "colab": {
          "base_uri": "https://localhost:8080/"
        },
        "id": "Ry5bcsWEYXG4",
        "outputId": "ac0cf37e-2d62-4e4e-e342-250df89c7a71"
      },
      "outputs": [
        {
          "data": {
            "text/plain": [
              "US                         795\n",
              "RU                         232\n",
              "UK                         107\n",
              "IN                          64\n",
              "CA                          49\n",
              "                          ... \n",
              "AO                           1\n",
              "DO GG MV NL PA KE MX BA      1\n",
              "JO KR FR ME                  1\n",
              "FJ                           1\n",
              "UA  AU                       1\n",
              "Name: Country, Length: 132, dtype: int64"
            ]
          },
          "execution_count": 69,
          "metadata": {},
          "output_type": "execute_result"
        }
      ],
      "source": [
        "hack['Country'].value_counts()"
      ]
    },
    {
      "cell_type": "code",
      "execution_count": null,
      "metadata": {
        "colab": {
          "base_uri": "https://localhost:8080/"
        },
        "id": "d6538JFSRNqM",
        "outputId": "1a22405c-a22a-4724-8a87-c0c4aca79219"
      },
      "outputs": [
        {
          "name": "stderr",
          "output_type": "stream",
          "text": [
            "<ipython-input-25-fdfcfaf1033a>:1: FutureWarning: The default value of regex will change from True to False in a future version. In addition, single character regular expressions will *not* be treated as literal strings when regex=True.\n",
            "  hack['Author']= hack['Author'].str.replace('?','Unknown')\n"
          ]
        }
      ],
      "source": [
        "hack['Author']= hack['Author'].str.replace('?','Unknown')"
      ]
    },
    {
      "cell_type": "code",
      "execution_count": null,
      "metadata": {
        "id": "To6G2ugWRNqN"
      },
      "outputs": [],
      "source": [
        "hack.columns = hack.columns.str.replace('dat','Date')"
      ]
    },
    {
      "cell_type": "code",
      "execution_count": null,
      "metadata": {
        "id": "Vy_vn8ixRNqN"
      },
      "outputs": [],
      "source": [
        "hack['Attack_class'] = hack['Attack_class'].replace(['H','CC','CE','CW','CC,CE'],['Hacktivism', 'Cyber Crime','Cyber Espionage','Cyber War','Cyber Crime'])"
      ]
    },
    {
      "cell_type": "code",
      "execution_count": null,
      "metadata": {
        "colab": {
          "base_uri": "https://localhost:8080/"
        },
        "id": "aI_wJMSUI7fL",
        "outputId": "606628c4-db7d-4377-c9d3-cfd2fde89933"
      },
      "outputs": [
        {
          "data": {
            "text/plain": [
              "Attack Type                                            Targeted Attack\n",
              "Attack_class                                           Cyber Espionage\n",
              "Author                                                           APT29\n",
              "Country                                                             RU\n",
              "Description          Researchers at FireEye unveil a stealthy malwa...\n",
              "Organization Name                            Confidential Organization\n",
              "Sector                                                      Government\n",
              "Year                                                              2021\n",
              "Date                                                        30-07-2015\n",
              "Name: 105, dtype: object"
            ]
          },
          "execution_count": 21,
          "metadata": {},
          "output_type": "execute_result"
        }
      ],
      "source": [
        "hack.iloc[104]"
      ]
    },
    {
      "cell_type": "code",
      "execution_count": null,
      "metadata": {
        "colab": {
          "base_uri": "https://localhost:8080/"
        },
        "id": "Ms0a9xWYKrH7",
        "outputId": "6737e000-c988-4c47-a437-ba9ab1512061"
      },
      "outputs": [
        {
          "data": {
            "text/plain": [
              "Confidential Organization                                         23\n",
              "South Korean Company                                               9\n",
              "Single Individuals                                                 7\n",
              "US Democratic Party                                                6\n",
              "Android Users                                                      6\n",
              "                                                                  ..\n",
              "Centre dÃÂÃÂÃÂªIdentification des Materiels de la Defense     1\n",
              "Websites of Italian Regions Apulia and Basilicata                  1\n",
              "York Hospital                                                      1\n",
              "Linux Mint Distribution                                            1\n",
              "Multiple Industrial Firms                                          1\n",
              "Name: Organization Name, Length: 1820, dtype: int64"
            ]
          },
          "execution_count": 16,
          "metadata": {},
          "output_type": "execute_result"
        }
      ],
      "source": [
        "hack['Organization Name'].value_counts()"
      ]
    },
    {
      "cell_type": "code",
      "execution_count": null,
      "metadata": {
        "id": "1KGaJNF4KUxY"
      },
      "outputs": [],
      "source": [
        "hack['Attack_class'] = hack['Attack_class'].replace(['2015','CCCE','Industry: Telco','IN','JP','US'],['Cyber Espionage','Cyber Espionage','Cyber Espionage','Cyber Espionage','Cyber Espionage','Cyber Espionage'])"
      ]
    },
    {
      "cell_type": "code",
      "execution_count": null,
      "metadata": {
        "id": "2hVTTbW6RNqN"
      },
      "outputs": [],
      "source": [
        "hack['Attack Type']=[i.replace('?','') for i in hack['Attack Type']]\n",
        "hack['Attack Type']=[i.replace(',\\r','') for i in hack['Attack Type']]\n",
        "hack['Attack_class']=[i.replace(',\\r','') for i in hack['Attack_class']]"
      ]
    },
    {
      "cell_type": "code",
      "execution_count": null,
      "metadata": {
        "colab": {
          "base_uri": "https://localhost:8080/",
          "height": 506
        },
        "id": "uXYX5NZzRNqN",
        "outputId": "1ccc87fa-5ec2-48ce-cba5-f55a505d1b23",
        "scrolled": false
      },
      "outputs": [
        {
          "data": {
            "image/png": "[encoded data removed]",
            "text/plain": [
              "<Figure size 1300x700 with 1 Axes>"
            ]
          },
          "metadata": {},
          "output_type": "display_data"
        }
      ],
      "source": [
        "hack.groupby('Author').agg({'Attack Type':'count'}).sort_values('Attack Type', ascending = True).tail(20)[:-1].plot.barh(grid = False)\n",
        "plt.tick_params(axis='both', which='major', labelsize=15)\n",
        "plt.tick_params(axis='both', which='minor', labelsize=8)\n",
        "#plt.savefig(\"hacker.png\",bbox_inches='tight')"
      ]
    },
    {
      "cell_type": "code",
      "execution_count": null,
      "metadata": {
        "colab": {
          "base_uri": "https://localhost:8080/"
        },
        "id": "jhg1bWvuRNqN",
        "outputId": "d601eea3-197a-4aa5-d5a3-17cfa1eaafa9"
      },
      "outputs": [
        {
          "data": {
            "text/plain": [
              "0"
            ]
          },
          "execution_count": 23,
          "metadata": {},
          "output_type": "execute_result"
        }
      ],
      "source": [
        "(hack['Organization Name']==',,,,').sum()"
      ]
    },
    {
      "cell_type": "code",
      "execution_count": null,
      "metadata": {
        "id": "-jS7aLF0ZSZf"
      },
      "outputs": [],
      "source": [
        "hack['Organization Name'] = hack['Organization Name'].replace(['South Korea'],['South Korean Company'])\n",
        "hack['Organization Name'] = hack['Organization Name'].replace(['>1,\\r'],['Confidential Organization'])"
      ]
    },
    {
      "cell_type": "code",
      "execution_count": null,
      "metadata": {
        "id": "S_0FeljaboPa"
      },
      "outputs": [],
      "source": [
        "hack['Sector'] = hack['Sector'].replace(['>1'],['Private'])"
      ]
    },
    {
      "cell_type": "code",
      "execution_count": null,
      "metadata": {
        "colab": {
          "base_uri": "https://localhost:8080/",
          "height": 739
        },
        "id": "TXfhird6RNqN",
        "outputId": "dd59b7f4-8e2a-49d6-c141-7020988eaee4"
      },
      "outputs": [
        {
          "name": "stderr",
          "output_type": "stream",
          "text": [
            "<ipython-input-11-c402c3689f7f>:4: FutureWarning: In a future version of pandas all arguments of DataFrame.pivot will be keyword-only.\n",
            "  test = g.pivot(\"Attack\",\"Attack_class\",\"Target\").fillna(0)\n",
            "/usr/local/lib/python3.10/dist-packages/seaborn/utils.py:61: UserWarning: Glyph 13 (\r) missing from current font.\n",
            "  fig.canvas.draw()\n",
            ") missing from current font.\n",
            "  func(*args, **kwargs)\n",
            ") missing from current font.\n",
            "  fig.canvas.print_figure(bytes_io, **kw)\n"
          ]
        },
        {
          "data": {
            "image/png": "[encoded data removed]",
            "text/plain": [
              "<Figure size 1300x700 with 2 Axes>"
            ]
          },
          "metadata": {},
          "output_type": "display_data"
        }
      ],
      "source": [
        "g = hack.groupby(['Attack_class','Attack']).agg({'Target':'count'}).reset_index().sort_values('Target',ascending = False).head(50)\n",
        "#sns.heatmap(g)\n",
        "#\n",
        "test = g.pivot(\"Attack\",\"Attack_class\",\"Target\").fillna(0)\n",
        "\n",
        "sns.heatmap(test)\n",
        "plt.yticks(rotation=1)\n",
        "plt.tick_params(axis='both', which='major', labelsize=15)\n",
        "plt.tick_params(axis='both', which='minor', labelsize=8)\n",
        "#plt.savefig(\"heatmap.png\",bbox_inches='tight')\n"
      ]
    },
    {
      "cell_type": "code",
      "execution_count": null,
      "metadata": {
        "colab": {
          "base_uri": "https://localhost:8080/",
          "height": 579
        },
        "id": "FhriU1hqRNqN",
        "outputId": "39aaaa72-ba23-49b4-f5af-4cf0ff9b1eae",
        "scrolled": true
      },
      "outputs": [
        {
          "data": {
            "image/png": "[encoded data removed]",
            "text/plain": [
              "<Figure size 1300x700 with 1 Axes>"
            ]
          },
          "metadata": {},
          "output_type": "display_data"
        }
      ],
      "source": [
        "b = [i.split(' ')[0] for i in hack['Attack Type'].tolist() if type(i) != float]\n",
        "b = [i.split(',')[0] for i in b if type(i) != float]\n",
        "b = [i.split(',\\r')[0] for i in b if type(i) != float]\n",
        "b = [str(i).replace('?','') for i in b]\n",
        "\n",
        "#b.groupby('Attack').agg({'Author':'count'}).reset_index().sort_values('Author', ascending = False)\n",
        "pd.DataFrame.from_dict(dict(Counter(b)),orient='index').sort_values(0,ascending=True).tail(20)[:-1].plot.barh(grid=False)\n",
        "plt.tick_params(axis='both', which='major', labelsize=15)\n",
        "plt.tick_params(axis='both', which='minor', labelsize=8)\n",
        "#plt.savefig(\"top_attack_bar.png\",bbox_inches='tight')"
      ]
    },
    {
      "cell_type": "code",
      "execution_count": null,
      "metadata": {
        "colab": {
          "base_uri": "https://localhost:8080/",
          "height": 455
        },
        "id": "aYMQ2oDVRNqO",
        "outputId": "c5dc8ba2-57b2-4006-eb67-1e40a019d7ca"
      },
      "outputs": [
        {
          "data": {
            "application/vnd.google.colaboratory.intrinsic+json": {
              "summary": "{\n  \"name\": \"#sns\",\n  \"rows\": 697,\n  \"fields\": [\n    {\n      \"column\": \"Target\",\n      \"properties\": {\n        \"dtype\": \"number\",\n        \"std\": 17,\n        \"min\": 0,\n        \"max\": 385,\n        \"num_unique_values\": 23,\n        \"samples\": [\n          7,\n          21,\n          385\n        ],\n        \"semantic_type\": \"\",\n        \"description\": \"\"\n      }\n    }\n  ]\n}",
              "type": "dataframe"
            },
            "text/html": [
              "\n",
              "  <div id=\"df-6454a422-ebf2-4880-816b-fd8f70d60869\" class=\"colab-df-container\">\n",
              "    <div>\n",
              "<style scoped>\n",
              "    .dataframe tbody tr th:only-of-type {\n",
              "        vertical-align: middle;\n",
              "    }\n",
              "\n",
              "    .dataframe tbody tr th {\n",
              "        vertical-align: top;\n",
              "    }\n",
              "\n",
              "    .dataframe thead th {\n",
              "        text-align: right;\n",
              "    }\n",
              "</style>\n",
              "<table border=\"1\" class=\"dataframe\">\n",
              "  <thead>\n",
              "    <tr style=\"text-align: right;\">\n",
              "      <th></th>\n",
              "      <th></th>\n",
              "      <th>Target</th>\n",
              "    </tr>\n",
              "    <tr>\n",
              "      <th>Author</th>\n",
              "      <th>Attack</th>\n",
              "      <th></th>\n",
              "    </tr>\n",
              "  </thead>\n",
              "  <tbody>\n",
              "    <tr>\n",
              "      <th rowspan=\"5\" valign=\"top\">Unknown</th>\n",
              "      <th>Unknown</th>\n",
              "      <td>385</td>\n",
              "    </tr>\n",
              "    <tr>\n",
              "      <th>Account Hijacking</th>\n",
              "      <td>172</td>\n",
              "    </tr>\n",
              "    <tr>\n",
              "      <th>Malware</th>\n",
              "      <td>138</td>\n",
              "    </tr>\n",
              "    <tr>\n",
              "      <th>DDoS</th>\n",
              "      <td>94</td>\n",
              "    </tr>\n",
              "    <tr>\n",
              "      <th>Targeted Attack</th>\n",
              "      <td>87</td>\n",
              "    </tr>\n",
              "    <tr>\n",
              "      <th>...</th>\n",
              "      <th>...</th>\n",
              "      <td>...</td>\n",
              "    </tr>\n",
              "    <tr>\n",
              "      <th>18/07/15</th>\n",
              "      <th>Law Enforcement</th>\n",
              "      <td>0</td>\n",
              "    </tr>\n",
              "    <tr>\n",
              "      <th>17/07/15</th>\n",
              "      <th>Government</th>\n",
              "      <td>0</td>\n",
              "    </tr>\n",
              "    <tr>\n",
              "      <th>Blacksmith HackerÂÃÂªs Team</th>\n",
              "      <th>Defacement</th>\n",
              "      <td>0</td>\n",
              "    </tr>\n",
              "    <tr>\n",
              "      <th>Phineas Phisher AKA Hack Back! AKA @GammaGroupPR</th>\n",
              "      <th>Unknown</th>\n",
              "      <td>0</td>\n",
              "    </tr>\n",
              "    <tr>\n",
              "      <th>FruityArmor</th>\n",
              "      <th>Targeted Attack</th>\n",
              "      <td>0</td>\n",
              "    </tr>\n",
              "  </tbody>\n",
              "</table>\n",
              "<p>697 rows × 1 columns</p>\n",
              "</div>\n",
              "    <div class=\"colab-df-buttons\">\n",
              "\n",
              "  <div class=\"colab-df-container\">\n",
              "    <button class=\"colab-df-convert\" onclick=\"convertToInteractive('df-6454a422-ebf2-4880-816b-fd8f70d60869')\"\n",
              "            title=\"Convert this dataframe to an interactive table.\"\n",
              "            style=\"display:none;\">\n",
              "\n",
              "  <svg xmlns=\"http://www.w3.org/2000/svg\" height=\"24px\" viewBox=\"0 -960 960 960\">\n",
              "    <path d=\"M120-120v-720h720v720H120Zm60-500h600v-160H180v160Zm220 220h160v-160H400v160Zm0 220h160v-160H400v160ZM180-400h160v-160H180v160Zm440 0h160v-160H620v160ZM180-180h160v-160H180v160Zm440 0h160v-160H620v160Z\"/>\n",
              "  </svg>\n",
              "    </button>\n",
              "\n",
              "  <style>\n",
              "    .colab-df-container {\n",
              "      display:flex;\n",
              "      gap: 12px;\n",
              "    }\n",
              "\n",
              "    .colab-df-convert {\n",
              "      background-color: #E8F0FE;\n",
              "      border: none;\n",
              "      border-radius: 50%;\n",
              "      cursor: pointer;\n",
              "      display: none;\n",
              "      fill: #1967D2;\n",
              "      height: 32px;\n",
              "      padding: 0 0 0 0;\n",
              "      width: 32px;\n",
              "    }\n",
              "\n",
              "    .colab-df-convert:hover {\n",
              "      background-color: #E2EBFA;\n",
              "      box-shadow: 0px 1px 2px rgba(60, 64, 67, 0.3), 0px 1px 3px 1px rgba(60, 64, 67, 0.15);\n",
              "      fill: #174EA6;\n",
              "    }\n",
              "\n",
              "    .colab-df-buttons div {\n",
              "      margin-bottom: 4px;\n",
              "    }\n",
              "\n",
              "    [theme=dark] .colab-df-convert {\n",
              "      background-color: #3B4455;\n",
              "      fill: #D2E3FC;\n",
              "    }\n",
              "\n",
              "    [theme=dark] .colab-df-convert:hover {\n",
              "      background-color: #434B5C;\n",
              "      box-shadow: 0px 1px 3px 1px rgba(0, 0, 0, 0.15);\n",
              "      filter: drop-shadow(0px 1px 2px rgba(0, 0, 0, 0.3));\n",
              "      fill: #FFFFFF;\n",
              "    }\n",
              "  </style>\n",
              "\n",
              "    <script>\n",
              "      const buttonEl =\n",
              "        document.querySelector('#df-6454a422-ebf2-4880-816b-fd8f70d60869 button.colab-df-convert');\n",
              "      buttonEl.style.display =\n",
              "        google.colab.kernel.accessAllowed ? 'block' : 'none';\n",
              "\n",
              "      async function convertToInteractive(key) {\n",
              "        const element = document.querySelector('#df-6454a422-ebf2-4880-816b-fd8f70d60869');\n",
              "        const dataTable =\n",
              "          await google.colab.kernel.invokeFunction('convertToInteractive',\n",
              "                                                    [key], {});\n",
              "        if (!dataTable) return;\n",
              "\n",
              "        const docLinkHtml = 'Like what you see? Visit the ' +\n",
              "          '<a target=\"_blank\" href=https://colab.research.google.com/notebooks/data_table.ipynb>data table notebook</a>'\n",
              "          + ' to learn more about interactive tables.';\n",
              "        element.innerHTML = '';\n",
              "        dataTable['output_type'] = 'display_data';\n",
              "        await google.colab.output.renderOutput(dataTable, element);\n",
              "        const docLink = document.createElement('div');\n",
              "        docLink.innerHTML = docLinkHtml;\n",
              "        element.appendChild(docLink);\n",
              "      }\n",
              "    </script>\n",
              "  </div>\n",
              "\n",
              "\n",
              "<div id=\"df-218a1689-4ba9-4da3-8fcc-4803321015f3\">\n",
              "  <button class=\"colab-df-quickchart\" onclick=\"quickchart('df-218a1689-4ba9-4da3-8fcc-4803321015f3')\"\n",
              "            title=\"Suggest charts\"\n",
              "            style=\"display:none;\">\n",
              "\n",
              "<svg xmlns=\"http://www.w3.org/2000/svg\" height=\"24px\"viewBox=\"0 0 24 24\"\n",
              "     width=\"24px\">\n",
              "    <g>\n",
              "        <path d=\"M19 3H5c-1.1 0-2 .9-2 2v14c0 1.1.9 2 2 2h14c1.1 0 2-.9 2-2V5c0-1.1-.9-2-2-2zM9 17H7v-7h2v7zm4 0h-2V7h2v10zm4 0h-2v-4h2v4z\"/>\n",
              "    </g>\n",
              "</svg>\n",
              "  </button>\n",
              "\n",
              "<style>\n",
              "  .colab-df-quickchart {\n",
              "      --bg-color: #E8F0FE;\n",
              "      --fill-color: #1967D2;\n",
              "      --hover-bg-color: #E2EBFA;\n",
              "      --hover-fill-color: #174EA6;\n",
              "      --disabled-fill-color: #AAA;\n",
              "      --disabled-bg-color: #DDD;\n",
              "  }\n",
              "\n",
              "  [theme=dark] .colab-df-quickchart {\n",
              "      --bg-color: #3B4455;\n",
              "      --fill-color: #D2E3FC;\n",
              "      --hover-bg-color: #434B5C;\n",
              "      --hover-fill-color: #FFFFFF;\n",
              "      --disabled-bg-color: #3B4455;\n",
              "      --disabled-fill-color: #666;\n",
              "  }\n",
              "\n",
              "  .colab-df-quickchart {\n",
              "    background-color: var(--bg-color);\n",
              "    border: none;\n",
              "    border-radius: 50%;\n",
              "    cursor: pointer;\n",
              "    display: none;\n",
              "    fill: var(--fill-color);\n",
              "    height: 32px;\n",
              "    padding: 0;\n",
              "    width: 32px;\n",
              "  }\n",
              "\n",
              "  .colab-df-quickchart:hover {\n",
              "    background-color: var(--hover-bg-color);\n",
              "    box-shadow: 0 1px 2px rgba(60, 64, 67, 0.3), 0 1px 3px 1px rgba(60, 64, 67, 0.15);\n",
              "    fill: var(--button-hover-fill-color);\n",
              "  }\n",
              "\n",
              "  .colab-df-quickchart-complete:disabled,\n",
              "  .colab-df-quickchart-complete:disabled:hover {\n",
              "    background-color: var(--disabled-bg-color);\n",
              "    fill: var(--disabled-fill-color);\n",
              "    box-shadow: none;\n",
              "  }\n",
              "\n",
              "  .colab-df-spinner {\n",
              "    border: 2px solid var(--fill-color);\n",
              "    border-color: transparent;\n",
              "    border-bottom-color: var(--fill-color);\n",
              "    animation:\n",
              "      spin 1s steps(1) infinite;\n",
              "  }\n",
              "\n",
              "  @keyframes spin {\n",
              "    0% {\n",
              "      border-color: transparent;\n",
              "      border-bottom-color: var(--fill-color);\n",
              "      border-left-color: var(--fill-color);\n",
              "    }\n",
              "    20% {\n",
              "      border-color: transparent;\n",
              "      border-left-color: var(--fill-color);\n",
              "      border-top-color: var(--fill-color);\n",
              "    }\n",
              "    30% {\n",
              "      border-color: transparent;\n",
              "      border-left-color: var(--fill-color);\n",
              "      border-top-color: var(--fill-color);\n",
              "      border-right-color: var(--fill-color);\n",
              "    }\n",
              "    40% {\n",
              "      border-color: transparent;\n",
              "      border-right-color: var(--fill-color);\n",
              "      border-top-color: var(--fill-color);\n",
              "    }\n",
              "    60% {\n",
              "      border-color: transparent;\n",
              "      border-right-color: var(--fill-color);\n",
              "    }\n",
              "    80% {\n",
              "      border-color: transparent;\n",
              "      border-right-color: var(--fill-color);\n",
              "      border-bottom-color: var(--fill-color);\n",
              "    }\n",
              "    90% {\n",
              "      border-color: transparent;\n",
              "      border-bottom-color: var(--fill-color);\n",
              "    }\n",
              "  }\n",
              "</style>\n",
              "\n",
              "  <script>\n",
              "    async function quickchart(key) {\n",
              "      const quickchartButtonEl =\n",
              "        document.querySelector('#' + key + ' button');\n",
              "      quickchartButtonEl.disabled = true;  // To prevent multiple clicks.\n",
              "      quickchartButtonEl.classList.add('colab-df-spinner');\n",
              "      try {\n",
              "        const charts = await google.colab.kernel.invokeFunction(\n",
              "            'suggestCharts', [key], {});\n",
              "      } catch (error) {\n",
              "        console.error('Error during call to suggestCharts:', error);\n",
              "      }\n",
              "      quickchartButtonEl.classList.remove('colab-df-spinner');\n",
              "      quickchartButtonEl.classList.add('colab-df-quickchart-complete');\n",
              "    }\n",
              "    (() => {\n",
              "      let quickchartButtonEl =\n",
              "        document.querySelector('#df-218a1689-4ba9-4da3-8fcc-4803321015f3 button');\n",
              "      quickchartButtonEl.style.display =\n",
              "        google.colab.kernel.accessAllowed ? 'block' : 'none';\n",
              "    })();\n",
              "  </script>\n",
              "</div>\n",
              "    </div>\n",
              "  </div>\n"
            ],
            "text/plain": [
              "                                                                    Target\n",
              "Author                                           Attack                   \n",
              "Unknown                                          Unknown               385\n",
              "                                                 Account Hijacking     172\n",
              "                                                 Malware               138\n",
              "                                                 DDoS                   94\n",
              "                                                 Targeted Attack        87\n",
              "...                                                                    ...\n",
              "18/07/15                                         Law Enforcement         0\n",
              "17/07/15                                         Government              0\n",
              "Blacksmith HackerÂÃÂªs Team                    Defacement              0\n",
              "Phineas Phisher AKA Hack Back! AKA @GammaGroupPR Unknown                 0\n",
              "FruityArmor                                      Targeted Attack         0\n",
              "\n",
              "[697 rows x 1 columns]"
            ]
          },
          "execution_count": 13,
          "metadata": {},
          "output_type": "execute_result"
        }
      ],
      "source": [
        "hack.groupby(['Author','Attack']).agg({'Target':'count'}).sort_values('Target',ascending = False)\n",
        "#sns.heatmap(q)"
      ]
    },
    {
      "cell_type": "code",
      "execution_count": null,
      "metadata": {
        "id": "56Yfv6aXcGIl"
      },
      "outputs": [],
      "source": [
        "hack.to_csv('finall.csv')"
      ]
    },
    {
      "cell_type": "code",
      "execution_count": null,
      "metadata": {
        "id": "n40O7tbC4pUg"
      },
      "outputs": [],
      "source": [
        "df=df.drop(['Date'],axis=1)"
      ]
    },
    {
      "cell_type": "code",
      "execution_count": null,
      "metadata": {
        "colab": {
          "base_uri": "https://localhost:8080/"
        },
        "id": "NVisXUMH48E7",
        "outputId": "29f93765-e98f-4238-8678-c44245a1a7ce"
      },
      "outputs": [
        {
          "data": {
            "application/vnd.google.colaboratory.intrinsic+json": {
              "summary": "{\n  \"name\": \"df\",\n  \"rows\": 1968,\n  \"fields\": [\n    {\n      \"column\": \"Unnamed: 0\",\n      \"properties\": {\n        \"dtype\": \"number\",\n        \"std\": 568,\n        \"min\": 0,\n        \"max\": 1968,\n        \"num_unique_values\": 1968,\n        \"samples\": [\n          858,\n          1481,\n          56\n        ],\n        \"semantic_type\": \"\",\n        \"description\": \"\"\n      }\n    },\n    {\n      \"column\": \"Attack Type\",\n      \"properties\": {\n        \"dtype\": \"number\",\n        \"std\": 40,\n        \"min\": 0,\n        \"max\": 126,\n        \"num_unique_values\": 127,\n        \"samples\": [\n          35,\n          8,\n          89\n        ],\n        \"semantic_type\": \"\",\n        \"description\": \"\"\n      }\n    },\n    {\n      \"column\": \"Attack_class\",\n      \"properties\": {\n        \"dtype\": \"number\",\n        \"std\": 1,\n        \"min\": 0,\n        \"max\": 3,\n        \"num_unique_values\": 4,\n        \"samples\": [\n          1,\n          2,\n          0\n        ],\n        \"semantic_type\": \"\",\n        \"description\": \"\"\n      }\n    },\n    {\n      \"column\": \"Author\",\n      \"properties\": {\n        \"dtype\": \"number\",\n        \"std\": 147,\n        \"min\": 0,\n        \"max\": 525,\n        \"num_unique_values\": 526,\n        \"samples\": [\n          339,\n          171,\n          32\n        ],\n        \"semantic_type\": \"\",\n        \"description\": \"\"\n      }\n    },\n    {\n      \"column\": \"Country\",\n      \"properties\": {\n        \"dtype\": \"number\",\n        \"std\": 34,\n        \"min\": 0,\n        \"max\": 132,\n        \"num_unique_values\": 133,\n        \"samples\": [\n          122,\n          31,\n          71\n        ],\n        \"semantic_type\": \"\",\n        \"description\": \"\"\n      }\n    },\n    {\n      \"column\": \"Description\",\n      \"properties\": {\n        \"dtype\": \"string\",\n        \"num_unique_values\": 1963,\n        \"samples\": [\n          \"The website of Taiwan\\u00c3\\u0082\\u00c2\\u0089\\u00c3\\u0083\\u00c2\\u009b\\u00c3\\u0082\\u00c2\\u00aas ruling Democratic Progressive Party is under attack from cyber spies seeking to profile visitors to the site, part of a campaign to get information about the party\\u00c3\\u0082\\u00c2\\u0089\\u00c3\\u0083\\u00c2\\u009b\\u00c3\\u0082\\u00c2\\u00aas policies following its election victory in January.\",\n          \"An Albanian hacker named nofawkX-al defaces the website of the Romanian Football Federation (FRF), two days after the Albanian football team defeated the Romanian football team at the 2016 European Football Championship.\",\n          \"Several security companies report that the attackers that targeted Apple, Facebook, Microsoft, and Twitter two years ago in a series of high-profile hacks are back and got bigger. Targets include at least 40 companies in different sectors. The group is known as Butterfly, Morpho, Wild Neutron or Jripbot.\"\n        ],\n        \"semantic_type\": \"\",\n        \"description\": \"\"\n      }\n    },\n    {\n      \"column\": \"Organization Name\",\n      \"properties\": {\n        \"dtype\": \"number\",\n        \"std\": 525,\n        \"min\": 0,\n        \"max\": 1819,\n        \"num_unique_values\": 1820,\n        \"samples\": [\n          1112,\n          884,\n          1090\n        ],\n        \"semantic_type\": \"\",\n        \"description\": \"\"\n      }\n    },\n    {\n      \"column\": \"Sector\",\n      \"properties\": {\n        \"dtype\": \"number\",\n        \"std\": 117,\n        \"min\": 0,\n        \"max\": 365,\n        \"num_unique_values\": 366,\n        \"samples\": [\n          203,\n          325,\n          13\n        ],\n        \"semantic_type\": \"\",\n        \"description\": \"\"\n      }\n    },\n    {\n      \"column\": \"Year\",\n      \"properties\": {\n        \"dtype\": \"category\",\n        \"num_unique_values\": 5,\n        \"samples\": [\n          \"6\",\n          \"#VALUE!\",\n          \"2022\"\n        ],\n        \"semantic_type\": \"\",\n        \"description\": \"\"\n      }\n    }\n  ]\n}",
              "type": "dataframe",
              "variable_name": "df"
            },
            "text/html": [
              "\n",
              "  <div id=\"df-246f2331-9950-40d4-ba05-f1ffc3dc4469\" class=\"colab-df-container\">\n",
              "    <div>\n",
              "<style scoped>\n",
              "    .dataframe tbody tr th:only-of-type {\n",
              "        vertical-align: middle;\n",
              "    }\n",
              "\n",
              "    .dataframe tbody tr th {\n",
              "        vertical-align: top;\n",
              "    }\n",
              "\n",
              "    .dataframe thead th {\n",
              "        text-align: right;\n",
              "    }\n",
              "</style>\n",
              "<table border=\"1\" class=\"dataframe\">\n",
              "  <thead>\n",
              "    <tr style=\"text-align: right;\">\n",
              "      <th></th>\n",
              "      <th>Unnamed: 0</th>\n",
              "      <th>Attack Type</th>\n",
              "      <th>Attack_class</th>\n",
              "      <th>Author</th>\n",
              "      <th>Country</th>\n",
              "      <th>Description</th>\n",
              "      <th>Organization Name</th>\n",
              "      <th>Sector</th>\n",
              "      <th>Year</th>\n",
              "    </tr>\n",
              "  </thead>\n",
              "  <tbody>\n",
              "    <tr>\n",
              "      <th>0</th>\n",
              "      <td>0</td>\n",
              "      <td>109</td>\n",
              "      <td>0</td>\n",
              "      <td>470</td>\n",
              "      <td>19</td>\n",
              "      <td>A server hack at Algonquin College in Ottawa l...</td>\n",
              "      <td>100</td>\n",
              "      <td>36</td>\n",
              "      <td>2021</td>\n",
              "    </tr>\n",
              "    <tr>\n",
              "      <th>1</th>\n",
              "      <td>1</td>\n",
              "      <td>109</td>\n",
              "      <td>0</td>\n",
              "      <td>470</td>\n",
              "      <td>52</td>\n",
              "      <td>The salary accounts of more than 23 employees ...</td>\n",
              "      <td>599</td>\n",
              "      <td>213</td>\n",
              "      <td>2021</td>\n",
              "    </tr>\n",
              "    <tr>\n",
              "      <th>2</th>\n",
              "      <td>2</td>\n",
              "      <td>68</td>\n",
              "      <td>0</td>\n",
              "      <td>470</td>\n",
              "      <td>60</td>\n",
              "      <td>The internal computer network of the state-run...</td>\n",
              "      <td>637</td>\n",
              "      <td>241</td>\n",
              "      <td>2021</td>\n",
              "    </tr>\n",
              "    <tr>\n",
              "      <th>3</th>\n",
              "      <td>3</td>\n",
              "      <td>102</td>\n",
              "      <td>1</td>\n",
              "      <td>470</td>\n",
              "      <td>94</td>\n",
              "      <td>Researchers from Palo Alto Networks reveal the...</td>\n",
              "      <td>327</td>\n",
              "      <td>51</td>\n",
              "      <td>2021</td>\n",
              "    </tr>\n",
              "    <tr>\n",
              "      <th>4</th>\n",
              "      <td>4</td>\n",
              "      <td>109</td>\n",
              "      <td>0</td>\n",
              "      <td>413</td>\n",
              "      <td>116</td>\n",
              "      <td>The St. Louis Cardinals baseball franchise is ...</td>\n",
              "      <td>566</td>\n",
              "      <td>339</td>\n",
              "      <td>2021</td>\n",
              "    </tr>\n",
              "    <tr>\n",
              "      <th>...</th>\n",
              "      <td>...</td>\n",
              "      <td>...</td>\n",
              "      <td>...</td>\n",
              "      <td>...</td>\n",
              "      <td>...</td>\n",
              "      <td>...</td>\n",
              "      <td>...</td>\n",
              "      <td>...</td>\n",
              "      <td>...</td>\n",
              "    </tr>\n",
              "    <tr>\n",
              "      <th>1963</th>\n",
              "      <td>1964</td>\n",
              "      <td>68</td>\n",
              "      <td>0</td>\n",
              "      <td>470</td>\n",
              "      <td>65</td>\n",
              "      <td>A South Korean Web-hosting service provider, N...</td>\n",
              "      <td>859</td>\n",
              "      <td>224</td>\n",
              "      <td>2023</td>\n",
              "    </tr>\n",
              "    <tr>\n",
              "      <th>1964</th>\n",
              "      <td>1965</td>\n",
              "      <td>68</td>\n",
              "      <td>0</td>\n",
              "      <td>470</td>\n",
              "      <td>114</td>\n",
              "      <td>University College London is hit by a ÃÂÃÂ...</td>\n",
              "      <td>1452</td>\n",
              "      <td>36</td>\n",
              "      <td>2023</td>\n",
              "    </tr>\n",
              "    <tr>\n",
              "      <th>1965</th>\n",
              "      <td>1966</td>\n",
              "      <td>68</td>\n",
              "      <td>0</td>\n",
              "      <td>470</td>\n",
              "      <td>114</td>\n",
              "      <td>The Ulster University is also hit by Ransomware.</td>\n",
              "      <td>1437</td>\n",
              "      <td>36</td>\n",
              "      <td>2023</td>\n",
              "    </tr>\n",
              "    <tr>\n",
              "      <th>1966</th>\n",
              "      <td>1967</td>\n",
              "      <td>25</td>\n",
              "      <td>0</td>\n",
              "      <td>470</td>\n",
              "      <td>47</td>\n",
              "      <td>Bitfinex, the worldÃÂÃÂÃÂªs largest US do...</td>\n",
              "      <td>207</td>\n",
              "      <td>27</td>\n",
              "      <td>2023</td>\n",
              "    </tr>\n",
              "    <tr>\n",
              "      <th>1967</th>\n",
              "      <td>1968</td>\n",
              "      <td>3</td>\n",
              "      <td>0</td>\n",
              "      <td>96</td>\n",
              "      <td>94</td>\n",
              "      <td>Kaspersky Lab reveal the details of a massive ...</td>\n",
              "      <td>822</td>\n",
              "      <td>61</td>\n",
              "      <td>2023</td>\n",
              "    </tr>\n",
              "  </tbody>\n",
              "</table>\n",
              "<p>1968 rows × 9 columns</p>\n",
              "</div>\n",
              "    <div class=\"colab-df-buttons\">\n",
              "\n",
              "  <div class=\"colab-df-container\">\n",
              "    <button class=\"colab-df-convert\" onclick=\"convertToInteractive('df-246f2331-9950-40d4-ba05-f1ffc3dc4469')\"\n",
              "            title=\"Convert this dataframe to an interactive table.\"\n",
              "            style=\"display:none;\">\n",
              "\n",
              "  <svg xmlns=\"http://www.w3.org/2000/svg\" height=\"24px\" viewBox=\"0 -960 960 960\">\n",
              "    <path d=\"M120-120v-720h720v720H120Zm60-500h600v-160H180v160Zm220 220h160v-160H400v160Zm0 220h160v-160H400v160ZM180-400h160v-160H180v160Zm440 0h160v-160H620v160ZM180-180h160v-160H180v160Zm440 0h160v-160H620v160Z\"/>\n",
              "  </svg>\n",
              "    </button>\n",
              "\n",
              "  <style>\n",
              "    .colab-df-container {\n",
              "      display:flex;\n",
              "      gap: 12px;\n",
              "    }\n",
              "\n",
              "    .colab-df-convert {\n",
              "      background-color: #E8F0FE;\n",
              "      border: none;\n",
              "      border-radius: 50%;\n",
              "      cursor: pointer;\n",
              "      display: none;\n",
              "      fill: #1967D2;\n",
              "      height: 32px;\n",
              "      padding: 0 0 0 0;\n",
              "      width: 32px;\n",
              "    }\n",
              "\n",
              "    .colab-df-convert:hover {\n",
              "      background-color: #E2EBFA;\n",
              "      box-shadow: 0px 1px 2px rgba(60, 64, 67, 0.3), 0px 1px 3px 1px rgba(60, 64, 67, 0.15);\n",
              "      fill: #174EA6;\n",
              "    }\n",
              "\n",
              "    .colab-df-buttons div {\n",
              "      margin-bottom: 4px;\n",
              "    }\n",
              "\n",
              "    [theme=dark] .colab-df-convert {\n",
              "      background-color: #3B4455;\n",
              "      fill: #D2E3FC;\n",
              "    }\n",
              "\n",
              "    [theme=dark] .colab-df-convert:hover {\n",
              "      background-color: #434B5C;\n",
              "      box-shadow: 0px 1px 3px 1px rgba(0, 0, 0, 0.15);\n",
              "      filter: drop-shadow(0px 1px 2px rgba(0, 0, 0, 0.3));\n",
              "      fill: #FFFFFF;\n",
              "    }\n",
              "  </style>\n",
              "\n",
              "    <script>\n",
              "      const buttonEl =\n",
              "        document.querySelector('#df-246f2331-9950-40d4-ba05-f1ffc3dc4469 button.colab-df-convert');\n",
              "      buttonEl.style.display =\n",
              "        google.colab.kernel.accessAllowed ? 'block' : 'none';\n",
              "\n",
              "      async function convertToInteractive(key) {\n",
              "        const element = document.querySelector('#df-246f2331-9950-40d4-ba05-f1ffc3dc4469');\n",
              "        const dataTable =\n",
              "          await google.colab.kernel.invokeFunction('convertToInteractive',\n",
              "                                                    [key], {});\n",
              "        if (!dataTable) return;\n",
              "\n",
              "        const docLinkHtml = 'Like what you see? Visit the ' +\n",
              "          '<a target=\"_blank\" href=https://colab.research.google.com/notebooks/data_table.ipynb>data table notebook</a>'\n",
              "          + ' to learn more about interactive tables.';\n",
              "        element.innerHTML = '';\n",
              "        dataTable['output_type'] = 'display_data';\n",
              "        await google.colab.output.renderOutput(dataTable, element);\n",
              "        const docLink = document.createElement('div');\n",
              "        docLink.innerHTML = docLinkHtml;\n",
              "        element.appendChild(docLink);\n",
              "      }\n",
              "    </script>\n",
              "  </div>\n",
              "\n",
              "\n",
              "<div id=\"df-8d86c879-2c2b-4b50-b819-d996fc367a48\">\n",
              "  <button class=\"colab-df-quickchart\" onclick=\"quickchart('df-8d86c879-2c2b-4b50-b819-d996fc367a48')\"\n",
              "            title=\"Suggest charts\"\n",
              "            style=\"display:none;\">\n",
              "\n",
              "<svg xmlns=\"http://www.w3.org/2000/svg\" height=\"24px\"viewBox=\"0 0 24 24\"\n",
              "     width=\"24px\">\n",
              "    <g>\n",
              "        <path d=\"M19 3H5c-1.1 0-2 .9-2 2v14c0 1.1.9 2 2 2h14c1.1 0 2-.9 2-2V5c0-1.1-.9-2-2-2zM9 17H7v-7h2v7zm4 0h-2V7h2v10zm4 0h-2v-4h2v4z\"/>\n",
              "    </g>\n",
              "</svg>\n",
              "  </button>\n",
              "\n",
              "<style>\n",
              "  .colab-df-quickchart {\n",
              "      --bg-color: #E8F0FE;\n",
              "      --fill-color: #1967D2;\n",
              "      --hover-bg-color: #E2EBFA;\n",
              "      --hover-fill-color: #174EA6;\n",
              "      --disabled-fill-color: #AAA;\n",
              "      --disabled-bg-color: #DDD;\n",
              "  }\n",
              "\n",
              "  [theme=dark] .colab-df-quickchart {\n",
              "      --bg-color: #3B4455;\n",
              "      --fill-color: #D2E3FC;\n",
              "      --hover-bg-color: #434B5C;\n",
              "      --hover-fill-color: #FFFFFF;\n",
              "      --disabled-bg-color: #3B4455;\n",
              "      --disabled-fill-color: #666;\n",
              "  }\n",
              "\n",
              "  .colab-df-quickchart {\n",
              "    background-color: var(--bg-color);\n",
              "    border: none;\n",
              "    border-radius: 50%;\n",
              "    cursor: pointer;\n",
              "    display: none;\n",
              "    fill: var(--fill-color);\n",
              "    height: 32px;\n",
              "    padding: 0;\n",
              "    width: 32px;\n",
              "  }\n",
              "\n",
              "  .colab-df-quickchart:hover {\n",
              "    background-color: var(--hover-bg-color);\n",
              "    box-shadow: 0 1px 2px rgba(60, 64, 67, 0.3), 0 1px 3px 1px rgba(60, 64, 67, 0.15);\n",
              "    fill: var(--button-hover-fill-color);\n",
              "  }\n",
              "\n",
              "  .colab-df-quickchart-complete:disabled,\n",
              "  .colab-df-quickchart-complete:disabled:hover {\n",
              "    background-color: var(--disabled-bg-color);\n",
              "    fill: var(--disabled-fill-color);\n",
              "    box-shadow: none;\n",
              "  }\n",
              "\n",
              "  .colab-df-spinner {\n",
              "    border: 2px solid var(--fill-color);\n",
              "    border-color: transparent;\n",
              "    border-bottom-color: var(--fill-color);\n",
              "    animation:\n",
              "      spin 1s steps(1) infinite;\n",
              "  }\n",
              "\n",
              "  @keyframes spin {\n",
              "    0% {\n",
              "      border-color: transparent;\n",
              "      border-bottom-color: var(--fill-color);\n",
              "      border-left-color: var(--fill-color);\n",
              "    }\n",
              "    20% {\n",
              "      border-color: transparent;\n",
              "      border-left-color: var(--fill-color);\n",
              "      border-top-color: var(--fill-color);\n",
              "    }\n",
              "    30% {\n",
              "      border-color: transparent;\n",
              "      border-left-color: var(--fill-color);\n",
              "      border-top-color: var(--fill-color);\n",
              "      border-right-color: var(--fill-color);\n",
              "    }\n",
              "    40% {\n",
              "      border-color: transparent;\n",
              "      border-right-color: var(--fill-color);\n",
              "      border-top-color: var(--fill-color);\n",
              "    }\n",
              "    60% {\n",
              "      border-color: transparent;\n",
              "      border-right-color: var(--fill-color);\n",
              "    }\n",
              "    80% {\n",
              "      border-color: transparent;\n",
              "      border-right-color: var(--fill-color);\n",
              "      border-bottom-color: var(--fill-color);\n",
              "    }\n",
              "    90% {\n",
              "      border-color: transparent;\n",
              "      border-bottom-color: var(--fill-color);\n",
              "    }\n",
              "  }\n",
              "</style>\n",
              "\n",
              "  <script>\n",
              "    async function quickchart(key) {\n",
              "      const quickchartButtonEl =\n",
              "        document.querySelector('#' + key + ' button');\n",
              "      quickchartButtonEl.disabled = true;  // To prevent multiple clicks.\n",
              "      quickchartButtonEl.classList.add('colab-df-spinner');\n",
              "      try {\n",
              "        const charts = await google.colab.kernel.invokeFunction(\n",
              "            'suggestCharts', [key], {});\n",
              "      } catch (error) {\n",
              "        console.error('Error during call to suggestCharts:', error);\n",
              "      }\n",
              "      quickchartButtonEl.classList.remove('colab-df-spinner');\n",
              "      quickchartButtonEl.classList.add('colab-df-quickchart-complete');\n",
              "    }\n",
              "    (() => {\n",
              "      let quickchartButtonEl =\n",
              "        document.querySelector('#df-8d86c879-2c2b-4b50-b819-d996fc367a48 button');\n",
              "      quickchartButtonEl.style.display =\n",
              "        google.colab.kernel.accessAllowed ? 'block' : 'none';\n",
              "    })();\n",
              "  </script>\n",
              "</div>\n",
              "    </div>\n",
              "  </div>\n"
            ],
            "text/plain": [
              "      Unnamed: 0  Attack Type  Attack_class  Author  Country  \\\n",
              "0              0          109             0     470       19   \n",
              "1              1          109             0     470       52   \n",
              "2              2           68             0     470       60   \n",
              "3              3          102             1     470       94   \n",
              "4              4          109             0     413      116   \n",
              "...          ...          ...           ...     ...      ...   \n",
              "1963        1964           68             0     470       65   \n",
              "1964        1965           68             0     470      114   \n",
              "1965        1966           68             0     470      114   \n",
              "1966        1967           25             0     470       47   \n",
              "1967        1968            3             0      96       94   \n",
              "\n",
              "                                            Description  Organization Name  \\\n",
              "0     A server hack at Algonquin College in Ottawa l...                100   \n",
              "1     The salary accounts of more than 23 employees ...                599   \n",
              "2     The internal computer network of the state-run...                637   \n",
              "3     Researchers from Palo Alto Networks reveal the...                327   \n",
              "4     The St. Louis Cardinals baseball franchise is ...                566   \n",
              "...                                                 ...                ...   \n",
              "1963  A South Korean Web-hosting service provider, N...                859   \n",
              "1964  University College London is hit by a ÃÂÃÂ...               1452   \n",
              "1965   The Ulster University is also hit by Ransomware.               1437   \n",
              "1966  Bitfinex, the worldÃÂÃÂÃÂªs largest US do...                207   \n",
              "1967  Kaspersky Lab reveal the details of a massive ...                822   \n",
              "\n",
              "      Sector  Year  \n",
              "0         36  2021  \n",
              "1        213  2021  \n",
              "2        241  2021  \n",
              "3         51  2021  \n",
              "4        339  2021  \n",
              "...      ...   ...  \n",
              "1963     224  2023  \n",
              "1964      36  2023  \n",
              "1965      36  2023  \n",
              "1966      27  2023  \n",
              "1967      61  2023  \n",
              "\n",
              "[1968 rows x 9 columns]"
            ]
          },
          "execution_count": 5,
          "metadata": {},
          "output_type": "execute_result"
        }
      ],
      "source": [
        "df"
      ]
    },
    {
      "cell_type": "code",
      "execution_count": null,
      "metadata": {
        "colab": {
          "base_uri": "https://localhost:8080/"
        },
        "id": "JtJAytm25q1p",
        "outputId": "292e7c95-bfa2-4ee2-f63b-96534ed448bc"
      },
      "outputs": [
        {
          "data": {
            "text/plain": [
              "Unnamed: 0           0\n",
              "Attack Type          0\n",
              "Attack_class         0\n",
              "Author               0\n",
              "Country              0\n",
              "Description          2\n",
              "Organization Name    0\n",
              "Sector               0\n",
              "Year                 0\n",
              "dtype: int64"
            ]
          },
          "execution_count": 15,
          "metadata": {},
          "output_type": "execute_result"
        }
      ],
      "source": [
        "df.isnull().sum()"
      ]
    },
    {
      "cell_type": "code",
      "execution_count": null,
      "metadata": {
        "id": "BlPwACJs522u"
      },
      "outputs": [],
      "source": [
        "# Fill NaN values in 'Description' column with a placeholder string\n",
        "df['Description'] = df['Description'].fillna('No description available')"
      ]
    },
    {
      "cell_type": "code",
      "execution_count": null,
      "metadata": {
        "id": "cMnho0-hVdl-"
      },
      "outputs": [],
      "source": []
    },
    {
      "cell_type": "code",
      "execution_count": null,
      "metadata": {
        "id": "feTPcNQlRNqO"
      },
      "outputs": [],
      "source": [
        "hack = hack.replace(['cloudbleed'],['2017'])"
      ]
    },
    {
      "cell_type": "code",
      "execution_count": null,
      "metadata": {
        "collapsed": true,
        "id": "15rRUrcMRNqO"
      },
      "outputs": [],
      "source": [
        "hack['Country'] = hack['Country'].replace(['Cyber'],['US'])"
      ]
    },
    {
      "cell_type": "code",
      "execution_count": null,
      "metadata": {
        "colab": {
          "base_uri": "https://localhost:8080/",
          "height": 455
        },
        "id": "2BKbTEnrRNqO",
        "outputId": "d28bfe69-5d19-4f03-e707-dff0a04065ff"
      },
      "outputs": [
        {
          "data": {
            "application/vnd.google.colaboratory.intrinsic+json": {
              "summary": "{\n  \"name\": \"hack\",\n  \"rows\": 527,\n  \"fields\": [\n    {\n      \"column\": \"Author\",\n      \"properties\": {\n        \"dtype\": \"string\",\n        \"num_unique_values\": 527,\n        \"samples\": [\n          \"AnonymousCorrupt\",\n          \"An unidentified group, APT28 and Turla\",\n          \"North Korea\"\n        ],\n        \"semantic_type\": \"\",\n        \"description\": \"\"\n      }\n    },\n    {\n      \"column\": \"count\",\n      \"properties\": {\n        \"dtype\": \"number\",\n        \"std\": 48,\n        \"min\": 1,\n        \"max\": 1110,\n        \"num_unique_values\": 14,\n        \"samples\": [\n          5,\n          3,\n          1110\n        ],\n        \"semantic_type\": \"\",\n        \"description\": \"\"\n      }\n    }\n  ]\n}",
              "type": "dataframe"
            },
            "text/html": [
              "\n",
              "  <div id=\"df-dacab76b-07f2-4631-b1b1-26b041efcacf\" class=\"colab-df-container\">\n",
              "    <div>\n",
              "<style scoped>\n",
              "    .dataframe tbody tr th:only-of-type {\n",
              "        vertical-align: middle;\n",
              "    }\n",
              "\n",
              "    .dataframe tbody tr th {\n",
              "        vertical-align: top;\n",
              "    }\n",
              "\n",
              "    .dataframe thead th {\n",
              "        text-align: right;\n",
              "    }\n",
              "</style>\n",
              "<table border=\"1\" class=\"dataframe\">\n",
              "  <thead>\n",
              "    <tr style=\"text-align: right;\">\n",
              "      <th></th>\n",
              "      <th>count</th>\n",
              "    </tr>\n",
              "    <tr>\n",
              "      <th>Author</th>\n",
              "      <th></th>\n",
              "    </tr>\n",
              "  </thead>\n",
              "  <tbody>\n",
              "    <tr>\n",
              "      <th>Unknown</th>\n",
              "      <td>1110</td>\n",
              "    </tr>\n",
              "    <tr>\n",
              "      <th>Anonymous</th>\n",
              "      <td>75</td>\n",
              "    </tr>\n",
              "    <tr>\n",
              "      <th>OurMine</th>\n",
              "      <td>25</td>\n",
              "    </tr>\n",
              "    <tr>\n",
              "      <th>Kapustkiy</th>\n",
              "      <td>12</td>\n",
              "    </tr>\n",
              "    <tr>\n",
              "      <th>RussiaUnknown</th>\n",
              "      <td>10</td>\n",
              "    </tr>\n",
              "    <tr>\n",
              "      <th>...</th>\n",
              "      <td>...</td>\n",
              "    </tr>\n",
              "    <tr>\n",
              "      <th>Expl.oit AKA Exploit</th>\n",
              "      <td>1</td>\n",
              "    </tr>\n",
              "    <tr>\n",
              "      <th>Exfocus</th>\n",
              "      <td>1</td>\n",
              "    </tr>\n",
              "    <tr>\n",
              "      <th>Exe-code</th>\n",
              "      <td>1</td>\n",
              "    </tr>\n",
              "    <tr>\n",
              "      <th>Evaldas Rimasauskas</th>\n",
              "      <td>1</td>\n",
              "    </tr>\n",
              "    <tr>\n",
              "      <th>Ã¥ÃUnknown</th>\n",
              "      <td>1</td>\n",
              "    </tr>\n",
              "  </tbody>\n",
              "</table>\n",
              "<p>527 rows × 1 columns</p>\n",
              "</div>\n",
              "    <div class=\"colab-df-buttons\">\n",
              "\n",
              "  <div class=\"colab-df-container\">\n",
              "    <button class=\"colab-df-convert\" onclick=\"convertToInteractive('df-dacab76b-07f2-4631-b1b1-26b041efcacf')\"\n",
              "            title=\"Convert this dataframe to an interactive table.\"\n",
              "            style=\"display:none;\">\n",
              "\n",
              "  <svg xmlns=\"http://www.w3.org/2000/svg\" height=\"24px\" viewBox=\"0 -960 960 960\">\n",
              "    <path d=\"M120-120v-720h720v720H120Zm60-500h600v-160H180v160Zm220 220h160v-160H400v160Zm0 220h160v-160H400v160ZM180-400h160v-160H180v160Zm440 0h160v-160H620v160ZM180-180h160v-160H180v160Zm440 0h160v-160H620v160Z\"/>\n",
              "  </svg>\n",
              "    </button>\n",
              "\n",
              "  <style>\n",
              "    .colab-df-container {\n",
              "      display:flex;\n",
              "      gap: 12px;\n",
              "    }\n",
              "\n",
              "    .colab-df-convert {\n",
              "      background-color: #E8F0FE;\n",
              "      border: none;\n",
              "      border-radius: 50%;\n",
              "      cursor: pointer;\n",
              "      display: none;\n",
              "      fill: #1967D2;\n",
              "      height: 32px;\n",
              "      padding: 0 0 0 0;\n",
              "      width: 32px;\n",
              "    }\n",
              "\n",
              "    .colab-df-convert:hover {\n",
              "      background-color: #E2EBFA;\n",
              "      box-shadow: 0px 1px 2px rgba(60, 64, 67, 0.3), 0px 1px 3px 1px rgba(60, 64, 67, 0.15);\n",
              "      fill: #174EA6;\n",
              "    }\n",
              "\n",
              "    .colab-df-buttons div {\n",
              "      margin-bottom: 4px;\n",
              "    }\n",
              "\n",
              "    [theme=dark] .colab-df-convert {\n",
              "      background-color: #3B4455;\n",
              "      fill: #D2E3FC;\n",
              "    }\n",
              "\n",
              "    [theme=dark] .colab-df-convert:hover {\n",
              "      background-color: #434B5C;\n",
              "      box-shadow: 0px 1px 3px 1px rgba(0, 0, 0, 0.15);\n",
              "      filter: drop-shadow(0px 1px 2px rgba(0, 0, 0, 0.3));\n",
              "      fill: #FFFFFF;\n",
              "    }\n",
              "  </style>\n",
              "\n",
              "    <script>\n",
              "      const buttonEl =\n",
              "        document.querySelector('#df-dacab76b-07f2-4631-b1b1-26b041efcacf button.colab-df-convert');\n",
              "      buttonEl.style.display =\n",
              "        google.colab.kernel.accessAllowed ? 'block' : 'none';\n",
              "\n",
              "      async function convertToInteractive(key) {\n",
              "        const element = document.querySelector('#df-dacab76b-07f2-4631-b1b1-26b041efcacf');\n",
              "        const dataTable =\n",
              "          await google.colab.kernel.invokeFunction('convertToInteractive',\n",
              "                                                    [key], {});\n",
              "        if (!dataTable) return;\n",
              "\n",
              "        const docLinkHtml = 'Like what you see? Visit the ' +\n",
              "          '<a target=\"_blank\" href=https://colab.research.google.com/notebooks/data_table.ipynb>data table notebook</a>'\n",
              "          + ' to learn more about interactive tables.';\n",
              "        element.innerHTML = '';\n",
              "        dataTable['output_type'] = 'display_data';\n",
              "        await google.colab.output.renderOutput(dataTable, element);\n",
              "        const docLink = document.createElement('div');\n",
              "        docLink.innerHTML = docLinkHtml;\n",
              "        element.appendChild(docLink);\n",
              "      }\n",
              "    </script>\n",
              "  </div>\n",
              "\n",
              "\n",
              "<div id=\"df-9eecd2bb-7cc8-46e5-bcca-bec3c2583b69\">\n",
              "  <button class=\"colab-df-quickchart\" onclick=\"quickchart('df-9eecd2bb-7cc8-46e5-bcca-bec3c2583b69')\"\n",
              "            title=\"Suggest charts\"\n",
              "            style=\"display:none;\">\n",
              "\n",
              "<svg xmlns=\"http://www.w3.org/2000/svg\" height=\"24px\"viewBox=\"0 0 24 24\"\n",
              "     width=\"24px\">\n",
              "    <g>\n",
              "        <path d=\"M19 3H5c-1.1 0-2 .9-2 2v14c0 1.1.9 2 2 2h14c1.1 0 2-.9 2-2V5c0-1.1-.9-2-2-2zM9 17H7v-7h2v7zm4 0h-2V7h2v10zm4 0h-2v-4h2v4z\"/>\n",
              "    </g>\n",
              "</svg>\n",
              "  </button>\n",
              "\n",
              "<style>\n",
              "  .colab-df-quickchart {\n",
              "      --bg-color: #E8F0FE;\n",
              "      --fill-color: #1967D2;\n",
              "      --hover-bg-color: #E2EBFA;\n",
              "      --hover-fill-color: #174EA6;\n",
              "      --disabled-fill-color: #AAA;\n",
              "      --disabled-bg-color: #DDD;\n",
              "  }\n",
              "\n",
              "  [theme=dark] .colab-df-quickchart {\n",
              "      --bg-color: #3B4455;\n",
              "      --fill-color: #D2E3FC;\n",
              "      --hover-bg-color: #434B5C;\n",
              "      --hover-fill-color: #FFFFFF;\n",
              "      --disabled-bg-color: #3B4455;\n",
              "      --disabled-fill-color: #666;\n",
              "  }\n",
              "\n",
              "  .colab-df-quickchart {\n",
              "    background-color: var(--bg-color);\n",
              "    border: none;\n",
              "    border-radius: 50%;\n",
              "    cursor: pointer;\n",
              "    display: none;\n",
              "    fill: var(--fill-color);\n",
              "    height: 32px;\n",
              "    padding: 0;\n",
              "    width: 32px;\n",
              "  }\n",
              "\n",
              "  .colab-df-quickchart:hover {\n",
              "    background-color: var(--hover-bg-color);\n",
              "    box-shadow: 0 1px 2px rgba(60, 64, 67, 0.3), 0 1px 3px 1px rgba(60, 64, 67, 0.15);\n",
              "    fill: var(--button-hover-fill-color);\n",
              "  }\n",
              "\n",
              "  .colab-df-quickchart-complete:disabled,\n",
              "  .colab-df-quickchart-complete:disabled:hover {\n",
              "    background-color: var(--disabled-bg-color);\n",
              "    fill: var(--disabled-fill-color);\n",
              "    box-shadow: none;\n",
              "  }\n",
              "\n",
              "  .colab-df-spinner {\n",
              "    border: 2px solid var(--fill-color);\n",
              "    border-color: transparent;\n",
              "    border-bottom-color: var(--fill-color);\n",
              "    animation:\n",
              "      spin 1s steps(1) infinite;\n",
              "  }\n",
              "\n",
              "  @keyframes spin {\n",
              "    0% {\n",
              "      border-color: transparent;\n",
              "      border-bottom-color: var(--fill-color);\n",
              "      border-left-color: var(--fill-color);\n",
              "    }\n",
              "    20% {\n",
              "      border-color: transparent;\n",
              "      border-left-color: var(--fill-color);\n",
              "      border-top-color: var(--fill-color);\n",
              "    }\n",
              "    30% {\n",
              "      border-color: transparent;\n",
              "      border-left-color: var(--fill-color);\n",
              "      border-top-color: var(--fill-color);\n",
              "      border-right-color: var(--fill-color);\n",
              "    }\n",
              "    40% {\n",
              "      border-color: transparent;\n",
              "      border-right-color: var(--fill-color);\n",
              "      border-top-color: var(--fill-color);\n",
              "    }\n",
              "    60% {\n",
              "      border-color: transparent;\n",
              "      border-right-color: var(--fill-color);\n",
              "    }\n",
              "    80% {\n",
              "      border-color: transparent;\n",
              "      border-right-color: var(--fill-color);\n",
              "      border-bottom-color: var(--fill-color);\n",
              "    }\n",
              "    90% {\n",
              "      border-color: transparent;\n",
              "      border-bottom-color: var(--fill-color);\n",
              "    }\n",
              "  }\n",
              "</style>\n",
              "\n",
              "  <script>\n",
              "    async function quickchart(key) {\n",
              "      const quickchartButtonEl =\n",
              "        document.querySelector('#' + key + ' button');\n",
              "      quickchartButtonEl.disabled = true;  // To prevent multiple clicks.\n",
              "      quickchartButtonEl.classList.add('colab-df-spinner');\n",
              "      try {\n",
              "        const charts = await google.colab.kernel.invokeFunction(\n",
              "            'suggestCharts', [key], {});\n",
              "      } catch (error) {\n",
              "        console.error('Error during call to suggestCharts:', error);\n",
              "      }\n",
              "      quickchartButtonEl.classList.remove('colab-df-spinner');\n",
              "      quickchartButtonEl.classList.add('colab-df-quickchart-complete');\n",
              "    }\n",
              "    (() => {\n",
              "      let quickchartButtonEl =\n",
              "        document.querySelector('#df-9eecd2bb-7cc8-46e5-bcca-bec3c2583b69 button');\n",
              "      quickchartButtonEl.style.display =\n",
              "        google.colab.kernel.accessAllowed ? 'block' : 'none';\n",
              "    })();\n",
              "  </script>\n",
              "</div>\n",
              "    </div>\n",
              "  </div>\n"
            ],
            "text/plain": [
              "                      count\n",
              "Author                     \n",
              "Unknown                1110\n",
              "Anonymous                75\n",
              "OurMine                  25\n",
              "Kapustkiy                12\n",
              "RussiaUnknown            10\n",
              "...                     ...\n",
              "Expl.oit AKA Exploit      1\n",
              "Exfocus                   1\n",
              "Exe-code                  1\n",
              "Evaldas Rimasauskas       1\n",
              "Ã¥ÃUnknown               1\n",
              "\n",
              "[527 rows x 1 columns]"
            ]
          },
          "execution_count": 16,
          "metadata": {},
          "output_type": "execute_result"
        }
      ],
      "source": [
        "hack.groupby('Author').agg(['count'])['Attack'].sort_values('count', ascending=False)"
      ]
    },
    {
      "cell_type": "code",
      "execution_count": null,
      "metadata": {
        "id": "yjZsK4s2RNqO"
      },
      "outputs": [],
      "source": [
        "descr = hack['Description'].tolist()\n",
        "tf = [True if (re.findall('million|billion',i) != []) else False for i in descr]"
      ]
    },
    {
      "cell_type": "code",
      "execution_count": null,
      "metadata": {
        "id": "4zK0lOL2RNqO"
      },
      "outputs": [],
      "source": [
        "n = [str(i).replace('Industry: ','') for i in hack['Target_class']]\n",
        "n = [str(i).replace('Org: ','') for i in n]"
      ]
    },
    {
      "cell_type": "code",
      "execution_count": null,
      "metadata": {
        "id": "ajYq7RUrRNqP"
      },
      "outputs": [],
      "source": [
        "hack['Attack_class']=[str(i).replace(',\\r','') for i in hack['Attack_class']]"
      ]
    },
    {
      "cell_type": "code",
      "execution_count": null,
      "metadata": {
        "id": "7cWVru-5RNqP"
      },
      "outputs": [],
      "source": [
        "hack['Attack_class']=hack['Attack_class'].replace(['CC','CCCE','CW?','H','IN','Industry: Telco','JP','US'],['Cyber Crime','Cyber Espionage','Cyber War','Hacktivism','Cyber Crime','Cyber War','Hacktivism','Cyber Espionage'])"
      ]
    },
    {
      "cell_type": "code",
      "execution_count": null,
      "metadata": {
        "id": "OV14CrW_RNqP",
        "outputId": "aef852f2-6958-467e-a769-78a7cf36c440",
        "scrolled": true
      },
      "outputs": [
        {
          "data": {
            "image/png": "[encoded data removed]",
            "text/plain": [
              "<matplotlib.figure.Figure at 0x145d3cb38>"
            ]
          },
          "metadata": {},
          "output_type": "display_data"
        }
      ],
      "source": [
        "\n",
        "hack.groupby('Attack_class').agg({'Attack': 'count'}).plot.pie(subplots=True, explode=(0.03,0,0,0), shadow=True)\n",
        "plt.tick_params(labelsize='25')\n",
        "#plt.savefig(\"attack_class_pie.png\",bbox_inches='tight')"
      ]
    },
    {
      "cell_type": "code",
      "execution_count": null,
      "metadata": {
        "id": "NbCookC8RNqP",
        "outputId": "07c4914e-ddeb-4682-d538-8fdb1f4acc5e",
        "scrolled": true
      },
      "outputs": [
        {
          "data": {
            "image/png": "[encoded data removed]",
            "text/plain": [
              "<matplotlib.figure.Figure at 0x1450e5198>"
            ]
          },
          "metadata": {},
          "output_type": "display_data"
        }
      ],
      "source": [
        "hack.groupby('Target_class').agg({'Attack': 'count'}).sort_values('Attack', ascending = False) \\\n",
        ".head(20).plot.pie(subplots=True,shadow=True, counterclock = False,legend=None)\n",
        "#mpl.rcParams['font.size'] = 20.0\n",
        "#plt.tick_params(axis='both', which='major', labelsize=15)\n",
        "#plt.tick_params(axis='both', which='minor', labelsize=8)\n",
        "#plt.savefig(\"target_class.png\",bbox_inches='tight')"
      ]
    },
    {
      "cell_type": "code",
      "execution_count": null,
      "metadata": {
        "id": "G_PQY7lLRNqP"
      },
      "outputs": [],
      "source": [
        "#[pd.to_datetime(i,format='%d/%m/%y') for i in hack['Date']]"
      ]
    },
    {
      "cell_type": "code",
      "execution_count": null,
      "metadata": {
        "id": "V9ZTAOz7RNqP",
        "outputId": "05b2ac6d-696b-41e3-96fa-f6618f6b91c2"
      },
      "outputs": [
        {
          "data": {
            "image/png": "[encoded data removed]",
            "text/plain": [
              "<matplotlib.figure.Figure at 0x142799b70>"
            ]
          },
          "metadata": {},
          "output_type": "display_data"
        }
      ],
      "source": [
        "hack.groupby(['Author','Attack']).agg({'Target':'count'}) \\\n",
        ".sort_values('Target',ascending = True).tail(25)[:-8].plot.barh(grid = False)\n",
        "plt.tick_params(axis='both', which='major', labelsize=15)\n",
        "plt.tick_params(axis='both', which='minor', labelsize=8)\n",
        "plt.savefig(\"author&attack_bar.png\",bbox_inches='tight')"
      ]
    },
    {
      "cell_type": "code",
      "execution_count": null,
      "metadata": {
        "collapsed": true,
        "id": "o_KZPyNFRNqQ"
      },
      "outputs": [],
      "source": [
        "pd.set_option('display.max_rows', 300)"
      ]
    },
    {
      "cell_type": "code",
      "execution_count": null,
      "metadata": {
        "id": "_BaYLnpKRNqQ"
      },
      "outputs": [],
      "source": [
        "hack.groupby(['Author','Target_class','Country']).\\\n",
        "    agg({'Target':'count'}).reset_index().sort_values('Target',ascending = False)"
      ]
    },
    {
      "cell_type": "code",
      "execution_count": null,
      "metadata": {
        "id": "VzrczUotRNqQ"
      },
      "outputs": [],
      "source": [
        "hack[hack['Author']=='Guccifer 2.0']['Description'].tolist()"
      ]
    },
    {
      "cell_type": "code",
      "execution_count": null,
      "metadata": {
        "id": "9gQW4sIxRNqQ"
      },
      "outputs": [],
      "source": [
        "authors = hack['Author'].tolist()"
      ]
    },
    {
      "cell_type": "code",
      "execution_count": null,
      "metadata": {
        "id": "jEOI-0aYRNqQ"
      },
      "outputs": [],
      "source": [
        "target = hack['Target'].tolist()"
      ]
    },
    {
      "cell_type": "code",
      "execution_count": null,
      "metadata": {
        "id": "2DZZ12inRNqQ"
      },
      "outputs": [],
      "source": [
        "clas = hack['Target_class'].tolist()"
      ]
    },
    {
      "cell_type": "code",
      "execution_count": null,
      "metadata": {
        "id": "tXnc4EfpRNqQ"
      },
      "outputs": [],
      "source": [
        "country = hack['Country'].tolist()\n"
      ]
    },
    {
      "cell_type": "code",
      "execution_count": null,
      "metadata": {
        "id": "g2mHIuZxRNqQ"
      },
      "outputs": [],
      "source": [
        "a = [i.split(' ')[0] for i in country if type(i) != float]\n",
        "a = [i.split(',')[0] for i in a if type(i) != float]\n",
        "a = [i.split(',\\r')[0] for i in a if type(i) != float]\n"
      ]
    },
    {
      "cell_type": "code",
      "execution_count": null,
      "metadata": {
        "id": "YA0YGH3wRNqQ",
        "outputId": "392985c9-e6c7-4ce2-87cc-1863191e4e3a"
      },
      "outputs": [
        {
          "name": "stdout",
          "output_type": "stream",
          "text": [
            "Counter({'US': 829, '>1': 197, 'UK': 114, 'IN': 64, 'CA': 49, 'RU': 39, 'AU': 35, 'JP': 33, 'KR': 25, 'DE': 24, 'IL': 22, 'IT': 21, 'CN': 21, 'FR': 21, 'GB': 21, 'UA': 19, 'TH': 18, 'BR': 16, 'SE': 14, 'ZA': 14, 'TR': 14, 'PK': 13, 'NL': 12, 'TW': 11, 'SA': 11, 'IE': 11, 'IR': 10, 'AZ': 9, 'HK': 9, 'CH': 8, 'PL': 7, 'VE': 7, 'PH': 7, 'INT': 7, 'BE': 6, 'MX': 6, 'NZ': 6, 'NO': 6, 'KE': 6, 'SG': 6, 'UAE': 5, 'BD': 5, 'DK': 5, 'AT': 5, 'CZ': 5, 'EU': 5, 'SY': 4, 'CY': 4, 'AM': 4, 'QA': 4, 'JO': 3, 'RO': 3, 'LK': 3, 'EC': 3, 'EG': 3, 'ES': 3, 'FI': 3, 'AE': 3, 'AF': 3, 'CC': 3, 'LU': 3, 'KY': 2, 'ID': 2, 'VN': 2, 'LB': 2, 'GR': 2, 'CR': 2, 'UG': 2, 'NG': 2, 'SK': 2, 'PA': 2, 'AL': 2, 'AR': 2, 'KW': 2, 'LT': 2, 'ME': 2, 'VU': 1, 'GE': 1, 'MY': 1, 'YU': 1, 'MA': 1, '>`1': 1, 'IQ': 1, 'IS': 1, 'BB': 1, 'OM': 1, '.TI': 1, 'KH': 1, 'CO': 1, 'RW': 1, 'H': 1, 'CL': 1, 'BO': 1, 'TZ': 1, 'GU': 1, 'AO': 1, 'DO': 1, 'FJ': 1, 'MM': 1, 'ZW': 1, 'KZ': 1, 'PY': 1, '>A': 1, 'LY': 1, 'HU': 1, 'BS': 1, 'SCOT': 1, 'KP': 1})\n"
          ]
        }
      ],
      "source": [
        "print(Counter(a))"
      ]
    },
    {
      "cell_type": "code",
      "execution_count": null,
      "metadata": {
        "id": "cGukwDtPRNqR",
        "outputId": "ec2d0fbd-04e8-49cd-88b4-c7a749cc5fec"
      },
      "outputs": [
        {
          "data": {
            "image/png": "[encoded data removed]",
            "text/plain": [
              "<matplotlib.figure.Figure at 0x14498c0b8>"
            ]
          },
          "metadata": {},
          "output_type": "display_data"
        }
      ],
      "source": [
        "pd.DataFrame.from_dict(dict(Counter(a)),orient='index').sort_values(0,ascending=True).tail(20).plot.barh(grid=False)\n",
        "plt.tick_params(axis='both', which='major', labelsize=15)\n",
        "plt.tick_params(axis='both', which='minor', labelsize=8)\n",
        "#plt.savefig(\"country_bar.png\",bbox_inches='tight')\n"
      ]
    },
    {
      "cell_type": "code",
      "execution_count": null,
      "metadata": {
        "id": "dkzMdz8oRNqR"
      },
      "outputs": [],
      "source": [
        "description = hack['Description'].tolist()"
      ]
    },
    {
      "cell_type": "code",
      "execution_count": null,
      "metadata": {
        "id": "Cq0bJ5wgRNqR",
        "outputId": "55fad946-c85d-4f92-d6ef-8a82c638f590"
      },
      "outputs": [
        {
          "data": {
            "text/plain": [
              "['Algonquin College',\n",
              " 'Infosys Ltd',\n",
              " 'Japan Environmental Storage & Safety Corp.',\n",
              " '>1',\n",
              " 'Houston Astros',\n",
              " 'Bonnier Publications',\n",
              " 'EFnet',\n",
              " 'University of Baltimore affiliated website (bniajfi.org)',\n",
              " 'Canadian Governments Web Sites',\n",
              " 'digitalcostitution.com']"
            ]
          },
          "execution_count": 33,
          "metadata": {},
          "output_type": "execute_result"
        }
      ],
      "source": [
        "target[:10]"
      ]
    },
    {
      "cell_type": "code",
      "execution_count": null,
      "metadata": {
        "id": "hlyOhaOiRNqR"
      },
      "outputs": [],
      "source": [
        "word = nltk.corpus.cmudict.words()"
      ]
    },
    {
      "cell_type": "code",
      "execution_count": null,
      "metadata": {
        "id": "rso_Xu0cRNqR"
      },
      "outputs": [],
      "source": [
        "from nltk.stem.snowball import SnowballStemmer\n",
        "stemmer = SnowballStemmer(\"english\")"
      ]
    },
    {
      "cell_type": "code",
      "execution_count": null,
      "metadata": {
        "id": "_FErZH29RNqS"
      },
      "outputs": [],
      "source": [
        "def tokenize_and_stem(text):\n",
        "    # first tokenize by sentence, then by word to ensure that punctuation is caught as it's own token\n",
        "    tokens = [word for sent in nltk.sent_tokenize(text) for word in nltk.word_tokenize(sent)]\n",
        "    filtered_tokens = []\n",
        "    # filter out any tokens not containing letters (e.g., numeric tokens, raw punctuation)\n",
        "    for token in tokens:\n",
        "        if re.search('[a-zA-Z]', token):\n",
        "            filtered_tokens.append(token)\n",
        "    stems = [stemmer.stem(t) for t in filtered_tokens]\n",
        "    return stems\n",
        "\n",
        "\n",
        "def tokenize_only(text):\n",
        "    # first tokenize by sentence, then by word to ensure that punctuation is caught as it's own token\n",
        "    tokens = [word.lower() for sent in nltk.sent_tokenize(text) for word in nltk.word_tokenize(sent)]\n",
        "    filtered_tokens = []\n",
        "    # filter out any tokens not containing letters (e.g., numeric tokens, raw punctuation)\n",
        "    for token in tokens:\n",
        "        if re.search('[a-zA-Z]', token):\n",
        "            filtered_tokens.append(token)\n",
        "    return filtered_tokens"
      ]
    },
    {
      "cell_type": "code",
      "execution_count": null,
      "metadata": {
        "id": "ooIy1C4_RNqS",
        "outputId": "49709b4f-96ea-49f9-c6a0-434e6e186f34"
      },
      "outputs": [
        {
          "name": "stdout",
          "output_type": "stream",
          "text": [
            "[nltk_data] Downloading package punkt to /Users/0xiNach/nltk_data...\n",
            "[nltk_data]   Unzipping tokenizers/punkt.zip.\n"
          ]
        },
        {
          "data": {
            "text/plain": [
              "True"
            ]
          },
          "execution_count": 37,
          "metadata": {},
          "output_type": "execute_result"
        }
      ],
      "source": [
        "nltk.download('punkt')"
      ]
    },
    {
      "cell_type": "code",
      "execution_count": null,
      "metadata": {
        "id": "tyQWCOScRNqS"
      },
      "outputs": [],
      "source": [
        "from nltk import word_tokenize,sent_tokenize\n",
        "totalvocab_stemmed = []\n",
        "totalvocab_tokenized = []\n",
        "for i in description:\n",
        "    allwords_stemmed = tokenize_and_stem(i) #for each item in 'synopses', tokenize/stem\n",
        "    totalvocab_stemmed.extend(allwords_stemmed) #extend the 'totalvocab_stemmed' list\n",
        "\n",
        "    allwords_tokenized = tokenize_only(i)\n",
        "    totalvocab_tokenized.extend(allwords_tokenized)"
      ]
    },
    {
      "cell_type": "code",
      "execution_count": null,
      "metadata": {
        "id": "RWA1lXKHRNqS",
        "outputId": "e7675fc4-3f14-4747-a84b-c07abbbabbfa"
      },
      "outputs": [
        {
          "name": "stdout",
          "output_type": "stream",
          "text": [
            "there are 50580 items in vocab_frame\n"
          ]
        }
      ],
      "source": [
        "vocab_frame = pd.DataFrame({'words': totalvocab_tokenized}, index = totalvocab_stemmed)\n",
        "print ('there are ' + str(vocab_frame.shape[0]) + ' items in vocab_frame')"
      ]
    },
    {
      "cell_type": "code",
      "execution_count": null,
      "metadata": {
        "id": "2Z6QQAl-RNqS",
        "outputId": "95662917-af2c-4fd6-b56d-0c6226b1018c"
      },
      "outputs": [
        {
          "name": "stdout",
          "output_type": "stream",
          "text": [
            "               words\n",
            "a                  a\n",
            "server        server\n",
            "hack            hack\n",
            "at                at\n",
            "algonquin  algonquin\n"
          ]
        }
      ],
      "source": [
        "print (vocab_frame.head())"
      ]
    },
    {
      "cell_type": "code",
      "execution_count": null,
      "metadata": {
        "id": "-t7X55jRRNqS",
        "outputId": "cebc18a0-96f1-4a3c-c610-7b109ae06421"
      },
      "outputs": [
        {
          "name": "stdout",
          "output_type": "stream",
          "text": [
            "CPU times: user 2.39 s, sys: 21.5 ms, total: 2.41 s\n",
            "Wall time: 2.42 s\n",
            "(1966, 45)\n"
          ]
        }
      ],
      "source": [
        "from sklearn.feature_extraction.text import TfidfVectorizer\n",
        "\n",
        "#define vectorizer parameters\n",
        "tfidf_vectorizer = TfidfVectorizer(max_df=0.5, max_features=200000,\n",
        "                                 min_df=0.05, stop_words='english',\n",
        "                                 use_idf=True, tokenizer=tokenize_and_stem, ngram_range=(1,3))\n",
        "\n",
        "%time tfidf_matrix = tfidf_vectorizer.fit_transform(description) #fit the vectorizer to synopses\n",
        "\n",
        "print(tfidf_matrix.shape)"
      ]
    },
    {
      "cell_type": "code",
      "execution_count": null,
      "metadata": {
        "id": "d-XVhJ9DRNqT"
      },
      "outputs": [],
      "source": [
        "terms = tfidf_vectorizer.get_feature_names()"
      ]
    },
    {
      "cell_type": "code",
      "execution_count": null,
      "metadata": {
        "id": "7EUAPaERRNqT"
      },
      "outputs": [],
      "source": [
        "from sklearn.metrics.pairwise import cosine_similarity\n",
        "dist = 1 - cosine_similarity (tfidf_matrix)"
      ]
    },
    {
      "cell_type": "code",
      "execution_count": null,
      "metadata": {
        "id": "8v_5M9B3RNqT",
        "outputId": "4e4b664b-42ce-454b-e114-ab1ac05bd124"
      },
      "outputs": [
        {
          "data": {
            "text/plain": [
              "<1966x45 sparse matrix of type '<class 'numpy.float64'>'\n",
              "\twith 7289 stored elements in Compressed Sparse Row format>"
            ]
          },
          "execution_count": 44,
          "metadata": {},
          "output_type": "execute_result"
        }
      ],
      "source": [
        "tfidf_matrix"
      ]
    },
    {
      "cell_type": "code",
      "execution_count": null,
      "metadata": {
        "id": "OhoR5qTdRNqT",
        "outputId": "84971618-244e-42c3-b8e1-d9d5545bfe51"
      },
      "outputs": [
        {
          "name": "stdout",
          "output_type": "stream",
          "text": [
            "CPU times: user 1.42 s, sys: 7.78 ms, total: 1.42 s\n",
            "Wall time: 1.43 s\n"
          ]
        }
      ],
      "source": [
        "from sklearn.cluster import KMeans\n",
        "\n",
        "num_clusters = 12\n",
        "\n",
        "km = KMeans(n_clusters=num_clusters)\n",
        "\n",
        "%time km.fit(tfidf_matrix)\n",
        "\n",
        "clusters = km.labels_.tolist()"
      ]
    },
    {
      "cell_type": "code",
      "execution_count": null,
      "metadata": {
        "id": "vZSm1ENlRNqT"
      },
      "outputs": [],
      "source": [
        "from sklearn.externals import joblib\n",
        "\n",
        "#uncomment the below to save your model\n",
        "#since I've already run my model I am loading from the pickle\n",
        "\n",
        "joblib.dump(km,  'doc_cluster.pkl')\n",
        "\n",
        "km = joblib.load('doc_cluster.pkl')\n",
        "clusters = km.labels_.tolist()\n"
      ]
    },
    {
      "cell_type": "code",
      "execution_count": null,
      "metadata": {
        "collapsed": true,
        "id": "Ty86IpRJRNqT"
      },
      "outputs": [],
      "source": [
        "at = { 'target': target, 'author': authors, 'description': description, 'cluster': clusters,'class':clas }\n",
        "\n",
        "clu = pd.DataFrame(at, index = [clusters] , columns = ['target', 'author', 'cluster','description','class'])"
      ]
    },
    {
      "cell_type": "code",
      "execution_count": null,
      "metadata": {
        "id": "td_E3JjiRNqT"
      },
      "outputs": [],
      "source": []
    },
    {
      "cell_type": "code",
      "execution_count": null,
      "metadata": {
        "id": "HyheG7j1RNqT",
        "outputId": "1e8ef13a-a697-47df-ca7d-fe186dc3436a"
      },
      "outputs": [
        {
          "data": {
            "text/plain": [
              "11    383\n",
              "7     223\n",
              "1     185\n",
              "5     176\n",
              "0     145\n",
              "10    143\n",
              "8     142\n",
              "3     121\n",
              "4     119\n",
              "9     116\n",
              "6     112\n",
              "2     101\n",
              "Name: cluster, dtype: int64"
            ]
          },
          "execution_count": 320,
          "metadata": {},
          "output_type": "execute_result"
        }
      ],
      "source": [
        "clu['cluster'].value_counts()"
      ]
    },
    {
      "cell_type": "code",
      "execution_count": null,
      "metadata": {
        "id": "yD5hKGzJRNqU",
        "outputId": "a4a43101-df47-44eb-d138-ea475f42bd8f",
        "scrolled": false
      },
      "outputs": [
        {
          "name": "stdout",
          "output_type": "stream",
          "text": [
            "Top terms per cluster:\n",
            "\n",
            "Cluster 0 words: b'dumps', b'passwords', b'usernames', b'records',\n",
            "\n",
            "Cluster 1 words: b'accounts', b'million', b'email', b'users',\n",
            "\n",
            "Cluster 2 words: b'malware', b'reveal', b'used', b'researchers',\n",
            "\n",
            "Cluster 3 words: b'website', b'anonymous', b'government', b'claims',\n",
            "\n",
            "Cluster 4 words: b'campaign', b'target', b'reveal', b'new',\n",
            "\n",
            "Cluster 5 words: b'breach', b'data', b'customers', b'security',\n",
            "\n",
            "Cluster 6 words: b'defaced', b'website', b'officials', b'group',\n",
            "\n",
            "Cluster 7 words: b'reveal', b'target', b'attacks', b'group',\n",
            "\n",
            "Cluster 8 words: b'information', b'personal', b'access', b'compromised',\n",
            "\n",
            "Cluster 9 words: b'ddos', b'attacks', b'ddos', b'website',\n",
            "\n",
            "Cluster 10 words: b'data', b'leaked', b'customers', b'compromised',\n",
            "\n",
            "Cluster 11 words: b'leaked', b'claims', b'database', b'anonymous',\n",
            "\n",
            "\n",
            "\n"
          ]
        }
      ],
      "source": [
        "#### from __future__ import print_function\n",
        "\n",
        "print(\"Top terms per cluster:\")\n",
        "print()\n",
        "#sort cluster centers by proximity to centroid\n",
        "order_centroids = km.cluster_centers_.argsort()[:, ::-1]\n",
        "\n",
        "for i in range(num_clusters):\n",
        "    print(\"Cluster %d words:\" % i, end='')\n",
        "\n",
        "    for ind in order_centroids[i, :4]: #replace 6 with n words per cluster\n",
        "        print(' %s' % vocab_frame.loc[terms[ind].split(' ')].values.tolist()[0][0].encode('utf-8', 'ignore'), end=',')\n",
        "    print() #add whitespace\n",
        "    print() #add whitespace\n",
        "\n",
        "#     print(\"Cluster %d titles:\" % i, end='')\n",
        "#     for title in clu.loc[i]['target'].values.tolist():\n",
        "#         print(' %s,' % title, end='')\n",
        "#     print() #add whitespace\n",
        "#     print() #add whitespace\n",
        "\n",
        "print()\n",
        "print()"
      ]
    },
    {
      "cell_type": "code",
      "execution_count": null,
      "metadata": {
        "id": "Gg-Y9mjhRNqU",
        "outputId": "d0d3d01a-fd52-4d6e-c12d-d4d2428dc9dc"
      },
      "outputs": [
        {
          "name": "stdout",
          "output_type": "stream",
          "text": [
            "\n",
            "\n"
          ]
        }
      ],
      "source": [
        "import os  # for os.path.basename\n",
        "\n",
        "import matplotlib.pyplot as plt\n",
        "import matplotlib as mpl\n",
        "\n",
        "from sklearn.manifold import MDS\n",
        "\n",
        "MDS()\n",
        "\n",
        "# convert two components as we're plotting points in a two-dimensional plane\n",
        "# \"precomputed\" because we provide a distance matrix\n",
        "# we will also specify `random_state` so the plot is reproducible.\n",
        "mds = MDS(n_components=2, dissimilarity=\"precomputed\", random_state=1)\n",
        "\n",
        "pos = mds.fit_transform(dist)  # shape (n_components, n_samples)\n",
        "\n",
        "xs, ys = pos[:, 0], pos[:, 1]\n",
        "print()\n",
        "print()\n"
      ]
    },
    {
      "cell_type": "code",
      "execution_count": null,
      "metadata": {
        "id": "9k8kEE-ORNqU"
      },
      "outputs": [],
      "source": [
        "cluster_colors = {0: '#3db5aa', 1: '#d15545', 2: '#781835', 3: '#ffa21f', 4: '#86b313', 5: '#ff00c1', 6: '#686765', 7: '#9270ff', 8: '#560c64', 9: '#887136', 10:'#67beff', 11: '#f94848'}\n",
        "\n",
        "#set up cluster names using a dict\n",
        "cluster_names = {0: 'dumps, passwords, usernames, records : 145',\n",
        "\n",
        "                 1: 'accounts, million, email, users : 185',\n",
        "\n",
        "                 2: 'malware, reveal, used, researchers : 101',\n",
        "\n",
        "                 3: 'website, anonymous, government, claims : 121',\n",
        "\n",
        "                 4: 'campaign, target, reveal, new : 119',\n",
        "\n",
        "                 5: 'breach, data, customers, security : 176',\n",
        "\n",
        "                 6: 'defaced, website, officials, group : 112',\n",
        "\n",
        "                 7: 'reveal, target, attacks, group : 221',\n",
        "\n",
        "                 8: 'information, personal, access, compromised : 142',\n",
        "\n",
        "                 9: 'ddos, attacks, website : 116',\n",
        "\n",
        "                 10: 'data, leaked, customers, compromised : 143',\n",
        "\n",
        "                 11: 'leaked, claims, database, anonymous : 383'}\n"
      ]
    },
    {
      "cell_type": "code",
      "execution_count": null,
      "metadata": {
        "collapsed": true,
        "id": "4mdiEM-sRNqU"
      },
      "outputs": [],
      "source": [
        "class TopToolbar(mpld3.plugins.PluginBase):\n",
        "    \"\"\"Plugin for moving toolbar to top of figure\"\"\"\n",
        "\n",
        "    JAVASCRIPT = \"\"\"\n",
        "    mpld3.register_plugin(\"toptoolbar\", TopToolbar);\n",
        "    TopToolbar.prototype = Object.create(mpld3.Plugin.prototype);\n",
        "    TopToolbar.prototype.constructor = TopToolbar;\n",
        "    function TopToolbar(fig, props){\n",
        "        mpld3.Plugin.call(this, fig, props);\n",
        "    };\n",
        "\n",
        "    TopToolbar.prototype.draw = function(){\n",
        "      // the toolbar svg doesn't exist\n",
        "      // yet, so first draw it\n",
        "      this.fig.toolbar.draw();\n",
        "\n",
        "      // then change the y position to be\n",
        "      // at the top of the figure\n",
        "      this.fig.toolbar.toolbar.attr(\"x\", 150);\n",
        "      this.fig.toolbar.toolbar.attr(\"y\", 400);\n",
        "\n",
        "      // then remove the draw function,\n",
        "      // so that it is not called again\n",
        "      this.fig.toolbar.draw = function() {}\n",
        "    }\n",
        "    \"\"\"\n",
        "    def __init__(self):\n",
        "        self.dict_ = {\"type\": \"toptoolbar\"}"
      ]
    },
    {
      "cell_type": "code",
      "execution_count": null,
      "metadata": {
        "id": "8JOgvp2uRNqU",
        "scrolled": true
      },
      "outputs": [],
      "source": [
        "#create data frame that has the result of the MDS plus the cluster numbers and titles\n",
        "df = pd.DataFrame(dict(x=xs, y=ys, label=clusters, title=target))\n",
        "\n",
        "#group by cluster\n",
        "groups = df.groupby('label')\n",
        "number = groups.agg({'title':'count'})\n",
        "\n",
        "#define custom css to format the font and to remove the axis labeling\n",
        "css = \"\"\"\n",
        "text.mpld3-text, div.mpld3-tooltip {\n",
        "  font-family:Arial, Helvetica, sans-serif;\n",
        "}\n",
        "\n",
        "g.mpld3-xaxis, g.mpld3-yaxis {\n",
        "display: none; }\n",
        "\n",
        "svg.mpld3-figure {\n",
        "margin-left: -200px;}\n",
        "\"\"\"\n",
        "\n",
        "# Plot\n",
        "fig, ax = plt.subplots(figsize=(24,12)) #set plot size\n",
        "ax.margins(0.03) # Optional, just adds 5% padding to the autoscaling\n",
        "\n",
        "#iterate through groups to layer the plot\n",
        "#note that I use the cluster_name and cluster_color dicts with the 'name' lookup to return the appropriate color/label\n",
        "for name, group in groups:\n",
        "    points = ax.plot (group.x, group.y, marker='o', linestyle='', ms=10,\n",
        "                     label=cluster_names[name], mec='none',\n",
        "                     color=cluster_colors[name])\n",
        "    ax.set_aspect('auto')\n",
        "    labels = [i for i in group.title]\n",
        "\n",
        "    #set tooltip using points, labels and the already defined 'css'\n",
        "    tooltip = mpld3.plugins.PointHTMLTooltip(points[0], labels,\n",
        "                                       voffset=20, hoffset=20, css=css)\n",
        "    #connect tooltip to fig\n",
        "    mpld3.plugins.connect(fig, tooltip, TopToolbar())\n",
        "\n",
        "    #set tick marks as blank\n",
        "    ax.axes.get_xaxis().set_ticks([])\n",
        "    ax.axes.get_yaxis().set_ticks([])\n",
        "\n",
        "    #set axis as blank\n",
        "    ax.axes.get_xaxis().set_visible(False)\n",
        "    ax.axes.get_yaxis().set_visible(False)\n",
        "\n",
        "\n",
        "ax.legend(numpoints=1,fontsize = 15) #show legend with only one dot\n",
        "\n",
        "\n",
        "mpld3.display() #show the plot\n",
        "\n",
        "#uncomment the below to export to html\n",
        "html = mpld3.fig_to_html(fig)\n",
        "Html_file= open(\"cluster2.html\",\"w\")\n",
        "Html_file.write(html)\n",
        "Html_file.close()"
      ]
    },
    {
      "cell_type": "code",
      "execution_count": null,
      "metadata": {
        "id": "ChJCgazxRNqV",
        "outputId": "4dec24fc-60d3-4547-f29f-8f1c02f53a80"
      },
      "outputs": [
        {
          "data": {
            "text/plain": [
              "<matplotlib.text.Text at 0x12bae7a20>"
            ]
          },
          "execution_count": 371,
          "metadata": {},
          "output_type": "execute_result"
        },
        {
          "data": {
            "image/png": "[encoded data removed]",
            "text/plain": [
              "<matplotlib.figure.Figure at 0x1291a1358>"
            ]
          },
          "metadata": {},
          "output_type": "display_data"
        },
        {
          "data": {
            "image/png": "[encoded data removed]",
            "text/plain": [
              "<matplotlib.figure.Figure at 0x12ba9a7f0>"
            ]
          },
          "metadata": {},
          "output_type": "display_data"
        }
      ],
      "source": [
        "K = range(1,25)\n",
        "\n",
        "KM = [KMeans(n_clusters=k).fit(tfidf_matrix) for k in K]\n",
        "\n",
        "\n",
        "from scipy.spatial.distance import cdist, pdist\n",
        "\n",
        "centroids = [k.cluster_centers_ for k in KM]\n",
        "D_k = [cdist(tfidf_matrix.toarray(), cent,'euclidean') for cent in centroids]\n",
        "cIdx = [np.argmin(D,axis=1) for D in D_k]\n",
        "dist = [np.min(D,axis=1) for D in D_k]\n",
        "avgWithinSS = [sum(d)/tfidf_matrix.shape[0] for d in dist]\n",
        "\n",
        "# Total with-in sum of square\n",
        "wcss = [sum(d**2) for d in dist]\n",
        "tss = sum(pdist(tfidf_matrix.toarray())**2)/tfidf_matrix.shape[0]\n",
        "bss = tss-wcss\n",
        "\n",
        "kIdx = 10-1\n",
        "\n",
        "# elbow curve\n",
        "fig = plt.figure(figsize=(12,6))\n",
        "ax = fig.add_subplot(111)\n",
        "ax.plot(K, avgWithinSS, 'b*-')\n",
        "ax.plot(K[kIdx], avgWithinSS[kIdx], marker='o', markersize=12,\n",
        "markeredgewidth=2, markeredgecolor='r', markerfacecolor='None')\n",
        "plt.grid(True)\n",
        "plt.xlabel('Number of clusters')\n",
        "plt.ylabel('Average within-cluster sum of squares')\n",
        "plt.title('Elbow for KMeans clustering')\n",
        "\n",
        "fig = plt.figure()\n",
        "ax = fig.add_subplot(111)\n",
        "ax.plot(K, bss/tss*100, 'b*-')\n",
        "plt.grid(True)\n",
        "plt.xlabel('Number of clusters')\n",
        "plt.ylabel('Percentage of variance explained')\n",
        "plt.title('Elbow for KMeans clustering')\n"
      ]
    },
    {
      "cell_type": "code",
      "execution_count": null,
      "metadata": {
        "id": "DBSsbDvrRNqV",
        "outputId": "22a8b317-42b7-42c0-a0be-34dfa850504e"
      },
      "outputs": [
        {
          "data": {
            "image/png": "[encoded data removed]",
            "text/plain": [
              "<matplotlib.figure.Figure at 0x1291be0b8>"
            ]
          },
          "metadata": {},
          "output_type": "display_data"
        }
      ],
      "source": [
        "from sklearn.metrics import silhouette_score\n",
        "\n",
        "s = []\n",
        "for n_clusters in range(2,30):\n",
        "    kmeans = KMeans(n_clusters=n_clusters)\n",
        "    kmeans.fit(tfidf_matrix)\n",
        "\n",
        "    labels = kmeans.labels_\n",
        "    centroids = kmeans.cluster_centers_\n",
        "\n",
        "    s.append(silhouette_score(tfidf_matrix, labels))\n",
        "\n",
        "plt.figure(figsize=(12,6))\n",
        "plt.plot(s)\n",
        "plt.ylabel(\"Silhouette\")\n",
        "plt.xlabel(\"k\")\n",
        "plt.title(\"Silhouette for K-means cell's behaviour\")\n",
        "sns.despine()"
      ]
    },
    {
      "cell_type": "code",
      "execution_count": null,
      "metadata": {
        "id": "QCm7VUgmRNqV"
      },
      "outputs": [],
      "source": []
    },
    {
      "cell_type": "code",
      "execution_count": null,
      "metadata": {
        "id": "H1GtnsTnRNqV",
        "outputId": "3596e849-0f8e-4e27-923e-19739fc4b1d7"
      },
      "outputs": [
        {
          "data": {
            "text/html": [
              "<div>\n",
              "<style>\n",
              "    .dataframe thead tr:only-child th {\n",
              "        text-align: right;\n",
              "    }\n",
              "\n",
              "    .dataframe thead th {\n",
              "        text-align: left;\n",
              "    }\n",
              "\n",
              "    .dataframe tbody tr th {\n",
              "        vertical-align: top;\n",
              "    }\n",
              "</style>\n",
              "<table border=\"1\" class=\"dataframe\">\n",
              "  <thead>\n",
              "    <tr style=\"text-align: right;\">\n",
              "      <th></th>\n",
              "      <th>title</th>\n",
              "    </tr>\n",
              "    <tr>\n",
              "      <th>label</th>\n",
              "      <th></th>\n",
              "    </tr>\n",
              "  </thead>\n",
              "  <tbody>\n",
              "    <tr>\n",
              "      <th>11</th>\n",
              "      <td>383</td>\n",
              "    </tr>\n",
              "    <tr>\n",
              "      <th>7</th>\n",
              "      <td>221</td>\n",
              "    </tr>\n",
              "    <tr>\n",
              "      <th>1</th>\n",
              "      <td>185</td>\n",
              "    </tr>\n",
              "    <tr>\n",
              "      <th>5</th>\n",
              "      <td>176</td>\n",
              "    </tr>\n",
              "    <tr>\n",
              "      <th>0</th>\n",
              "      <td>145</td>\n",
              "    </tr>\n",
              "    <tr>\n",
              "      <th>10</th>\n",
              "      <td>143</td>\n",
              "    </tr>\n",
              "    <tr>\n",
              "      <th>8</th>\n",
              "      <td>142</td>\n",
              "    </tr>\n",
              "    <tr>\n",
              "      <th>3</th>\n",
              "      <td>121</td>\n",
              "    </tr>\n",
              "    <tr>\n",
              "      <th>4</th>\n",
              "      <td>119</td>\n",
              "    </tr>\n",
              "    <tr>\n",
              "      <th>9</th>\n",
              "      <td>116</td>\n",
              "    </tr>\n",
              "    <tr>\n",
              "      <th>6</th>\n",
              "      <td>112</td>\n",
              "    </tr>\n",
              "    <tr>\n",
              "      <th>2</th>\n",
              "      <td>101</td>\n",
              "    </tr>\n",
              "  </tbody>\n",
              "</table>\n",
              "</div>"
            ],
            "text/plain": [
              "       title\n",
              "label       \n",
              "11       383\n",
              "7        221\n",
              "1        185\n",
              "5        176\n",
              "0        145\n",
              "10       143\n",
              "8        142\n",
              "3        121\n",
              "4        119\n",
              "9        116\n",
              "6        112\n",
              "2        101"
            ]
          },
          "execution_count": 901,
          "metadata": {},
          "output_type": "execute_result"
        }
      ],
      "source": [
        "groups.agg({'title':'count'}).sort_values('title',ascending=False)"
      ]
    },
    {
      "cell_type": "code",
      "execution_count": null,
      "metadata": {
        "collapsed": true,
        "id": "ayyOZfgMRNqV"
      },
      "outputs": [],
      "source": []
    }
  ],
  "metadata": {
    "colab": {
      "provenance": []
    },
    "kernelspec": {
      "display_name": "Python 3",
      "language": "python",
      "name": "python3"
    },
    "language_info": {
      "codemirror_mode": {
        "name": "ipython",
        "version": 3
      },
      "file_extension": ".py",
      "mimetype": "text/x-python",
      "name": "python",
      "nbconvert_exporter": "python",
      "pygments_lexer": "ipython3",
      "version": "3.6.0"
    }
  },
  "nbformat": 4,
  "nbformat_minor": 0
}
